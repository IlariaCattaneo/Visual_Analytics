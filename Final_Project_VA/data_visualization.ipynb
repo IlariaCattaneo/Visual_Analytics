import pandas as pd
import plotly.express as px
import warnings
import plotly.graph_objects as go
import plotly.io as pio
import dash
#import dash_core_components as dcc
from dash import dcc
from dash import html

# MAKE SURE YOU USE YOUR PATH TO DATASETS CORRECTLY
temperature_var = pd.read_csv('/Users/timurtaepov/Desktop/SP2023/Visual_Analytics/Final_Project/es_data/csv/temperature_var.csv')
production_cereal = pd.read_csv('/Users/timurtaepov/Desktop/SP2023/Visual_Analytics/Final_Project/es_data/csv/production_cereal.csv')
gdp = pd.read_csv('/Users/timurtaepov/Desktop/SP2023/Visual_Analytics/Final_Project/es_data/csv/gdp.csv')
population = pd.read_csv('/Users/timurtaepov/Desktop/SP2023/Visual_Analytics/Final_Project/es_data/csv/population.csv')
emission_share = pd.read_csv('/Users/timurtaepov/Desktop/SP2023/Visual_Analytics/Final_Project/es_data/csv/emission_share.csv')
employement_agr = pd.read_csv('/Users/timurtaepov/Desktop/SP2023/Visual_Analytics/Final_Project/es_data/csv/employement_agr.csv')
precipitations = pd.read_csv('/Users/timurtaepov/Desktop/SP2023/Visual_Analytics/Final_Project/es_data/csv/precipitations.csv')
temperature_data = pd.read_csv('/Users/timurtaepov/Desktop/SP2023/Visual_Analytics/Final_Project/archive/GlobalLandTemperaturesByCountry.csv')

precipitations = precipitations.rename(columns={'Entity':'Area'})
production_cereal_temperature = pd.merge(temperature_var, production_cereal, on=['Area', 'Year'])
production_cereal_precipitation = pd.merge(production_cereal, precipitations, on=['Area', 'Year'])
merged_data = pd.merge(production_cereal_precipitation, gdp, on=['Area', 'Year'])
merged_data = merged_data.rename(columns={'Element_x':'Production', 'Item_x' : 'Type of Production', 'Unit_x' : 'Unit_Production', 'Value_x':'Value_Production', 'Element_y':'Currency', 'Item_y':'Name of metric',
                                          'Unit_y' : 'Unit_Millions', 'Value_y':'GDP'})


# FIRST GRAPH
warnings.filterwarnings("ignore")

map_data_1 = production_cereal_temperature[['Area', 'Year', 'Value_x', 'Unit_y', 'Value_y']]

# Convert the data types to ensure proper plotting
map_data_1['Year'] = pd.to_datetime(map_data_1['Year'], format='%Y').dt.strftime('%Y')
map_data_1['Value_x'] = pd.to_numeric(map_data_1['Value_x'])
map_data_1['Value_y'] = pd.to_numeric(map_data_1['Value_y'])

# Determine the range of the temperature values
temperature_range = [map_data_1['Value_x'].min(), map_data_1['Value_x'].max()]

# Create the choropleth map figure
fig1 = px.choropleth(
    map_data_1,
    locations='Area',
    locationmode='country names',
    color='Value_x',
    hover_name='Area',
    hover_data=['Year', 'Value_x', 'Unit_y', 'Value_y'],
    animation_frame='Year',
    color_continuous_scale='Viridis',
    range_color=temperature_range,
    title='Temperature and Amount of Cereals by Country and Year',
    labels={'Value_x': 'Temperature (°C)'}
)

# Add Value_y and Unit_y as text annotations
fig1.update_traces(
    text=map_data_1['Value_y'].astype(str) + ' ' + map_data_1['Unit_y'],
    hovertemplate='<b>%{hovertext}</b><br>Temperature: %{z:.2f}°C<br>Value: %{text}'
)

# Customize the layout
fig1.update_layout(
    margin=dict(l=0, r=0, t=50, b=0),
    geo=dict(showframe=False, showcoastlines=False, projection_type='equirectangular'),
    coloraxis_colorbar=dict(title='Temperature (°C)'),
    coloraxis_colorbar_len=0.5,
    width=1280,
    height=720
)


# SECOND GRAPH
# Create a new DataFrame for the choropleth map
map_data = production_cereal_precipitation[['Area', 'Year', 'Value', 'Average precipitation in depth (mm per year)']]

# Convert the data types to ensure proper plotting
map_data.loc[:, 'Average precipitation in depth (mm per year)'] = pd.to_numeric(map_data['Average precipitation in depth (mm per year)'])

# Get unique years from Year_x column
years = sorted(map_data['Year'].unique())

# Create the dashboard choropleth map
fig2 = go.Figure()

# Iterate over each year
for year in years:
    # Filter the data for the current year
    year_data = map_data[map_data['Year'] == year]

    # Create the choropleth map trace for the current year
    fig2.add_trace(
        go.Choropleth(
            locations=year_data['Area'],
            locationmode='country names',
            z=year_data['Average precipitation in depth (mm per year)'],
            colorscale='Blues',
            zmin=0,
            zmax=map_data['Average precipitation in depth (mm per year)'].max(),
            colorbar=dict(title='Average Precipitation (mm/year)'),
            hovertemplate='<b>%{location}</b><br>Value: %{customdata:.2f}<br>Precipitation: %{z:.2f} mm/year',
            customdata=year_data['Value']
        )
    )

# Configure the layout
fig2.update_layout(
    title='Production of cereals and Average Precipitation by Country and Year',
    geo=dict(showframe=False, showcoastlines=False, projection_type='equirectangular'),
    sliders=[
        {
            'currentvalue': {'prefix': 'Year: '},
            'steps': [{'method': 'update', 'label': str(year), 'args': [{'visible': [year == y for y in map_data['Year'].unique()]}]} for year in years],
            'transition': {'duration': 500},
            'pad': {'t': 50}
        }
    ],
    width=1280,
    height=720
)

# THIRD GRAPH
# Create a list of unique countries
countries = production_cereal['Area'].unique()

# Create a dropdown filter for selecting a country
dropdown_filter = go.layout.Updatemenu(
    buttons=list([
        dict(
            method='update',
            args=[{'visible': [country == c for c in countries]}],
            label=country
        ) for country in countries
    ]),
    active=0,  # Set the initial active index
    showactive=True,
)

# Create the line chart using Plotly Express
fig3 = px.line(
    production_cereal,
    x='Year',
    y='Value',
    color='Item',
    line_group='Area',
    labels={'Value': 'Crop Yield'},
    title='Crop Yields Over Time',
    hover_data=['Area', 'Item']
)

# Add the dropdown filter to the layout
fig3.update_layout(
    updatemenus=[dropdown_filter],
    hovermode='x',
    xaxis=dict(title='Year'),
    yaxis=dict(title='Crop Yield'),
    legend=dict(title='Item'),
)

# FOURTH GRAPH
# Create a list of unique countries
gdp_value_production = merged_data[['Year', 'Area', 'GDP', 'Value_Production']]

countries = gdp_value_production['Area'].unique()

# Create a dropdown filter for selecting a country
dropdown_filter = go.layout.Updatemenu(
    buttons=list([
        dict(
            method='update',
            args=[{'visible': [country == c for c in countries]}],
            label=country
        ) for country in countries
    ]),
    active=0,  # Set the initial active index
    showactive=True,
)

# Create the line chart using Plotly Express
fig4 = px.line(
    gdp_value_production,
    x='Year',
    y='GDP',
    color='Area',
    labels={'GDP': 'GDP', 'Year': 'Year'},
    title='GDP over years',
    hover_data=['Area', 'Value_Production']
)

# Add custom hover text for each data point
hover_text = [f"Value_Production: {val:.2f}" for val in gdp_value_production['Value_Production']]
fig4.data[0].hovertemplate = (
    '<br>'.join([
        'Year: %{x}',
        'GDP: %{y}',
        '%{hovertext}'
    ])
)

# Add the dropdown filter to the layout
fig4.update_layout(
    updatemenus=[dropdown_filter],
    xaxis=dict(title='Year'),
    yaxis=dict(title='GDP'),
    legend=dict(title='Area'),
)

# FIFTH GRAPH
# Convert 'dt' column to datetime
temperature_data['dt'] = pd.to_datetime(temperature_data['dt'])

# Filter rows based on the condition
temperature_data = temperature_data[temperature_data['dt'].dt.year >= 1961]

# Reset the index after deleting rows
temperature_data = temperature_data.reset_index(drop=True)

# Compute yearly average temperature for each country
df_avg = temperature_data.groupby(['Country', temperature_data['dt'].dt.year])['AverageTemperature'].mean().reset_index()

# First we create an empty Figure
fig5 = go.Figure()

# For each country we add a trace to the figure
for country in df_avg['Country'].unique():
    fig5.add_trace(
        go.Scatter(
            x = df_avg[df_avg['Country'] == country]['dt'],
            y = df_avg[df_avg['Country'] == country]['AverageTemperature'],
            mode = 'lines',
            name = country,
            visible = "legendonly"  # This makes the trace visible only when clicked in legend
        )
    )

# Now we create a dropdown menu
# Note that each option in the dropdown menu corresponds to a trace (i.e., a country)
dropdown = []
for country in df_avg['Country'].unique():
    dropdown.append(
        dict(
            args = ['visible', [country == i for i in df_avg['Country'].unique()]],
            label = country,
            method = 'restyle'
        )
    )

# We add the dropdown menu to the layout
fig5.update_layout(
    updatemenus = [
        go.layout.Updatemenu(
            buttons = dropdown,
            direction = "down",
            pad = {"r": 10, "t": 10},
            showactive = True,
            x = 0.1,
            xanchor = "left",
            y = 1.1,
            yanchor = "top"
        ),
    ],
    title = "Temperature variation over the years",
    xaxis_title = "Year",
    yaxis_title = "Average Temperature",
)

#fig5.show()

# SIXTH GRAPH

df_cereal = production_cereal_temperature

# First we create an empty Figure
fig6 = go.Figure()


# For each country we add a trace to the figure
for country in df_cereal['Area'].unique():
    fig6.add_trace(
        go.Scatter(
            x = df_cereal[df_cereal['Area'] == country]['Year'],
            y = df_cereal[df_cereal['Area'] == country]['Value_y'],
            mode = 'lines',
            name = country,
            visible = "legendonly"  # This makes the trace visible only when clicked in legend
        )
    )

# Now we create a dropdown menu
# Note that each option in the dropdown menu corresponds to a trace (i.e., a country)
dropdown = []
for country in df_cereal['Area'].unique():
    dropdown.append(
        dict(
            args = ['visible', [country == i for i in df_cereal['Area'].unique()]],
            label = country,
            method = 'restyle'
        )
    )

# We add the dropdown menu to the layout
fig6.update_layout(
    updatemenus = [
        go.layout.Updatemenu(
            buttons = dropdown,
            direction = "down",
            pad = {"r": 10, "t": 10},
            showactive = True,
            x = 0.1,
            xanchor = "left",
            y = 1.1,
            yanchor = "top"
        ),
    ],
    title = "Cereal production over the years",
    xaxis_title = "Year",
    yaxis_title = "Cereal Production (tonnes)",
)

#fig6.show()

# SEVENTH GRAPH

df_emissions = emission_share[emission_share['Entity'] != 'World']
df_emissions = emission_share[emission_share['Year'] >= 1950]

fig7 = go.Figure()

# Compute global min and max share of CO2 emissions across all years
global_min = df_emissions['Share of global annual CO₂ emissions'].min()
global_max = df_emissions['Share of global annual CO₂ emissions'].max()

# For each year we add a choropleth to the figure
for year in df_emissions['Year'].unique():
    fig7.add_trace(
        go.Choropleth(
            locations = df_emissions[df_emissions['Year'] == year]['Code'],
            z = df_emissions[df_emissions['Year'] == year]['Share of global annual CO₂ emissions'],
            zmin = global_min,  # Set minimum of color scale
            zmax = global_max,  # Set maximum of color scale
            text = df_emissions[df_emissions['Year'] == year]['Entity'],
            visible = (year == df_emissions['Year'].min()),  # Only the first year is visible
            autocolorscale = True,
            name = str(year)
        )
    )

# Now we create a slider
steps = []
for i, year in enumerate(df_emissions['Year'].unique()):
    step = dict(
        method = 'restyle',
        args = ['visible', [False] * len(df_emissions['Year'].unique())],
        label = str(year)
    )
    step['args'][1][i] = True  # Toggle i'th trace to "visible"
    steps.append(step)

sliders = [dict(
    active = 0,
    currentvalue = {"prefix": "Year: "},
    pad = {"t": 50},
    steps = steps
)]

fig7.update_layout(
    sliders=sliders,
    title_text = 'Share of global annual CO₂ emissions over the years',
    geo=dict(
        showframe=False,
        showcoastlines=False,
        projection_type='equirectangular'
    ),
    width=1280,
    height=720
)

#fig7.show()


app = dash.Dash(__name__)

app.layout = html.Div(children=[
    html.H1('Data Visualizations'),
    dcc.Graph(
        id='graphic-1',
        figure=fig1
    ),
    dcc.Graph(
        id='graphic-2',
        figure=fig2
    ),
    dcc.Graph(
        id='graphic-3',
        figure=fig3
    ),
    dcc.Graph(
        id='graphic-4',
        figure=fig4
    ),
    dcc.Graph(
        id='graphic-5',
        figure=fig5
    ),
    dcc.Graph(
        id='graphic-6',
        figure=fig6
    ),
    dcc.Graph(
        id='graphic-7',
        figure=fig7
    ),
])

if __name__ == '__main__':
    app.run_server(debug=True, port=8055)



