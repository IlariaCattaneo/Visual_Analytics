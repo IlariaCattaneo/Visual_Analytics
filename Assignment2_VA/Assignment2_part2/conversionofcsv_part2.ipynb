{
 "cells": [
  {
   "cell_type": "code",
   "execution_count": 1,
   "metadata": {},
   "outputs": [],
   "source": [
    "import csv\n",
    "import json\n",
    "\n",
    "# Open the csv file, remove the first column of the dataset, then save it as a new csv file\n",
    "with open('restaurants_extended.csv', 'r') as csvfile:\n",
    "    reader = csv.reader(csvfile)\n",
    "    your_list = list(reader)\n",
    "    for row in your_list:\n",
    "        del row[0]\n",
    "    with open('restaurants_extended2.csv', 'w') as f:\n",
    "        writer = csv.writer(f)\n",
    "        writer.writerows(your_list)"
   ]
  },
  {
   "cell_type": "code",
   "execution_count": null,
   "metadata": {},
   "outputs": [],
   "source": [
    "import ast\n",
    "import sys\n",
    "\n",
    "# Open the csv file and convert it to a list of dictionaries\n",
    "jsonfile = open('restaurants_extended.json', 'w')\n",
    "with open('restaurants_extended2.csv', 'r') as csvfile:\n",
    "    reader = csv.DictReader(csvfile)\n",
    "    for row in reader:\n",
    "        document = {}\n",
    "        for column, value in row.items():\n",
    "            if column == 'RestaurantName':\n",
    "                document[column] = value\n",
    "            elif column == 'City/Country/Continent':\n",
    "                document[column] = value\n",
    "            elif column == 'AverageCostForTwo':\n",
    "                document[column] = int(value)\n",
    "            elif column == 'AggregateRating':\n",
    "                document[column] = float(value)\n",
    "            elif column == 'RatingText':\n",
    "                document[column] = value\n",
    "            elif column == 'Votes':\n",
    "                document[column] = float(value)\n",
    "            elif column == 'Date':\n",
    "                document[column] = value\n",
    "            elif column == 'Coordinates':\n",
    "                res = ast.literal_eval(value)\n",
    "                document[column] = res\n",
    "                \n",
    "        jsonfile.write(json.dumps(document))\n",
    "        jsonfile.write('\\n')"
   ]
  }
 ],
 "metadata": {
  "kernelspec": {
   "display_name": "VAA",
   "language": "python",
   "name": "vaa"
  },
  "language_info": {
   "codemirror_mode": {
    "name": "ipython",
    "version": 3
   },
   "file_extension": ".py",
   "mimetype": "text/x-python",
   "name": "python",
   "nbconvert_exporter": "python",
   "pygments_lexer": "ipython3",
   "version": "3.9.13"
  },
  "orig_nbformat": 4
 },
 "nbformat": 4,
 "nbformat_minor": 2
}
