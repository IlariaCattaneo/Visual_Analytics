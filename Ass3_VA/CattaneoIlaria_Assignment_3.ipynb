{
 "cells": [
  {
   "attachments": {},
   "cell_type": "markdown",
   "id": "23b48f71",
   "metadata": {},
   "source": [
    "# S&DE Atelier - Visual Analytics\n",
    "\n",
    "# Assignment 3\n",
    "\n",
    "**Due** June 2, 2023 @23:55\n",
    "\n",
    "**Contacts**: [marco.dambros@usi.ch](mailto:marco.dambros@usi.ch) - [carmen.armenti@usi.ch](mailto:carmen.armenti@usi.ch)\n",
    "\n",
    "---\n",
    "\n",
    "The goal of this assignment is to use Spark in Jupyter notebooks (PySpark). The files `trip_data.csv`, `trip_fare.csv` and `nyc_boroughs.geojson` can be found in the following folder: [Assignment3-data](https://usi365-my.sharepoint.com/:f:/g/personal/armenc_usi_ch/Ejp7sb8QAMROoWe0XUDcAkMBoqUFk-w2Vgroup025NhAww?e=TFG5CD). You should clean the data if needed. \n",
    "\n",
    "Note that you can use Spark [window functions](https://spark.apache.org/docs/latest/sql-ref-syntax-qry-select-window.html) whenever applicable.  \n",
    "\n",
    "Please name your file as `SurnameName_Assignment3.ipynb`."
   ]
  },
  {
   "cell_type": "code",
   "execution_count": 2,
   "id": "463f20f4",
   "metadata": {},
   "outputs": [
    {
     "data": {
      "text/html": [
       "<div class=\"bk-root\">\n",
       "        <a href=\"https://bokeh.org\" target=\"_blank\" class=\"bk-logo bk-logo-small bk-logo-notebook\"></a>\n",
       "        <span id=\"1003\">Loading BokehJS ...</span>\n",
       "    </div>\n"
      ]
     },
     "metadata": {},
     "output_type": "display_data"
    },
    {
     "data": {
      "application/javascript": "(function(root) {\n  function now() {\n    return new Date();\n  }\n\n  const force = true;\n\n  if (typeof root._bokeh_onload_callbacks === \"undefined\" || force === true) {\n    root._bokeh_onload_callbacks = [];\n    root._bokeh_is_loading = undefined;\n  }\n\nconst JS_MIME_TYPE = 'application/javascript';\n  const HTML_MIME_TYPE = 'text/html';\n  const EXEC_MIME_TYPE = 'application/vnd.bokehjs_exec.v0+json';\n  const CLASS_NAME = 'output_bokeh rendered_html';\n\n  /**\n   * Render data to the DOM node\n   */\n  function render(props, node) {\n    const script = document.createElement(\"script\");\n    node.appendChild(script);\n  }\n\n  /**\n   * Handle when an output is cleared or removed\n   */\n  function handleClearOutput(event, handle) {\n    const cell = handle.cell;\n\n    const id = cell.output_area._bokeh_element_id;\n    const server_id = cell.output_area._bokeh_server_id;\n    // Clean up Bokeh references\n    if (id != null && id in Bokeh.index) {\n      Bokeh.index[id].model.document.clear();\n      delete Bokeh.index[id];\n    }\n\n    if (server_id !== undefined) {\n      // Clean up Bokeh references\n      const cmd_clean = \"from bokeh.io.state import curstate; print(curstate().uuid_to_server['\" + server_id + \"'].get_sessions()[0].document.roots[0]._id)\";\n      cell.notebook.kernel.execute(cmd_clean, {\n        iopub: {\n          output: function(msg) {\n            const id = msg.content.text.trim();\n            if (id in Bokeh.index) {\n              Bokeh.index[id].model.document.clear();\n              delete Bokeh.index[id];\n            }\n          }\n        }\n      });\n      // Destroy server and session\n      const cmd_destroy = \"import bokeh.io.notebook as ion; ion.destroy_server('\" + server_id + \"')\";\n      cell.notebook.kernel.execute(cmd_destroy);\n    }\n  }\n\n  /**\n   * Handle when a new output is added\n   */\n  function handleAddOutput(event, handle) {\n    const output_area = handle.output_area;\n    const output = handle.output;\n\n    // limit handleAddOutput to display_data with EXEC_MIME_TYPE content only\n    if ((output.output_type != \"display_data\") || (!Object.prototype.hasOwnProperty.call(output.data, EXEC_MIME_TYPE))) {\n      return\n    }\n\n    const toinsert = output_area.element.find(\".\" + CLASS_NAME.split(' ')[0]);\n\n    if (output.metadata[EXEC_MIME_TYPE][\"id\"] !== undefined) {\n      toinsert[toinsert.length - 1].firstChild.textContent = output.data[JS_MIME_TYPE];\n      // store reference to embed id on output_area\n      output_area._bokeh_element_id = output.metadata[EXEC_MIME_TYPE][\"id\"];\n    }\n    if (output.metadata[EXEC_MIME_TYPE][\"server_id\"] !== undefined) {\n      const bk_div = document.createElement(\"div\");\n      bk_div.innerHTML = output.data[HTML_MIME_TYPE];\n      const script_attrs = bk_div.children[0].attributes;\n      for (let i = 0; i < script_attrs.length; i++) {\n        toinsert[toinsert.length - 1].firstChild.setAttribute(script_attrs[i].name, script_attrs[i].value);\n        toinsert[toinsert.length - 1].firstChild.textContent = bk_div.children[0].textContent\n      }\n      // store reference to server id on output_area\n      output_area._bokeh_server_id = output.metadata[EXEC_MIME_TYPE][\"server_id\"];\n    }\n  }\n\n  function register_renderer(events, OutputArea) {\n\n    function append_mime(data, metadata, element) {\n      // create a DOM node to render to\n      const toinsert = this.create_output_subarea(\n        metadata,\n        CLASS_NAME,\n        EXEC_MIME_TYPE\n      );\n      this.keyboard_manager.register_events(toinsert);\n      // Render to node\n      const props = {data: data, metadata: metadata[EXEC_MIME_TYPE]};\n      render(props, toinsert[toinsert.length - 1]);\n      element.append(toinsert);\n      return toinsert\n    }\n\n    /* Handle when an output is cleared or removed */\n    events.on('clear_output.CodeCell', handleClearOutput);\n    events.on('delete.Cell', handleClearOutput);\n\n    /* Handle when a new output is added */\n    events.on('output_added.OutputArea', handleAddOutput);\n\n    /**\n     * Register the mime type and append_mime function with output_area\n     */\n    OutputArea.prototype.register_mime_type(EXEC_MIME_TYPE, append_mime, {\n      /* Is output safe? */\n      safe: true,\n      /* Index of renderer in `output_area.display_order` */\n      index: 0\n    });\n  }\n\n  // register the mime type if in Jupyter Notebook environment and previously unregistered\n  if (root.Jupyter !== undefined) {\n    const events = require('base/js/events');\n    const OutputArea = require('notebook/js/outputarea').OutputArea;\n\n    if (OutputArea.prototype.mime_types().indexOf(EXEC_MIME_TYPE) == -1) {\n      register_renderer(events, OutputArea);\n    }\n  }\n  if (typeof (root._bokeh_timeout) === \"undefined\" || force === true) {\n    root._bokeh_timeout = Date.now() + 5000;\n    root._bokeh_failed_load = false;\n  }\n\n  const NB_LOAD_WARNING = {'data': {'text/html':\n     \"<div style='background-color: #fdd'>\\n\"+\n     \"<p>\\n\"+\n     \"BokehJS does not appear to have successfully loaded. If loading BokehJS from CDN, this \\n\"+\n     \"may be due to a slow or bad network connection. Possible fixes:\\n\"+\n     \"</p>\\n\"+\n     \"<ul>\\n\"+\n     \"<li>re-rerun `output_notebook()` to attempt to load from CDN again, or</li>\\n\"+\n     \"<li>use INLINE resources instead, as so:</li>\\n\"+\n     \"</ul>\\n\"+\n     \"<code>\\n\"+\n     \"from bokeh.resources import INLINE\\n\"+\n     \"output_notebook(resources=INLINE)\\n\"+\n     \"</code>\\n\"+\n     \"</div>\"}};\n\n  function display_loaded() {\n    const el = document.getElementById(\"1003\");\n    if (el != null) {\n      el.textContent = \"BokehJS is loading...\";\n    }\n    if (root.Bokeh !== undefined) {\n      if (el != null) {\n        el.textContent = \"BokehJS \" + root.Bokeh.version + \" successfully loaded.\";\n      }\n    } else if (Date.now() < root._bokeh_timeout) {\n      setTimeout(display_loaded, 100)\n    }\n  }\n\n  function run_callbacks() {\n    try {\n      root._bokeh_onload_callbacks.forEach(function(callback) {\n        if (callback != null)\n          callback();\n      });\n    } finally {\n      delete root._bokeh_onload_callbacks\n    }\n    console.debug(\"Bokeh: all callbacks have finished\");\n  }\n\n  function load_libs(css_urls, js_urls, callback) {\n    if (css_urls == null) css_urls = [];\n    if (js_urls == null) js_urls = [];\n\n    root._bokeh_onload_callbacks.push(callback);\n    if (root._bokeh_is_loading > 0) {\n      console.debug(\"Bokeh: BokehJS is being loaded, scheduling callback at\", now());\n      return null;\n    }\n    if (js_urls == null || js_urls.length === 0) {\n      run_callbacks();\n      return null;\n    }\n    console.debug(\"Bokeh: BokehJS not loaded, scheduling load and callback at\", now());\n    root._bokeh_is_loading = css_urls.length + js_urls.length;\n\n    function on_load() {\n      root._bokeh_is_loading--;\n      if (root._bokeh_is_loading === 0) {\n        console.debug(\"Bokeh: all BokehJS libraries/stylesheets loaded\");\n        run_callbacks()\n      }\n    }\n\n    function on_error(url) {\n      console.error(\"failed to load \" + url);\n    }\n\n    for (let i = 0; i < css_urls.length; i++) {\n      const url = css_urls[i];\n      const element = document.createElement(\"link\");\n      element.onload = on_load;\n      element.onerror = on_error.bind(null, url);\n      element.rel = \"stylesheet\";\n      element.type = \"text/css\";\n      element.href = url;\n      console.debug(\"Bokeh: injecting link tag for BokehJS stylesheet: \", url);\n      document.body.appendChild(element);\n    }\n\n    for (let i = 0; i < js_urls.length; i++) {\n      const url = js_urls[i];\n      const element = document.createElement('script');\n      element.onload = on_load;\n      element.onerror = on_error.bind(null, url);\n      element.async = false;\n      element.src = url;\n      console.debug(\"Bokeh: injecting script tag for BokehJS library: \", url);\n      document.head.appendChild(element);\n    }\n  };\n\n  function inject_raw_css(css) {\n    const element = document.createElement(\"style\");\n    element.appendChild(document.createTextNode(css));\n    document.body.appendChild(element);\n  }\n\n  const js_urls = [\"https://cdn.bokeh.org/bokeh/release/bokeh-2.4.3.min.js\", \"https://cdn.bokeh.org/bokeh/release/bokeh-gl-2.4.3.min.js\", \"https://cdn.bokeh.org/bokeh/release/bokeh-widgets-2.4.3.min.js\", \"https://cdn.bokeh.org/bokeh/release/bokeh-tables-2.4.3.min.js\", \"https://cdn.bokeh.org/bokeh/release/bokeh-mathjax-2.4.3.min.js\"];\n  const css_urls = [];\n\n  const inline_js = [    function(Bokeh) {\n      Bokeh.set_log_level(\"info\");\n    },\nfunction(Bokeh) {\n    }\n  ];\n\n  function run_inline_js() {\n    if (root.Bokeh !== undefined || force === true) {\n          for (let i = 0; i < inline_js.length; i++) {\n      inline_js[i].call(root, root.Bokeh);\n    }\nif (force === true) {\n        display_loaded();\n      }} else if (Date.now() < root._bokeh_timeout) {\n      setTimeout(run_inline_js, 100);\n    } else if (!root._bokeh_failed_load) {\n      console.log(\"Bokeh: BokehJS failed to load within specified timeout.\");\n      root._bokeh_failed_load = true;\n    } else if (force !== true) {\n      const cell = $(document.getElementById(\"1003\")).parents('.cell').data().cell;\n      cell.output_area.append_execute_result(NB_LOAD_WARNING)\n    }\n  }\n\n  if (root._bokeh_is_loading === 0) {\n    console.debug(\"Bokeh: BokehJS loaded, going straight to plotting\");\n    run_inline_js();\n  } else {\n    load_libs(css_urls, js_urls, function() {\n      console.debug(\"Bokeh: BokehJS plotting callback run at\", now());\n      run_inline_js();\n    });\n  }\n}(window));",
      "application/vnd.bokehjs_load.v0+json": ""
     },
     "metadata": {},
     "output_type": "display_data"
    }
   ],
   "source": [
    "from pyspark import SparkContext, SQLContext, SparkConf\n",
    "from pyspark.sql import SparkSession, Row, DataFrame, Column, GroupedData, DataFrameNaFunctions, DataFrameStatFunctions, Window\n",
    "import pyspark.sql.functions as F\n",
    "from pyspark.sql.functions import *\n",
    "from pyspark.sql.types import *\n",
    "import pyarrow\n",
    "import pyspark.pandas as ps\n",
    "import geopandas as gpd\n",
    "import pandas as pd\n",
    "from shapely.geometry import Point, Polygon\n",
    "from shapely.ops import unary_union\n",
    "import json\n",
    "import numpy as np\n",
    "import seaborn as sns\n",
    "from math import *\n",
    "import matplotlib.pyplot as plt\n",
    "from bokeh.plotting import * \n",
    "from bokeh.models import * \n",
    "from bokeh.layouts import * \n",
    "from bokeh.models.widgets import *\n",
    "from bokeh.palettes import Spectral6, Pastel1, Category20c, Inferno256, Reds256, Greens256, Blues256, Viridis256, Magma256, Plasma256, Cividis256, Category20\n",
    "from bokeh.transform import *\n",
    "\n",
    "session = SparkSession.builder.appName('Assignment_3_IC').getOrCreate()\n",
    "sc = SparkContext.getOrCreate()\n",
    "\n",
    "output_notebook()"
   ]
  },
  {
   "cell_type": "code",
   "execution_count": 3,
   "id": "5c6e12fd",
   "metadata": {},
   "outputs": [
    {
     "data": {
      "text/html": [
       "\n",
       "            <div>\n",
       "                <p><b>SparkSession - in-memory</b></p>\n",
       "                \n",
       "        <div>\n",
       "            <p><b>SparkContext</b></p>\n",
       "\n",
       "            <p><a href=\"http://usi-ilarias-mbp.usilu.net:4040\">Spark UI</a></p>\n",
       "\n",
       "            <dl>\n",
       "              <dt>Version</dt>\n",
       "                <dd><code>v3.4.0</code></dd>\n",
       "              <dt>Master</dt>\n",
       "                <dd><code>local[*]</code></dd>\n",
       "              <dt>AppName</dt>\n",
       "                <dd><code>Assignment_3_IC</code></dd>\n",
       "            </dl>\n",
       "        </div>\n",
       "        \n",
       "            </div>\n",
       "        "
      ],
      "text/plain": [
       "<pyspark.sql.session.SparkSession at 0x7fa9e9405250>"
      ]
     },
     "execution_count": 3,
     "metadata": {},
     "output_type": "execute_result"
    }
   ],
   "source": [
    "session"
   ]
  },
  {
   "cell_type": "code",
   "execution_count": 4,
   "id": "27dc334e",
   "metadata": {},
   "outputs": [],
   "source": [
    "session.conf.set('spark.sql.repl.eagerEval.enabled', True)"
   ]
  },
  {
   "attachments": {},
   "cell_type": "markdown",
   "id": "536a6cc4",
   "metadata": {},
   "source": [
    "### Exercise 1\n",
    "Join the `trip_data` and `trip_fare` dataframes into one and consider only data on 2013-01-01."
   ]
  },
  {
   "attachments": {},
   "cell_type": "markdown",
   "id": "a1db780b",
   "metadata": {},
   "source": [
    "#### Import trip_data and data cleaning\n",
    "\n",
    "First of all, we import the 'trip_data.csv' file."
   ]
  },
  {
   "cell_type": "code",
   "execution_count": 5,
   "id": "9fc094c8",
   "metadata": {},
   "outputs": [
    {
     "name": "stderr",
     "output_type": "stream",
     "text": [
      "                                                                                \r"
     ]
    },
    {
     "data": {
      "text/html": [
       "<table border='1'>\n",
       "<tr><th>medallion</th><th>hack_license</th><th>vendor_id</th><th>rate_code</th><th>store_and_fwd_flag</th><th>pickup_datetime</th><th>dropoff_datetime</th><th>passenger_count</th><th>trip_time_in_secs</th><th>trip_distance</th><th>pickup_longitude</th><th>pickup_latitude</th><th>dropoff_longitude</th><th>dropoff_latitude</th></tr>\n",
       "<tr><td>89D227B655E5C82AE...</td><td>BA96DE419E711691B...</td><td>CMT</td><td>1</td><td>N</td><td>2013-01-01 15:11:48</td><td>2013-01-01 15:18:10</td><td>4</td><td>382</td><td>1.0</td><td>-73.978165</td><td>40.757977</td><td>-73.989838</td><td>40.751171</td></tr>\n",
       "<tr><td>0BD7C8F5BA12B88E0...</td><td>9FD8F69F0804BDB55...</td><td>CMT</td><td>1</td><td>N</td><td>2013-01-06 00:18:35</td><td>2013-01-06 00:22:54</td><td>1</td><td>259</td><td>1.5</td><td>-74.006683</td><td>40.731781</td><td>-73.994499</td><td>40.75066</td></tr>\n",
       "<tr><td>0BD7C8F5BA12B88E0...</td><td>9FD8F69F0804BDB55...</td><td>CMT</td><td>1</td><td>N</td><td>2013-01-05 18:49:41</td><td>2013-01-05 18:54:23</td><td>1</td><td>282</td><td>1.1</td><td>-74.004707</td><td>40.73777</td><td>-74.009834</td><td>40.726002</td></tr>\n",
       "<tr><td>DFD2202EE08F7A8DC...</td><td>51EE87E3205C985EF...</td><td>CMT</td><td>1</td><td>N</td><td>2013-01-07 23:54:15</td><td>2013-01-07 23:58:20</td><td>2</td><td>244</td><td>0.7</td><td>-73.974602</td><td>40.759945</td><td>-73.984734</td><td>40.759388</td></tr>\n",
       "<tr><td>DFD2202EE08F7A8DC...</td><td>51EE87E3205C985EF...</td><td>CMT</td><td>1</td><td>N</td><td>2013-01-07 23:25:03</td><td>2013-01-07 23:34:24</td><td>1</td><td>560</td><td>2.1</td><td>-73.97625</td><td>40.748528</td><td>-74.002586</td><td>40.747868</td></tr>\n",
       "<tr><td>20D9ECB2CA0767CF7...</td><td>598CCE5B9C1918568...</td><td>CMT</td><td>1</td><td>N</td><td>2013-01-07 15:27:48</td><td>2013-01-07 15:38:37</td><td>1</td><td>648</td><td>1.7</td><td>-73.966743</td><td>40.764252</td><td>-73.983322</td><td>40.743763</td></tr>\n",
       "<tr><td>496644932DF393260...</td><td>513189AD756FF14FE...</td><td>CMT</td><td>1</td><td>N</td><td>2013-01-08 11:01:15</td><td>2013-01-08 11:08:14</td><td>1</td><td>418</td><td>0.8</td><td>-73.995804</td><td>40.743977</td><td>-74.007416</td><td>40.744343</td></tr>\n",
       "<tr><td>0B57B9633A2FECD3D...</td><td>CCD4367B417ED6634...</td><td>CMT</td><td>1</td><td>N</td><td>2013-01-07 12:39:18</td><td>2013-01-07 13:10:56</td><td>3</td><td>1898</td><td>10.7</td><td>-73.989937</td><td>40.756775</td><td>-73.86525</td><td>40.77063</td></tr>\n",
       "<tr><td>2C0E91FF20A856C89...</td><td>1DA2F6543A62B8ED9...</td><td>CMT</td><td>1</td><td>N</td><td>2013-01-07 18:15:47</td><td>2013-01-07 18:20:47</td><td>1</td><td>299</td><td>0.8</td><td>-73.980072</td><td>40.743137</td><td>-73.982712</td><td>40.735336</td></tr>\n",
       "<tr><td>2D4B95E2FA7B2E851...</td><td>CD2F522EEE1FF5F5A...</td><td>CMT</td><td>1</td><td>N</td><td>2013-01-07 15:33:28</td><td>2013-01-07 15:49:26</td><td>2</td><td>957</td><td>2.5</td><td>-73.977936</td><td>40.786983</td><td>-73.952919</td><td>40.80637</td></tr>\n",
       "<tr><td>E12F6AF991172EAC3...</td><td>06918214E951FA000...</td><td>CMT</td><td>1</td><td>N</td><td>2013-01-08 13:11:52</td><td>2013-01-08 13:19:50</td><td>1</td><td>477</td><td>1.3</td><td>-73.982452</td><td>40.773167</td><td>-73.964134</td><td>40.773815</td></tr>\n",
       "<tr><td>E12F6AF991172EAC3...</td><td>06918214E951FA000...</td><td>CMT</td><td>1</td><td>N</td><td>2013-01-08 09:50:05</td><td>2013-01-08 10:02:54</td><td>1</td><td>768</td><td>0.7</td><td>-73.99556</td><td>40.749294</td><td>-73.988686</td><td>40.759052</td></tr>\n",
       "<tr><td>78FFD9CD0CDA541F3...</td><td>E949C583ECF62C8F0...</td><td>CMT</td><td>1</td><td>N</td><td>2013-01-10 12:07:08</td><td>2013-01-10 12:17:29</td><td>1</td><td>620</td><td>2.3</td><td>-73.971497</td><td>40.791321</td><td>-73.964478</td><td>40.775921</td></tr>\n",
       "<tr><td>237F49C3ECC11F502...</td><td>93C363DDF8ED9385D...</td><td>CMT</td><td>1</td><td>N</td><td>2013-01-07 07:35:47</td><td>2013-01-07 07:46:00</td><td>1</td><td>612</td><td>2.3</td><td>-73.98851</td><td>40.774307</td><td>-73.981094</td><td>40.755325</td></tr>\n",
       "<tr><td>3349F919AA8AE5DC9...</td><td>7CE849FEF67514F08...</td><td>CMT</td><td>1</td><td>N</td><td>2013-01-10 15:42:29</td><td>2013-01-10 16:04:02</td><td>1</td><td>1293</td><td>3.2</td><td>-73.994911</td><td>40.723221</td><td>-73.971558</td><td>40.761612</td></tr>\n",
       "<tr><td>3349F919AA8AE5DC9...</td><td>7CE849FEF67514F08...</td><td>CMT</td><td>1</td><td>N</td><td>2013-01-10 14:27:28</td><td>2013-01-10 14:45:21</td><td>1</td><td>1073</td><td>4.4</td><td>-74.010391</td><td>40.708702</td><td>-73.987846</td><td>40.756104</td></tr>\n",
       "<tr><td>4C005EEBAA7BF26B8...</td><td>351BE7D984BE17DB2...</td><td>CMT</td><td>1</td><td>N</td><td>2013-01-07 22:09:59</td><td>2013-01-07 22:19:50</td><td>1</td><td>591</td><td>1.7</td><td>-73.973732</td><td>40.756287</td><td>-73.998413</td><td>40.756832</td></tr>\n",
       "<tr><td>7D99C30FCE69B1A9D...</td><td>460C3F57DD9CB2265...</td><td>CMT</td><td>1</td><td>N</td><td>2013-01-07 17:18:16</td><td>2013-01-07 17:20:55</td><td>1</td><td>158</td><td>0.7</td><td>-73.968925</td><td>40.767704</td><td>-73.96199</td><td>40.776566</td></tr>\n",
       "<tr><td>E6FBF80668FE0611A...</td><td>36773E80775F26CD1...</td><td>CMT</td><td>1</td><td>N</td><td>2013-01-07 06:08:51</td><td>2013-01-07 06:13:14</td><td>1</td><td>262</td><td>1.7</td><td>-73.96212</td><td>40.769737</td><td>-73.979561</td><td>40.75539</td></tr>\n",
       "<tr><td>0C5296F3C8B16E702...</td><td>D2363240A9295EF57...</td><td>CMT</td><td>1</td><td>N</td><td>2013-01-07 22:25:46</td><td>2013-01-07 22:36:56</td><td>1</td><td>669</td><td>2.3</td><td>-73.989708</td><td>40.756714</td><td>-73.977615</td><td>40.787575</td></tr>\n",
       "</table>\n",
       "only showing top 20 rows\n"
      ],
      "text/plain": [
       "+--------------------+--------------------+---------+---------+------------------+-------------------+-------------------+---------------+-----------------+-------------+----------------+---------------+-----------------+----------------+\n",
       "|           medallion|        hack_license|vendor_id|rate_code|store_and_fwd_flag|    pickup_datetime|   dropoff_datetime|passenger_count|trip_time_in_secs|trip_distance|pickup_longitude|pickup_latitude|dropoff_longitude|dropoff_latitude|\n",
       "+--------------------+--------------------+---------+---------+------------------+-------------------+-------------------+---------------+-----------------+-------------+----------------+---------------+-----------------+----------------+\n",
       "|89D227B655E5C82AE...|BA96DE419E711691B...|      CMT|        1|                 N|2013-01-01 15:11:48|2013-01-01 15:18:10|              4|              382|          1.0|      -73.978165|      40.757977|       -73.989838|       40.751171|\n",
       "|0BD7C8F5BA12B88E0...|9FD8F69F0804BDB55...|      CMT|        1|                 N|2013-01-06 00:18:35|2013-01-06 00:22:54|              1|              259|          1.5|      -74.006683|      40.731781|       -73.994499|        40.75066|\n",
       "|0BD7C8F5BA12B88E0...|9FD8F69F0804BDB55...|      CMT|        1|                 N|2013-01-05 18:49:41|2013-01-05 18:54:23|              1|              282|          1.1|      -74.004707|       40.73777|       -74.009834|       40.726002|\n",
       "|DFD2202EE08F7A8DC...|51EE87E3205C985EF...|      CMT|        1|                 N|2013-01-07 23:54:15|2013-01-07 23:58:20|              2|              244|          0.7|      -73.974602|      40.759945|       -73.984734|       40.759388|\n",
       "|DFD2202EE08F7A8DC...|51EE87E3205C985EF...|      CMT|        1|                 N|2013-01-07 23:25:03|2013-01-07 23:34:24|              1|              560|          2.1|       -73.97625|      40.748528|       -74.002586|       40.747868|\n",
       "|20D9ECB2CA0767CF7...|598CCE5B9C1918568...|      CMT|        1|                 N|2013-01-07 15:27:48|2013-01-07 15:38:37|              1|              648|          1.7|      -73.966743|      40.764252|       -73.983322|       40.743763|\n",
       "|496644932DF393260...|513189AD756FF14FE...|      CMT|        1|                 N|2013-01-08 11:01:15|2013-01-08 11:08:14|              1|              418|          0.8|      -73.995804|      40.743977|       -74.007416|       40.744343|\n",
       "|0B57B9633A2FECD3D...|CCD4367B417ED6634...|      CMT|        1|                 N|2013-01-07 12:39:18|2013-01-07 13:10:56|              3|             1898|         10.7|      -73.989937|      40.756775|        -73.86525|        40.77063|\n",
       "|2C0E91FF20A856C89...|1DA2F6543A62B8ED9...|      CMT|        1|                 N|2013-01-07 18:15:47|2013-01-07 18:20:47|              1|              299|          0.8|      -73.980072|      40.743137|       -73.982712|       40.735336|\n",
       "|2D4B95E2FA7B2E851...|CD2F522EEE1FF5F5A...|      CMT|        1|                 N|2013-01-07 15:33:28|2013-01-07 15:49:26|              2|              957|          2.5|      -73.977936|      40.786983|       -73.952919|        40.80637|\n",
       "|E12F6AF991172EAC3...|06918214E951FA000...|      CMT|        1|                 N|2013-01-08 13:11:52|2013-01-08 13:19:50|              1|              477|          1.3|      -73.982452|      40.773167|       -73.964134|       40.773815|\n",
       "|E12F6AF991172EAC3...|06918214E951FA000...|      CMT|        1|                 N|2013-01-08 09:50:05|2013-01-08 10:02:54|              1|              768|          0.7|       -73.99556|      40.749294|       -73.988686|       40.759052|\n",
       "|78FFD9CD0CDA541F3...|E949C583ECF62C8F0...|      CMT|        1|                 N|2013-01-10 12:07:08|2013-01-10 12:17:29|              1|              620|          2.3|      -73.971497|      40.791321|       -73.964478|       40.775921|\n",
       "|237F49C3ECC11F502...|93C363DDF8ED9385D...|      CMT|        1|                 N|2013-01-07 07:35:47|2013-01-07 07:46:00|              1|              612|          2.3|       -73.98851|      40.774307|       -73.981094|       40.755325|\n",
       "|3349F919AA8AE5DC9...|7CE849FEF67514F08...|      CMT|        1|                 N|2013-01-10 15:42:29|2013-01-10 16:04:02|              1|             1293|          3.2|      -73.994911|      40.723221|       -73.971558|       40.761612|\n",
       "|3349F919AA8AE5DC9...|7CE849FEF67514F08...|      CMT|        1|                 N|2013-01-10 14:27:28|2013-01-10 14:45:21|              1|             1073|          4.4|      -74.010391|      40.708702|       -73.987846|       40.756104|\n",
       "|4C005EEBAA7BF26B8...|351BE7D984BE17DB2...|      CMT|        1|                 N|2013-01-07 22:09:59|2013-01-07 22:19:50|              1|              591|          1.7|      -73.973732|      40.756287|       -73.998413|       40.756832|\n",
       "|7D99C30FCE69B1A9D...|460C3F57DD9CB2265...|      CMT|        1|                 N|2013-01-07 17:18:16|2013-01-07 17:20:55|              1|              158|          0.7|      -73.968925|      40.767704|        -73.96199|       40.776566|\n",
       "|E6FBF80668FE0611A...|36773E80775F26CD1...|      CMT|        1|                 N|2013-01-07 06:08:51|2013-01-07 06:13:14|              1|              262|          1.7|       -73.96212|      40.769737|       -73.979561|        40.75539|\n",
       "|0C5296F3C8B16E702...|D2363240A9295EF57...|      CMT|        1|                 N|2013-01-07 22:25:46|2013-01-07 22:36:56|              1|              669|          2.3|      -73.989708|      40.756714|       -73.977615|       40.787575|\n",
       "+--------------------+--------------------+---------+---------+------------------+-------------------+-------------------+---------------+-----------------+-------------+----------------+---------------+-----------------+----------------+\n",
       "only showing top 20 rows"
      ]
     },
     "execution_count": 5,
     "metadata": {},
     "output_type": "execute_result"
    }
   ],
   "source": [
    "trip_data = session.read.option('inferSchema', True).option('header', True).csv('trip_data.csv')\n",
    "trip_data"
   ]
  },
  {
   "attachments": {},
   "cell_type": "markdown",
   "id": "3d8d90c3",
   "metadata": {},
   "source": [
    "We print then the schema to see the data types of each column."
   ]
  },
  {
   "cell_type": "code",
   "execution_count": 6,
   "id": "3276c9e6",
   "metadata": {},
   "outputs": [
    {
     "name": "stdout",
     "output_type": "stream",
     "text": [
      "root\n",
      " |-- medallion: string (nullable = true)\n",
      " |-- hack_license: string (nullable = true)\n",
      " |-- vendor_id: string (nullable = true)\n",
      " |-- rate_code: integer (nullable = true)\n",
      " |-- store_and_fwd_flag: string (nullable = true)\n",
      " |-- pickup_datetime: timestamp (nullable = true)\n",
      " |-- dropoff_datetime: timestamp (nullable = true)\n",
      " |-- passenger_count: integer (nullable = true)\n",
      " |-- trip_time_in_secs: integer (nullable = true)\n",
      " |-- trip_distance: double (nullable = true)\n",
      " |-- pickup_longitude: double (nullable = true)\n",
      " |-- pickup_latitude: double (nullable = true)\n",
      " |-- dropoff_longitude: double (nullable = true)\n",
      " |-- dropoff_latitude: double (nullable = true)\n",
      "\n"
     ]
    }
   ],
   "source": [
    "trip_data.printSchema()"
   ]
  },
  {
   "attachments": {},
   "cell_type": "markdown",
   "id": "50ad2b18",
   "metadata": {},
   "source": [
    "Now we search for null values. Uncomment this to see the results."
   ]
  },
  {
   "cell_type": "code",
   "execution_count": 7,
   "id": "dc926bf3",
   "metadata": {},
   "outputs": [],
   "source": [
    "# trip_data.filter(trip_data.medallion.isNull()).show()\n",
    "# trip_data.filter(trip_data.hack_license.isNull()).show()\n",
    "# trip_data.filter(trip_data.vendor_id.isNull()).show()\n",
    "# trip_data.filter(trip_data.rate_code.isNull()).show()\n",
    "# trip_data.filter(trip_data.store_and_fwd_flag.isNull()).show()\n",
    "# trip_data.filter(trip_data.pickup_datetime.isNull()).show()\n",
    "# trip_data.filter(trip_data.dropoff_datetime.isNull()).show()\n",
    "# trip_data.filter(trip_data.passenger_count.isNull()).show()\n",
    "# trip_data.filter(trip_data.trip_time_in_secs.isNull()).show()\n",
    "# trip_data.filter(trip_data.trip_distance.isNull()).show()\n",
    "# trip_data.filter(trip_data.pickup_longitude.isNull()).show()\n",
    "# trip_data.filter(trip_data.pickup_latitude.isNull()).show()\n",
    "# trip_data.filter(trip_data.dropoff_longitude.isNull()).show()\n",
    "# trip_data.filter(trip_data.dropoff_latitude.isNull()).show()\n"
   ]
  },
  {
   "attachments": {},
   "cell_type": "markdown",
   "id": "4b1beb6f",
   "metadata": {},
   "source": [
    "We can see that the column 'store_and_fwd_flag' contains null values. Then, we can also see that among all these nulls there some rows that contain null values also in columns 'dropoff_datetime' and 'dropoff_longitude'. We can assume that these rows are not valid because the near columns contain all 0s and therefore we can drop them."
   ]
  },
  {
   "cell_type": "code",
   "execution_count": 8,
   "id": "e5ee4c73",
   "metadata": {},
   "outputs": [
    {
     "name": "stdout",
     "output_type": "stream",
     "text": [
      "<class 'pyspark.sql.dataframe.DataFrame'>\n"
     ]
    }
   ],
   "source": [
    "print(type(trip_data))"
   ]
  },
  {
   "attachments": {},
   "cell_type": "markdown",
   "id": "442abeed",
   "metadata": {},
   "source": [
    "Therefore, we select only the rows that do not contain null values in the column 'dropoff_longitude', and as consequence in 'dropoff_latitude'."
   ]
  },
  {
   "cell_type": "code",
   "execution_count": 9,
   "id": "be983486",
   "metadata": {},
   "outputs": [
    {
     "data": {
      "text/html": [
       "<table border='1'>\n",
       "<tr><th>medallion</th><th>hack_license</th><th>vendor_id</th><th>rate_code</th><th>store_and_fwd_flag</th><th>pickup_datetime</th><th>dropoff_datetime</th><th>passenger_count</th><th>trip_time_in_secs</th><th>trip_distance</th><th>pickup_longitude</th><th>pickup_latitude</th><th>dropoff_longitude</th><th>dropoff_latitude</th></tr>\n",
       "<tr><td>89D227B655E5C82AE...</td><td>BA96DE419E711691B...</td><td>CMT</td><td>1</td><td>N</td><td>2013-01-01 15:11:48</td><td>2013-01-01 15:18:10</td><td>4</td><td>382</td><td>1.0</td><td>-73.978165</td><td>40.757977</td><td>-73.989838</td><td>40.751171</td></tr>\n",
       "<tr><td>0BD7C8F5BA12B88E0...</td><td>9FD8F69F0804BDB55...</td><td>CMT</td><td>1</td><td>N</td><td>2013-01-06 00:18:35</td><td>2013-01-06 00:22:54</td><td>1</td><td>259</td><td>1.5</td><td>-74.006683</td><td>40.731781</td><td>-73.994499</td><td>40.75066</td></tr>\n",
       "<tr><td>0BD7C8F5BA12B88E0...</td><td>9FD8F69F0804BDB55...</td><td>CMT</td><td>1</td><td>N</td><td>2013-01-05 18:49:41</td><td>2013-01-05 18:54:23</td><td>1</td><td>282</td><td>1.1</td><td>-74.004707</td><td>40.73777</td><td>-74.009834</td><td>40.726002</td></tr>\n",
       "<tr><td>DFD2202EE08F7A8DC...</td><td>51EE87E3205C985EF...</td><td>CMT</td><td>1</td><td>N</td><td>2013-01-07 23:54:15</td><td>2013-01-07 23:58:20</td><td>2</td><td>244</td><td>0.7</td><td>-73.974602</td><td>40.759945</td><td>-73.984734</td><td>40.759388</td></tr>\n",
       "<tr><td>DFD2202EE08F7A8DC...</td><td>51EE87E3205C985EF...</td><td>CMT</td><td>1</td><td>N</td><td>2013-01-07 23:25:03</td><td>2013-01-07 23:34:24</td><td>1</td><td>560</td><td>2.1</td><td>-73.97625</td><td>40.748528</td><td>-74.002586</td><td>40.747868</td></tr>\n",
       "<tr><td>20D9ECB2CA0767CF7...</td><td>598CCE5B9C1918568...</td><td>CMT</td><td>1</td><td>N</td><td>2013-01-07 15:27:48</td><td>2013-01-07 15:38:37</td><td>1</td><td>648</td><td>1.7</td><td>-73.966743</td><td>40.764252</td><td>-73.983322</td><td>40.743763</td></tr>\n",
       "<tr><td>496644932DF393260...</td><td>513189AD756FF14FE...</td><td>CMT</td><td>1</td><td>N</td><td>2013-01-08 11:01:15</td><td>2013-01-08 11:08:14</td><td>1</td><td>418</td><td>0.8</td><td>-73.995804</td><td>40.743977</td><td>-74.007416</td><td>40.744343</td></tr>\n",
       "<tr><td>0B57B9633A2FECD3D...</td><td>CCD4367B417ED6634...</td><td>CMT</td><td>1</td><td>N</td><td>2013-01-07 12:39:18</td><td>2013-01-07 13:10:56</td><td>3</td><td>1898</td><td>10.7</td><td>-73.989937</td><td>40.756775</td><td>-73.86525</td><td>40.77063</td></tr>\n",
       "<tr><td>2C0E91FF20A856C89...</td><td>1DA2F6543A62B8ED9...</td><td>CMT</td><td>1</td><td>N</td><td>2013-01-07 18:15:47</td><td>2013-01-07 18:20:47</td><td>1</td><td>299</td><td>0.8</td><td>-73.980072</td><td>40.743137</td><td>-73.982712</td><td>40.735336</td></tr>\n",
       "<tr><td>2D4B95E2FA7B2E851...</td><td>CD2F522EEE1FF5F5A...</td><td>CMT</td><td>1</td><td>N</td><td>2013-01-07 15:33:28</td><td>2013-01-07 15:49:26</td><td>2</td><td>957</td><td>2.5</td><td>-73.977936</td><td>40.786983</td><td>-73.952919</td><td>40.80637</td></tr>\n",
       "<tr><td>E12F6AF991172EAC3...</td><td>06918214E951FA000...</td><td>CMT</td><td>1</td><td>N</td><td>2013-01-08 13:11:52</td><td>2013-01-08 13:19:50</td><td>1</td><td>477</td><td>1.3</td><td>-73.982452</td><td>40.773167</td><td>-73.964134</td><td>40.773815</td></tr>\n",
       "<tr><td>E12F6AF991172EAC3...</td><td>06918214E951FA000...</td><td>CMT</td><td>1</td><td>N</td><td>2013-01-08 09:50:05</td><td>2013-01-08 10:02:54</td><td>1</td><td>768</td><td>0.7</td><td>-73.99556</td><td>40.749294</td><td>-73.988686</td><td>40.759052</td></tr>\n",
       "<tr><td>78FFD9CD0CDA541F3...</td><td>E949C583ECF62C8F0...</td><td>CMT</td><td>1</td><td>N</td><td>2013-01-10 12:07:08</td><td>2013-01-10 12:17:29</td><td>1</td><td>620</td><td>2.3</td><td>-73.971497</td><td>40.791321</td><td>-73.964478</td><td>40.775921</td></tr>\n",
       "<tr><td>237F49C3ECC11F502...</td><td>93C363DDF8ED9385D...</td><td>CMT</td><td>1</td><td>N</td><td>2013-01-07 07:35:47</td><td>2013-01-07 07:46:00</td><td>1</td><td>612</td><td>2.3</td><td>-73.98851</td><td>40.774307</td><td>-73.981094</td><td>40.755325</td></tr>\n",
       "<tr><td>3349F919AA8AE5DC9...</td><td>7CE849FEF67514F08...</td><td>CMT</td><td>1</td><td>N</td><td>2013-01-10 15:42:29</td><td>2013-01-10 16:04:02</td><td>1</td><td>1293</td><td>3.2</td><td>-73.994911</td><td>40.723221</td><td>-73.971558</td><td>40.761612</td></tr>\n",
       "<tr><td>3349F919AA8AE5DC9...</td><td>7CE849FEF67514F08...</td><td>CMT</td><td>1</td><td>N</td><td>2013-01-10 14:27:28</td><td>2013-01-10 14:45:21</td><td>1</td><td>1073</td><td>4.4</td><td>-74.010391</td><td>40.708702</td><td>-73.987846</td><td>40.756104</td></tr>\n",
       "<tr><td>4C005EEBAA7BF26B8...</td><td>351BE7D984BE17DB2...</td><td>CMT</td><td>1</td><td>N</td><td>2013-01-07 22:09:59</td><td>2013-01-07 22:19:50</td><td>1</td><td>591</td><td>1.7</td><td>-73.973732</td><td>40.756287</td><td>-73.998413</td><td>40.756832</td></tr>\n",
       "<tr><td>7D99C30FCE69B1A9D...</td><td>460C3F57DD9CB2265...</td><td>CMT</td><td>1</td><td>N</td><td>2013-01-07 17:18:16</td><td>2013-01-07 17:20:55</td><td>1</td><td>158</td><td>0.7</td><td>-73.968925</td><td>40.767704</td><td>-73.96199</td><td>40.776566</td></tr>\n",
       "<tr><td>E6FBF80668FE0611A...</td><td>36773E80775F26CD1...</td><td>CMT</td><td>1</td><td>N</td><td>2013-01-07 06:08:51</td><td>2013-01-07 06:13:14</td><td>1</td><td>262</td><td>1.7</td><td>-73.96212</td><td>40.769737</td><td>-73.979561</td><td>40.75539</td></tr>\n",
       "<tr><td>0C5296F3C8B16E702...</td><td>D2363240A9295EF57...</td><td>CMT</td><td>1</td><td>N</td><td>2013-01-07 22:25:46</td><td>2013-01-07 22:36:56</td><td>1</td><td>669</td><td>2.3</td><td>-73.989708</td><td>40.756714</td><td>-73.977615</td><td>40.787575</td></tr>\n",
       "</table>\n",
       "only showing top 20 rows\n"
      ],
      "text/plain": [
       "+--------------------+--------------------+---------+---------+------------------+-------------------+-------------------+---------------+-----------------+-------------+----------------+---------------+-----------------+----------------+\n",
       "|           medallion|        hack_license|vendor_id|rate_code|store_and_fwd_flag|    pickup_datetime|   dropoff_datetime|passenger_count|trip_time_in_secs|trip_distance|pickup_longitude|pickup_latitude|dropoff_longitude|dropoff_latitude|\n",
       "+--------------------+--------------------+---------+---------+------------------+-------------------+-------------------+---------------+-----------------+-------------+----------------+---------------+-----------------+----------------+\n",
       "|89D227B655E5C82AE...|BA96DE419E711691B...|      CMT|        1|                 N|2013-01-01 15:11:48|2013-01-01 15:18:10|              4|              382|          1.0|      -73.978165|      40.757977|       -73.989838|       40.751171|\n",
       "|0BD7C8F5BA12B88E0...|9FD8F69F0804BDB55...|      CMT|        1|                 N|2013-01-06 00:18:35|2013-01-06 00:22:54|              1|              259|          1.5|      -74.006683|      40.731781|       -73.994499|        40.75066|\n",
       "|0BD7C8F5BA12B88E0...|9FD8F69F0804BDB55...|      CMT|        1|                 N|2013-01-05 18:49:41|2013-01-05 18:54:23|              1|              282|          1.1|      -74.004707|       40.73777|       -74.009834|       40.726002|\n",
       "|DFD2202EE08F7A8DC...|51EE87E3205C985EF...|      CMT|        1|                 N|2013-01-07 23:54:15|2013-01-07 23:58:20|              2|              244|          0.7|      -73.974602|      40.759945|       -73.984734|       40.759388|\n",
       "|DFD2202EE08F7A8DC...|51EE87E3205C985EF...|      CMT|        1|                 N|2013-01-07 23:25:03|2013-01-07 23:34:24|              1|              560|          2.1|       -73.97625|      40.748528|       -74.002586|       40.747868|\n",
       "|20D9ECB2CA0767CF7...|598CCE5B9C1918568...|      CMT|        1|                 N|2013-01-07 15:27:48|2013-01-07 15:38:37|              1|              648|          1.7|      -73.966743|      40.764252|       -73.983322|       40.743763|\n",
       "|496644932DF393260...|513189AD756FF14FE...|      CMT|        1|                 N|2013-01-08 11:01:15|2013-01-08 11:08:14|              1|              418|          0.8|      -73.995804|      40.743977|       -74.007416|       40.744343|\n",
       "|0B57B9633A2FECD3D...|CCD4367B417ED6634...|      CMT|        1|                 N|2013-01-07 12:39:18|2013-01-07 13:10:56|              3|             1898|         10.7|      -73.989937|      40.756775|        -73.86525|        40.77063|\n",
       "|2C0E91FF20A856C89...|1DA2F6543A62B8ED9...|      CMT|        1|                 N|2013-01-07 18:15:47|2013-01-07 18:20:47|              1|              299|          0.8|      -73.980072|      40.743137|       -73.982712|       40.735336|\n",
       "|2D4B95E2FA7B2E851...|CD2F522EEE1FF5F5A...|      CMT|        1|                 N|2013-01-07 15:33:28|2013-01-07 15:49:26|              2|              957|          2.5|      -73.977936|      40.786983|       -73.952919|        40.80637|\n",
       "|E12F6AF991172EAC3...|06918214E951FA000...|      CMT|        1|                 N|2013-01-08 13:11:52|2013-01-08 13:19:50|              1|              477|          1.3|      -73.982452|      40.773167|       -73.964134|       40.773815|\n",
       "|E12F6AF991172EAC3...|06918214E951FA000...|      CMT|        1|                 N|2013-01-08 09:50:05|2013-01-08 10:02:54|              1|              768|          0.7|       -73.99556|      40.749294|       -73.988686|       40.759052|\n",
       "|78FFD9CD0CDA541F3...|E949C583ECF62C8F0...|      CMT|        1|                 N|2013-01-10 12:07:08|2013-01-10 12:17:29|              1|              620|          2.3|      -73.971497|      40.791321|       -73.964478|       40.775921|\n",
       "|237F49C3ECC11F502...|93C363DDF8ED9385D...|      CMT|        1|                 N|2013-01-07 07:35:47|2013-01-07 07:46:00|              1|              612|          2.3|       -73.98851|      40.774307|       -73.981094|       40.755325|\n",
       "|3349F919AA8AE5DC9...|7CE849FEF67514F08...|      CMT|        1|                 N|2013-01-10 15:42:29|2013-01-10 16:04:02|              1|             1293|          3.2|      -73.994911|      40.723221|       -73.971558|       40.761612|\n",
       "|3349F919AA8AE5DC9...|7CE849FEF67514F08...|      CMT|        1|                 N|2013-01-10 14:27:28|2013-01-10 14:45:21|              1|             1073|          4.4|      -74.010391|      40.708702|       -73.987846|       40.756104|\n",
       "|4C005EEBAA7BF26B8...|351BE7D984BE17DB2...|      CMT|        1|                 N|2013-01-07 22:09:59|2013-01-07 22:19:50|              1|              591|          1.7|      -73.973732|      40.756287|       -73.998413|       40.756832|\n",
       "|7D99C30FCE69B1A9D...|460C3F57DD9CB2265...|      CMT|        1|                 N|2013-01-07 17:18:16|2013-01-07 17:20:55|              1|              158|          0.7|      -73.968925|      40.767704|        -73.96199|       40.776566|\n",
       "|E6FBF80668FE0611A...|36773E80775F26CD1...|      CMT|        1|                 N|2013-01-07 06:08:51|2013-01-07 06:13:14|              1|              262|          1.7|       -73.96212|      40.769737|       -73.979561|        40.75539|\n",
       "|0C5296F3C8B16E702...|D2363240A9295EF57...|      CMT|        1|                 N|2013-01-07 22:25:46|2013-01-07 22:36:56|              1|              669|          2.3|      -73.989708|      40.756714|       -73.977615|       40.787575|\n",
       "+--------------------+--------------------+---------+---------+------------------+-------------------+-------------------+---------------+-----------------+-------------+----------------+---------------+-----------------+----------------+\n",
       "only showing top 20 rows"
      ]
     },
     "execution_count": 9,
     "metadata": {},
     "output_type": "execute_result"
    }
   ],
   "source": [
    "trip_data2 = trip_data.where(col('dropoff_longitude').isNotNull())\n",
    "trip_data2"
   ]
  },
  {
   "cell_type": "code",
   "execution_count": 10,
   "id": "3ad69bd0",
   "metadata": {},
   "outputs": [
    {
     "name": "stderr",
     "output_type": "stream",
     "text": [
      "                                                                                \r"
     ]
    },
    {
     "data": {
      "text/plain": [
       "14776529"
      ]
     },
     "execution_count": 10,
     "metadata": {},
     "output_type": "execute_result"
    }
   ],
   "source": [
    "trip_data2.count()"
   ]
  },
  {
   "attachments": {},
   "cell_type": "markdown",
   "id": "56f538a2",
   "metadata": {},
   "source": [
    "We can search for additional null values in 'dropoff_longitude' and 'dropoff_latitude' to be sure that we have dropped all the rows with null values in 'dropoff_longitude'.\n",
    "\n",
    "Uncomment this to see the results."
   ]
  },
  {
   "cell_type": "code",
   "execution_count": 11,
   "id": "6b0febd8",
   "metadata": {},
   "outputs": [],
   "source": [
    "# trip_data2.filter(trip_data2.dropoff_longitude.isNull()).show()"
   ]
  },
  {
   "attachments": {},
   "cell_type": "markdown",
   "id": "29a91724",
   "metadata": {},
   "source": [
    "As there are no more null values in 'dropoff_longitude' and 'dropoff_latitude', we can go on with importing and cleaning the other dataset."
   ]
  },
  {
   "attachments": {},
   "cell_type": "markdown",
   "id": "1d09a55e",
   "metadata": {},
   "source": [
    "#### Import trip_fare and data cleaning\n",
    "\n",
    "We import the 'trip_fare.csv' file."
   ]
  },
  {
   "cell_type": "code",
   "execution_count": 12,
   "id": "be899777",
   "metadata": {},
   "outputs": [
    {
     "name": "stderr",
     "output_type": "stream",
     "text": [
      "                                                                                \r"
     ]
    },
    {
     "data": {
      "text/html": [
       "<table border='1'>\n",
       "<tr><th>medallion</th><th> hack_license</th><th> vendor_id</th><th> pickup_datetime</th><th> payment_type</th><th> fare_amount</th><th> surcharge</th><th> mta_tax</th><th> tip_amount</th><th> tolls_amount</th><th> total_amount</th></tr>\n",
       "<tr><td>89D227B655E5C82AE...</td><td>BA96DE419E711691B...</td><td>CMT</td><td>2013-01-01 15:11:48</td><td>CSH</td><td>6.5</td><td>0.0</td><td>0.5</td><td>0.0</td><td>0.0</td><td>7.0</td></tr>\n",
       "<tr><td>0BD7C8F5BA12B88E0...</td><td>9FD8F69F0804BDB55...</td><td>CMT</td><td>2013-01-06 00:18:35</td><td>CSH</td><td>6.0</td><td>0.5</td><td>0.5</td><td>0.0</td><td>0.0</td><td>7.0</td></tr>\n",
       "<tr><td>0BD7C8F5BA12B88E0...</td><td>9FD8F69F0804BDB55...</td><td>CMT</td><td>2013-01-05 18:49:41</td><td>CSH</td><td>5.5</td><td>1.0</td><td>0.5</td><td>0.0</td><td>0.0</td><td>7.0</td></tr>\n",
       "<tr><td>DFD2202EE08F7A8DC...</td><td>51EE87E3205C985EF...</td><td>CMT</td><td>2013-01-07 23:54:15</td><td>CSH</td><td>5.0</td><td>0.5</td><td>0.5</td><td>0.0</td><td>0.0</td><td>6.0</td></tr>\n",
       "<tr><td>DFD2202EE08F7A8DC...</td><td>51EE87E3205C985EF...</td><td>CMT</td><td>2013-01-07 23:25:03</td><td>CSH</td><td>9.5</td><td>0.5</td><td>0.5</td><td>0.0</td><td>0.0</td><td>10.5</td></tr>\n",
       "<tr><td>20D9ECB2CA0767CF7...</td><td>598CCE5B9C1918568...</td><td>CMT</td><td>2013-01-07 15:27:48</td><td>CSH</td><td>9.5</td><td>0.0</td><td>0.5</td><td>0.0</td><td>0.0</td><td>10.0</td></tr>\n",
       "<tr><td>496644932DF393260...</td><td>513189AD756FF14FE...</td><td>CMT</td><td>2013-01-08 11:01:15</td><td>CSH</td><td>6.0</td><td>0.0</td><td>0.5</td><td>0.0</td><td>0.0</td><td>6.5</td></tr>\n",
       "<tr><td>0B57B9633A2FECD3D...</td><td>CCD4367B417ED6634...</td><td>CMT</td><td>2013-01-07 12:39:18</td><td>CSH</td><td>34.0</td><td>0.0</td><td>0.5</td><td>0.0</td><td>4.8</td><td>39.3</td></tr>\n",
       "<tr><td>2C0E91FF20A856C89...</td><td>1DA2F6543A62B8ED9...</td><td>CMT</td><td>2013-01-07 18:15:47</td><td>CSH</td><td>5.5</td><td>1.0</td><td>0.5</td><td>0.0</td><td>0.0</td><td>7.0</td></tr>\n",
       "<tr><td>2D4B95E2FA7B2E851...</td><td>CD2F522EEE1FF5F5A...</td><td>CMT</td><td>2013-01-07 15:33:28</td><td>CSH</td><td>13.0</td><td>0.0</td><td>0.5</td><td>0.0</td><td>0.0</td><td>13.5</td></tr>\n",
       "<tr><td>E12F6AF991172EAC3...</td><td>06918214E951FA000...</td><td>CMT</td><td>2013-01-08 13:11:52</td><td>CSH</td><td>7.5</td><td>0.0</td><td>0.5</td><td>0.0</td><td>0.0</td><td>8.0</td></tr>\n",
       "<tr><td>E12F6AF991172EAC3...</td><td>06918214E951FA000...</td><td>CMT</td><td>2013-01-08 09:50:05</td><td>CSH</td><td>9.0</td><td>0.0</td><td>0.5</td><td>0.0</td><td>0.0</td><td>9.5</td></tr>\n",
       "<tr><td>78FFD9CD0CDA541F3...</td><td>E949C583ECF62C8F0...</td><td>CMT</td><td>2013-01-10 12:07:08</td><td>CSH</td><td>9.5</td><td>0.0</td><td>0.5</td><td>0.0</td><td>0.0</td><td>10.0</td></tr>\n",
       "<tr><td>237F49C3ECC11F502...</td><td>93C363DDF8ED9385D...</td><td>CMT</td><td>2013-01-07 07:35:47</td><td>CSH</td><td>10.0</td><td>0.0</td><td>0.5</td><td>0.0</td><td>0.0</td><td>10.5</td></tr>\n",
       "<tr><td>3349F919AA8AE5DC9...</td><td>7CE849FEF67514F08...</td><td>CMT</td><td>2013-01-10 15:42:29</td><td>CSH</td><td>15.5</td><td>0.0</td><td>0.5</td><td>0.0</td><td>0.0</td><td>16.0</td></tr>\n",
       "<tr><td>3349F919AA8AE5DC9...</td><td>7CE849FEF67514F08...</td><td>CMT</td><td>2013-01-10 14:27:28</td><td>CSH</td><td>16.5</td><td>0.0</td><td>0.5</td><td>0.0</td><td>0.0</td><td>17.0</td></tr>\n",
       "<tr><td>4C005EEBAA7BF26B8...</td><td>351BE7D984BE17DB2...</td><td>CMT</td><td>2013-01-07 22:09:59</td><td>CSH</td><td>9.0</td><td>0.5</td><td>0.5</td><td>0.0</td><td>0.0</td><td>10.0</td></tr>\n",
       "<tr><td>7D99C30FCE69B1A9D...</td><td>460C3F57DD9CB2265...</td><td>CMT</td><td>2013-01-07 17:18:16</td><td>CSH</td><td>4.5</td><td>1.0</td><td>0.5</td><td>0.0</td><td>0.0</td><td>6.0</td></tr>\n",
       "<tr><td>E6FBF80668FE0611A...</td><td>36773E80775F26CD1...</td><td>CMT</td><td>2013-01-07 06:08:51</td><td>CSH</td><td>7.0</td><td>0.0</td><td>0.5</td><td>0.0</td><td>0.0</td><td>7.5</td></tr>\n",
       "<tr><td>0C5296F3C8B16E702...</td><td>D2363240A9295EF57...</td><td>CMT</td><td>2013-01-07 22:25:46</td><td>CSH</td><td>10.5</td><td>0.5</td><td>0.5</td><td>0.0</td><td>0.0</td><td>11.5</td></tr>\n",
       "</table>\n",
       "only showing top 20 rows\n"
      ],
      "text/plain": [
       "+--------------------+--------------------+----------+-------------------+-------------+------------+----------+--------+-----------+-------------+-------------+\n",
       "|           medallion|        hack_license| vendor_id|    pickup_datetime| payment_type| fare_amount| surcharge| mta_tax| tip_amount| tolls_amount| total_amount|\n",
       "+--------------------+--------------------+----------+-------------------+-------------+------------+----------+--------+-----------+-------------+-------------+\n",
       "|89D227B655E5C82AE...|BA96DE419E711691B...|       CMT|2013-01-01 15:11:48|          CSH|         6.5|       0.0|     0.5|        0.0|          0.0|          7.0|\n",
       "|0BD7C8F5BA12B88E0...|9FD8F69F0804BDB55...|       CMT|2013-01-06 00:18:35|          CSH|         6.0|       0.5|     0.5|        0.0|          0.0|          7.0|\n",
       "|0BD7C8F5BA12B88E0...|9FD8F69F0804BDB55...|       CMT|2013-01-05 18:49:41|          CSH|         5.5|       1.0|     0.5|        0.0|          0.0|          7.0|\n",
       "|DFD2202EE08F7A8DC...|51EE87E3205C985EF...|       CMT|2013-01-07 23:54:15|          CSH|         5.0|       0.5|     0.5|        0.0|          0.0|          6.0|\n",
       "|DFD2202EE08F7A8DC...|51EE87E3205C985EF...|       CMT|2013-01-07 23:25:03|          CSH|         9.5|       0.5|     0.5|        0.0|          0.0|         10.5|\n",
       "|20D9ECB2CA0767CF7...|598CCE5B9C1918568...|       CMT|2013-01-07 15:27:48|          CSH|         9.5|       0.0|     0.5|        0.0|          0.0|         10.0|\n",
       "|496644932DF393260...|513189AD756FF14FE...|       CMT|2013-01-08 11:01:15|          CSH|         6.0|       0.0|     0.5|        0.0|          0.0|          6.5|\n",
       "|0B57B9633A2FECD3D...|CCD4367B417ED6634...|       CMT|2013-01-07 12:39:18|          CSH|        34.0|       0.0|     0.5|        0.0|          4.8|         39.3|\n",
       "|2C0E91FF20A856C89...|1DA2F6543A62B8ED9...|       CMT|2013-01-07 18:15:47|          CSH|         5.5|       1.0|     0.5|        0.0|          0.0|          7.0|\n",
       "|2D4B95E2FA7B2E851...|CD2F522EEE1FF5F5A...|       CMT|2013-01-07 15:33:28|          CSH|        13.0|       0.0|     0.5|        0.0|          0.0|         13.5|\n",
       "|E12F6AF991172EAC3...|06918214E951FA000...|       CMT|2013-01-08 13:11:52|          CSH|         7.5|       0.0|     0.5|        0.0|          0.0|          8.0|\n",
       "|E12F6AF991172EAC3...|06918214E951FA000...|       CMT|2013-01-08 09:50:05|          CSH|         9.0|       0.0|     0.5|        0.0|          0.0|          9.5|\n",
       "|78FFD9CD0CDA541F3...|E949C583ECF62C8F0...|       CMT|2013-01-10 12:07:08|          CSH|         9.5|       0.0|     0.5|        0.0|          0.0|         10.0|\n",
       "|237F49C3ECC11F502...|93C363DDF8ED9385D...|       CMT|2013-01-07 07:35:47|          CSH|        10.0|       0.0|     0.5|        0.0|          0.0|         10.5|\n",
       "|3349F919AA8AE5DC9...|7CE849FEF67514F08...|       CMT|2013-01-10 15:42:29|          CSH|        15.5|       0.0|     0.5|        0.0|          0.0|         16.0|\n",
       "|3349F919AA8AE5DC9...|7CE849FEF67514F08...|       CMT|2013-01-10 14:27:28|          CSH|        16.5|       0.0|     0.5|        0.0|          0.0|         17.0|\n",
       "|4C005EEBAA7BF26B8...|351BE7D984BE17DB2...|       CMT|2013-01-07 22:09:59|          CSH|         9.0|       0.5|     0.5|        0.0|          0.0|         10.0|\n",
       "|7D99C30FCE69B1A9D...|460C3F57DD9CB2265...|       CMT|2013-01-07 17:18:16|          CSH|         4.5|       1.0|     0.5|        0.0|          0.0|          6.0|\n",
       "|E6FBF80668FE0611A...|36773E80775F26CD1...|       CMT|2013-01-07 06:08:51|          CSH|         7.0|       0.0|     0.5|        0.0|          0.0|          7.5|\n",
       "|0C5296F3C8B16E702...|D2363240A9295EF57...|       CMT|2013-01-07 22:25:46|          CSH|        10.5|       0.5|     0.5|        0.0|          0.0|         11.5|\n",
       "+--------------------+--------------------+----------+-------------------+-------------+------------+----------+--------+-----------+-------------+-------------+\n",
       "only showing top 20 rows"
      ]
     },
     "execution_count": 12,
     "metadata": {},
     "output_type": "execute_result"
    }
   ],
   "source": [
    "trip_fare = session.read.option('inferSchema', True).option('header', True).csv('trip_fare.csv')\n",
    "trip_fare"
   ]
  },
  {
   "cell_type": "code",
   "execution_count": 13,
   "id": "66194bf3",
   "metadata": {},
   "outputs": [
    {
     "name": "stderr",
     "output_type": "stream",
     "text": [
      "                                                                                \r"
     ]
    },
    {
     "data": {
      "text/plain": [
       "14776615"
      ]
     },
     "execution_count": 13,
     "metadata": {},
     "output_type": "execute_result"
    }
   ],
   "source": [
    "trip_fare.count()"
   ]
  },
  {
   "attachments": {},
   "cell_type": "markdown",
   "id": "22096e25",
   "metadata": {},
   "source": [
    "As before, we print the schema to see the data types of each column."
   ]
  },
  {
   "cell_type": "code",
   "execution_count": 14,
   "id": "a021c828",
   "metadata": {},
   "outputs": [
    {
     "name": "stdout",
     "output_type": "stream",
     "text": [
      "root\n",
      " |-- medallion: string (nullable = true)\n",
      " |--  hack_license: string (nullable = true)\n",
      " |--  vendor_id: string (nullable = true)\n",
      " |--  pickup_datetime: timestamp (nullable = true)\n",
      " |--  payment_type: string (nullable = true)\n",
      " |--  fare_amount: double (nullable = true)\n",
      " |--  surcharge: double (nullable = true)\n",
      " |--  mta_tax: double (nullable = true)\n",
      " |--  tip_amount: double (nullable = true)\n",
      " |--  tolls_amount: double (nullable = true)\n",
      " |--  total_amount: double (nullable = true)\n",
      "\n"
     ]
    }
   ],
   "source": [
    "trip_fare.printSchema()"
   ]
  },
  {
   "attachments": {},
   "cell_type": "markdown",
   "id": "5d890c49",
   "metadata": {},
   "source": [
    "We can see from the printed schema that we have a blank space before each of the column names, except for the first one. We can remove these blank spaces."
   ]
  },
  {
   "cell_type": "code",
   "execution_count": 15,
   "id": "1a8cc39d",
   "metadata": {},
   "outputs": [],
   "source": [
    "trip_fare = trip_fare.withColumnRenamed(' hack_license', 'hack_license') \\\n",
    "    .withColumnRenamed(' vendor_id', 'vendor_id') \\\n",
    "    .withColumnRenamed(' pickup_datetime', 'pickup_datetime') \\\n",
    "    .withColumnRenamed(' payment_type', 'payment_type') \\\n",
    "    .withColumnRenamed(' fare_amount', 'fare_amount') \\\n",
    "    .withColumnRenamed(' surcharge', 'surcharge') \\\n",
    "    .withColumnRenamed(' mta_tax', 'mta_tax') \\\n",
    "    .withColumnRenamed(' tip_amount', 'tip_amount') \\\n",
    "    .withColumnRenamed(' tolls_amount', 'tolls_amount') \\\n",
    "    .withColumnRenamed(' total_amount', 'total_amount')"
   ]
  },
  {
   "cell_type": "code",
   "execution_count": 16,
   "id": "bf53ba92",
   "metadata": {},
   "outputs": [
    {
     "name": "stdout",
     "output_type": "stream",
     "text": [
      "root\n",
      " |-- medallion: string (nullable = true)\n",
      " |-- hack_license: string (nullable = true)\n",
      " |-- vendor_id: string (nullable = true)\n",
      " |-- pickup_datetime: timestamp (nullable = true)\n",
      " |-- payment_type: string (nullable = true)\n",
      " |-- fare_amount: double (nullable = true)\n",
      " |-- surcharge: double (nullable = true)\n",
      " |-- mta_tax: double (nullable = true)\n",
      " |-- tip_amount: double (nullable = true)\n",
      " |-- tolls_amount: double (nullable = true)\n",
      " |-- total_amount: double (nullable = true)\n",
      "\n"
     ]
    }
   ],
   "source": [
    "trip_fare.printSchema()"
   ]
  },
  {
   "attachments": {},
   "cell_type": "markdown",
   "id": "07714147",
   "metadata": {},
   "source": [
    "By printing the schema again we are sure that there are no more blank spaces in the column names.\n",
    "\n",
    "We check if there are null values in the dataset. Uncomment this to see the results."
   ]
  },
  {
   "cell_type": "code",
   "execution_count": 17,
   "id": "40e0040d",
   "metadata": {},
   "outputs": [],
   "source": [
    "# trip_fare.filter(trip_fare.medallion.isNull()).show()\n",
    "# trip_fare.filter(trip_fare.hack_license.isNull()).show()\n",
    "# trip_fare.filter(trip_fare.vendor_id.isNull()).show()\n",
    "# trip_fare.filter(trip_fare.pickup_datetime.isNull()).show()\n",
    "# trip_fare.filter(trip_fare.payment_type.isNull()).show()\n",
    "# trip_fare.filter(trip_fare.fare_amount.isNull()).show()\n",
    "# trip_fare.filter(trip_fare.surcharge.isNull()).show()\n",
    "# trip_fare.filter(trip_fare.mta_tax.isNull()).show()\n",
    "# trip_fare.filter(trip_fare.tip_amount.isNull()).show()\n",
    "# trip_fare.filter(trip_fare.tolls_amount.isNull()).show()\n",
    "# trip_fare.filter(trip_fare.total_amount.isNull()).show()"
   ]
  },
  {
   "attachments": {},
   "cell_type": "markdown",
   "id": "4c97ece0",
   "metadata": {},
   "source": [
    "#### Join the two datasets and filter by date"
   ]
  },
  {
   "attachments": {},
   "cell_type": "markdown",
   "id": "a6301c5e",
   "metadata": {},
   "source": [
    "Now we can join the two datasets."
   ]
  },
  {
   "cell_type": "code",
   "execution_count": 18,
   "id": "736f6291",
   "metadata": {},
   "outputs": [
    {
     "name": "stderr",
     "output_type": "stream",
     "text": [
      "                                                                                \r"
     ]
    },
    {
     "data": {
      "text/html": [
       "<table border='1'>\n",
       "<tr><th>medallion</th><th>hack_license</th><th>pickup_datetime</th><th>vendor_id</th><th>rate_code</th><th>store_and_fwd_flag</th><th>dropoff_datetime</th><th>passenger_count</th><th>trip_time_in_secs</th><th>trip_distance</th><th>pickup_longitude</th><th>pickup_latitude</th><th>dropoff_longitude</th><th>dropoff_latitude</th><th>payment_type</th><th>fare_amount</th><th>surcharge</th><th>mta_tax</th><th>tip_amount</th><th>tolls_amount</th><th>total_amount</th></tr>\n",
       "<tr><td>00005007A9F30E289...</td><td>25F6CC95763517367...</td><td>2013-01-22 20:31:52</td><td>CMT</td><td>1</td><td>N</td><td>2013-01-22 20:44:09</td><td>1</td><td>736</td><td>7.2</td><td>-73.874672</td><td>40.773994</td><td>-73.952728</td><td>40.711437</td><td>CSH</td><td>21.0</td><td>0.5</td><td>0.5</td><td>0.0</td><td>0.0</td><td>22.0</td></tr>\n",
       "<tr><td>00005007A9F30E289...</td><td>25F6CC95763517367...</td><td>2013-01-22 22:19:59</td><td>CMT</td><td>1</td><td>N</td><td>2013-01-22 22:29:50</td><td>2</td><td>591</td><td>2.0</td><td>-73.988449</td><td>40.718773</td><td>-73.990547</td><td>40.73978</td><td>CSH</td><td>9.5</td><td>0.5</td><td>0.5</td><td>0.0</td><td>0.0</td><td>10.5</td></tr>\n",
       "<tr><td>00005007A9F30E289...</td><td>39C3E34B3E338A721...</td><td>2013-01-11 13:28:30</td><td>CMT</td><td>1</td><td>N</td><td>2013-01-11 13:34:48</td><td>1</td><td>377</td><td>0.4</td><td>-73.974434</td><td>40.757935</td><td>-73.975021</td><td>40.753166</td><td>CSH</td><td>5.5</td><td>0.0</td><td>0.5</td><td>0.0</td><td>0.0</td><td>6.0</td></tr>\n",
       "<tr><td>00005007A9F30E289...</td><td>39C3E34B3E338A721...</td><td>2013-01-14 11:43:31</td><td>CMT</td><td>1</td><td>N</td><td>2013-01-14 11:51:12</td><td>2</td><td>461</td><td>1.2</td><td>-74.001915</td><td>40.740738</td><td>-74.007149</td><td>40.752571</td><td>CSH</td><td>7.0</td><td>0.0</td><td>0.5</td><td>0.0</td><td>0.0</td><td>7.5</td></tr>\n",
       "<tr><td>00005007A9F30E289...</td><td>39C3E34B3E338A721...</td><td>2013-01-16 12:00:05</td><td>CMT</td><td>1</td><td>N</td><td>2013-01-16 12:12:10</td><td>1</td><td>724</td><td>1.8</td><td>-73.968857</td><td>40.76466</td><td>-73.949387</td><td>40.772774</td><td>CSH</td><td>9.5</td><td>0.0</td><td>0.5</td><td>0.0</td><td>0.0</td><td>10.0</td></tr>\n",
       "<tr><td>00005007A9F30E289...</td><td>39C3E34B3E338A721...</td><td>2013-01-18 11:39:16</td><td>CMT</td><td>1</td><td>N</td><td>2013-01-18 11:45:25</td><td>1</td><td>369</td><td>0.7</td><td>-73.97287</td><td>40.761864</td><td>-73.976639</td><td>40.75919</td><td>CSH</td><td>5.5</td><td>0.0</td><td>0.5</td><td>0.0</td><td>0.0</td><td>6.0</td></tr>\n",
       "<tr><td>00005007A9F30E289...</td><td>39C3E34B3E338A721...</td><td>2013-01-19 16:39:02</td><td>CMT</td><td>1</td><td>N</td><td>2013-01-19 16:44:43</td><td>2</td><td>340</td><td>1.4</td><td>-73.973137</td><td>40.755074</td><td>-73.986084</td><td>40.750919</td><td>CSH</td><td>6.5</td><td>0.0</td><td>0.5</td><td>0.0</td><td>0.0</td><td>7.0</td></tr>\n",
       "<tr><td>00005007A9F30E289...</td><td>39C3E34B3E338A721...</td><td>2013-01-21 09:36:24</td><td>CMT</td><td>1</td><td>N</td><td>2013-01-21 09:44:22</td><td>1</td><td>478</td><td>0.7</td><td>-73.977135</td><td>40.752502</td><td>-73.987953</td><td>40.754055</td><td>CSH</td><td>7.0</td><td>0.0</td><td>0.5</td><td>0.0</td><td>0.0</td><td>7.5</td></tr>\n",
       "<tr><td>00005007A9F30E289...</td><td>39C3E34B3E338A721...</td><td>2013-01-21 16:13:36</td><td>CMT</td><td>1</td><td>N</td><td>2013-01-21 16:15:12</td><td>1</td><td>95</td><td>0.6</td><td>-74.007957</td><td>40.723743</td><td>-74.006538</td><td>40.732533</td><td>CSH</td><td>4.0</td><td>0.0</td><td>0.5</td><td>0.0</td><td>0.0</td><td>4.5</td></tr>\n",
       "<tr><td>00005007A9F30E289...</td><td>39C3E34B3E338A721...</td><td>2013-01-21 16:37:45</td><td>CMT</td><td>1</td><td>N</td><td>2013-01-21 16:42:12</td><td>2</td><td>266</td><td>0.7</td><td>-73.98082</td><td>40.766384</td><td>-73.966805</td><td>40.760517</td><td>CRD</td><td>5.0</td><td>0.0</td><td>0.5</td><td>1.1</td><td>0.0</td><td>6.6</td></tr>\n",
       "<tr><td>00005007A9F30E289...</td><td>39C3E34B3E338A721...</td><td>2013-01-25 06:43:10</td><td>CMT</td><td>1</td><td>N</td><td>2013-01-25 06:55:22</td><td>1</td><td>731</td><td>2.7</td><td>-73.992264</td><td>40.751144</td><td>-73.958092</td><td>40.764858</td><td>CRD</td><td>11.5</td><td>0.0</td><td>0.5</td><td>2.4</td><td>0.0</td><td>14.4</td></tr>\n",
       "<tr><td>00005007A9F30E289...</td><td>43468C5D35F828693...</td><td>2013-01-01 09:24:17</td><td>CMT</td><td>1</td><td>N</td><td>2013-01-01 09:33:15</td><td>1</td><td>537</td><td>2.7</td><td>-73.98407</td><td>40.721382</td><td>-73.959076</td><td>40.716599</td><td>CSH</td><td>10.5</td><td>0.0</td><td>0.5</td><td>0.0</td><td>0.0</td><td>11.0</td></tr>\n",
       "<tr><td>00005007A9F30E289...</td><td>43468C5D35F828693...</td><td>2013-01-01 12:27:45</td><td>CMT</td><td>1</td><td>N</td><td>2013-01-01 12:30:49</td><td>1</td><td>184</td><td>0.8</td><td>-73.970665</td><td>40.749886</td><td>-73.967255</td><td>40.760506</td><td>CSH</td><td>5.0</td><td>0.0</td><td>0.5</td><td>0.0</td><td>0.0</td><td>5.5</td></tr>\n",
       "<tr><td>00005007A9F30E289...</td><td>A9AE329EA1138052D...</td><td>2013-01-02 19:09:12</td><td>CMT</td><td>1</td><td>N</td><td>2013-01-02 19:21:41</td><td>2</td><td>748</td><td>1.5</td><td>-73.976036</td><td>40.760849</td><td>-73.997681</td><td>40.761112</td><td>CSH</td><td>9.5</td><td>1.0</td><td>0.5</td><td>0.0</td><td>0.0</td><td>11.0</td></tr>\n",
       "<tr><td>00005007A9F30E289...</td><td>A9AE329EA1138052D...</td><td>2013-01-12 03:40:05</td><td>CMT</td><td>1</td><td>N</td><td>2013-01-12 03:55:05</td><td>3</td><td>899</td><td>7.6</td><td>-73.986168</td><td>40.750507</td><td>-73.873573</td><td>40.720619</td><td>CSH</td><td>22.5</td><td>0.5</td><td>0.5</td><td>0.0</td><td>4.8</td><td>28.3</td></tr>\n",
       "<tr><td>00005007A9F30E289...</td><td>A9AE329EA1138052D...</td><td>2013-01-18 19:24:57</td><td>CMT</td><td>1</td><td>N</td><td>2013-01-18 19:27:16</td><td>1</td><td>139</td><td>0.3</td><td>-73.999138</td><td>40.738503</td><td>-74.000679</td><td>40.742367</td><td>CSH</td><td>3.5</td><td>1.0</td><td>0.5</td><td>0.0</td><td>0.0</td><td>5.0</td></tr>\n",
       "<tr><td>00005007A9F30E289...</td><td>A9AE329EA1138052D...</td><td>2013-01-21 00:27:10</td><td>CMT</td><td>1</td><td>N</td><td>2013-01-21 00:44:31</td><td>1</td><td>1040</td><td>8.9</td><td>-73.993759</td><td>40.682247</td><td>-73.950783</td><td>40.774765</td><td>CRD</td><td>26.5</td><td>0.5</td><td>0.5</td><td>2.0</td><td>0.0</td><td>29.5</td></tr>\n",
       "<tr><td>00005007A9F30E289...</td><td>A9AE329EA1138052D...</td><td>2013-01-24 22:09:35</td><td>CMT</td><td>1</td><td>N</td><td>2013-01-24 22:11:22</td><td>3</td><td>107</td><td>0.3</td><td>-73.970825</td><td>40.765099</td><td>-73.975792</td><td>40.763954</td><td>CSH</td><td>3.5</td><td>0.5</td><td>0.5</td><td>0.0</td><td>0.0</td><td>4.5</td></tr>\n",
       "<tr><td>00005007A9F30E289...</td><td>A9AE329EA1138052D...</td><td>2013-01-25 00:41:31</td><td>CMT</td><td>1</td><td>N</td><td>2013-01-25 00:43:28</td><td>1</td><td>116</td><td>0.3</td><td>-73.968506</td><td>40.683975</td><td>-73.968018</td><td>40.680359</td><td>CRD</td><td>3.5</td><td>0.5</td><td>0.5</td><td>1.35</td><td>0.0</td><td>5.85</td></tr>\n",
       "<tr><td>00005007A9F30E289...</td><td>A9AE329EA1138052D...</td><td>2013-01-26 18:15:57</td><td>CMT</td><td>1</td><td>N</td><td>2013-01-26 18:31:18</td><td>1</td><td>921</td><td>2.8</td><td>-73.961807</td><td>40.779728</td><td>-73.991135</td><td>40.750603</td><td>CRD</td><td>13.0</td><td>0.0</td><td>0.5</td><td>2.7</td><td>0.0</td><td>16.2</td></tr>\n",
       "</table>\n",
       "only showing top 20 rows\n"
      ],
      "text/plain": [
       "+--------------------+--------------------+-------------------+---------+---------+------------------+-------------------+---------------+-----------------+-------------+----------------+---------------+-----------------+----------------+------------+-----------+---------+-------+----------+------------+------------+\n",
       "|           medallion|        hack_license|    pickup_datetime|vendor_id|rate_code|store_and_fwd_flag|   dropoff_datetime|passenger_count|trip_time_in_secs|trip_distance|pickup_longitude|pickup_latitude|dropoff_longitude|dropoff_latitude|payment_type|fare_amount|surcharge|mta_tax|tip_amount|tolls_amount|total_amount|\n",
       "+--------------------+--------------------+-------------------+---------+---------+------------------+-------------------+---------------+-----------------+-------------+----------------+---------------+-----------------+----------------+------------+-----------+---------+-------+----------+------------+------------+\n",
       "|00005007A9F30E289...|25F6CC95763517367...|2013-01-22 20:31:52|      CMT|        1|                 N|2013-01-22 20:44:09|              1|              736|          7.2|      -73.874672|      40.773994|       -73.952728|       40.711437|         CSH|       21.0|      0.5|    0.5|       0.0|         0.0|        22.0|\n",
       "|00005007A9F30E289...|25F6CC95763517367...|2013-01-22 22:19:59|      CMT|        1|                 N|2013-01-22 22:29:50|              2|              591|          2.0|      -73.988449|      40.718773|       -73.990547|        40.73978|         CSH|        9.5|      0.5|    0.5|       0.0|         0.0|        10.5|\n",
       "|00005007A9F30E289...|39C3E34B3E338A721...|2013-01-11 13:28:30|      CMT|        1|                 N|2013-01-11 13:34:48|              1|              377|          0.4|      -73.974434|      40.757935|       -73.975021|       40.753166|         CSH|        5.5|      0.0|    0.5|       0.0|         0.0|         6.0|\n",
       "|00005007A9F30E289...|39C3E34B3E338A721...|2013-01-14 11:43:31|      CMT|        1|                 N|2013-01-14 11:51:12|              2|              461|          1.2|      -74.001915|      40.740738|       -74.007149|       40.752571|         CSH|        7.0|      0.0|    0.5|       0.0|         0.0|         7.5|\n",
       "|00005007A9F30E289...|39C3E34B3E338A721...|2013-01-16 12:00:05|      CMT|        1|                 N|2013-01-16 12:12:10|              1|              724|          1.8|      -73.968857|       40.76466|       -73.949387|       40.772774|         CSH|        9.5|      0.0|    0.5|       0.0|         0.0|        10.0|\n",
       "|00005007A9F30E289...|39C3E34B3E338A721...|2013-01-18 11:39:16|      CMT|        1|                 N|2013-01-18 11:45:25|              1|              369|          0.7|       -73.97287|      40.761864|       -73.976639|        40.75919|         CSH|        5.5|      0.0|    0.5|       0.0|         0.0|         6.0|\n",
       "|00005007A9F30E289...|39C3E34B3E338A721...|2013-01-19 16:39:02|      CMT|        1|                 N|2013-01-19 16:44:43|              2|              340|          1.4|      -73.973137|      40.755074|       -73.986084|       40.750919|         CSH|        6.5|      0.0|    0.5|       0.0|         0.0|         7.0|\n",
       "|00005007A9F30E289...|39C3E34B3E338A721...|2013-01-21 09:36:24|      CMT|        1|                 N|2013-01-21 09:44:22|              1|              478|          0.7|      -73.977135|      40.752502|       -73.987953|       40.754055|         CSH|        7.0|      0.0|    0.5|       0.0|         0.0|         7.5|\n",
       "|00005007A9F30E289...|39C3E34B3E338A721...|2013-01-21 16:13:36|      CMT|        1|                 N|2013-01-21 16:15:12|              1|               95|          0.6|      -74.007957|      40.723743|       -74.006538|       40.732533|         CSH|        4.0|      0.0|    0.5|       0.0|         0.0|         4.5|\n",
       "|00005007A9F30E289...|39C3E34B3E338A721...|2013-01-21 16:37:45|      CMT|        1|                 N|2013-01-21 16:42:12|              2|              266|          0.7|       -73.98082|      40.766384|       -73.966805|       40.760517|         CRD|        5.0|      0.0|    0.5|       1.1|         0.0|         6.6|\n",
       "|00005007A9F30E289...|39C3E34B3E338A721...|2013-01-25 06:43:10|      CMT|        1|                 N|2013-01-25 06:55:22|              1|              731|          2.7|      -73.992264|      40.751144|       -73.958092|       40.764858|         CRD|       11.5|      0.0|    0.5|       2.4|         0.0|        14.4|\n",
       "|00005007A9F30E289...|43468C5D35F828693...|2013-01-01 09:24:17|      CMT|        1|                 N|2013-01-01 09:33:15|              1|              537|          2.7|       -73.98407|      40.721382|       -73.959076|       40.716599|         CSH|       10.5|      0.0|    0.5|       0.0|         0.0|        11.0|\n",
       "|00005007A9F30E289...|43468C5D35F828693...|2013-01-01 12:27:45|      CMT|        1|                 N|2013-01-01 12:30:49|              1|              184|          0.8|      -73.970665|      40.749886|       -73.967255|       40.760506|         CSH|        5.0|      0.0|    0.5|       0.0|         0.0|         5.5|\n",
       "|00005007A9F30E289...|A9AE329EA1138052D...|2013-01-02 19:09:12|      CMT|        1|                 N|2013-01-02 19:21:41|              2|              748|          1.5|      -73.976036|      40.760849|       -73.997681|       40.761112|         CSH|        9.5|      1.0|    0.5|       0.0|         0.0|        11.0|\n",
       "|00005007A9F30E289...|A9AE329EA1138052D...|2013-01-12 03:40:05|      CMT|        1|                 N|2013-01-12 03:55:05|              3|              899|          7.6|      -73.986168|      40.750507|       -73.873573|       40.720619|         CSH|       22.5|      0.5|    0.5|       0.0|         4.8|        28.3|\n",
       "|00005007A9F30E289...|A9AE329EA1138052D...|2013-01-18 19:24:57|      CMT|        1|                 N|2013-01-18 19:27:16|              1|              139|          0.3|      -73.999138|      40.738503|       -74.000679|       40.742367|         CSH|        3.5|      1.0|    0.5|       0.0|         0.0|         5.0|\n",
       "|00005007A9F30E289...|A9AE329EA1138052D...|2013-01-21 00:27:10|      CMT|        1|                 N|2013-01-21 00:44:31|              1|             1040|          8.9|      -73.993759|      40.682247|       -73.950783|       40.774765|         CRD|       26.5|      0.5|    0.5|       2.0|         0.0|        29.5|\n",
       "|00005007A9F30E289...|A9AE329EA1138052D...|2013-01-24 22:09:35|      CMT|        1|                 N|2013-01-24 22:11:22|              3|              107|          0.3|      -73.970825|      40.765099|       -73.975792|       40.763954|         CSH|        3.5|      0.5|    0.5|       0.0|         0.0|         4.5|\n",
       "|00005007A9F30E289...|A9AE329EA1138052D...|2013-01-25 00:41:31|      CMT|        1|                 N|2013-01-25 00:43:28|              1|              116|          0.3|      -73.968506|      40.683975|       -73.968018|       40.680359|         CRD|        3.5|      0.5|    0.5|      1.35|         0.0|        5.85|\n",
       "|00005007A9F30E289...|A9AE329EA1138052D...|2013-01-26 18:15:57|      CMT|        1|                 N|2013-01-26 18:31:18|              1|              921|          2.8|      -73.961807|      40.779728|       -73.991135|       40.750603|         CRD|       13.0|      0.0|    0.5|       2.7|         0.0|        16.2|\n",
       "+--------------------+--------------------+-------------------+---------+---------+------------------+-------------------+---------------+-----------------+-------------+----------------+---------------+-----------------+----------------+------------+-----------+---------+-------+----------+------------+------------+\n",
       "only showing top 20 rows"
      ]
     },
     "execution_count": 18,
     "metadata": {},
     "output_type": "execute_result"
    }
   ],
   "source": [
    "trip = trip_data2.join(trip_fare, ['medallion', 'hack_license', 'pickup_datetime', 'vendor_id'], how = 'inner')\n",
    "trip"
   ]
  },
  {
   "cell_type": "code",
   "execution_count": 19,
   "id": "a00e0a8c",
   "metadata": {},
   "outputs": [
    {
     "name": "stderr",
     "output_type": "stream",
     "text": [
      "                                                                                \r"
     ]
    },
    {
     "data": {
      "text/plain": [
       "14776529"
      ]
     },
     "execution_count": 19,
     "metadata": {},
     "output_type": "execute_result"
    }
   ],
   "source": [
    "trip.count()"
   ]
  },
  {
   "attachments": {},
   "cell_type": "markdown",
   "id": "ee7f8600",
   "metadata": {},
   "source": [
    "And now, we can filter by date (2013-01-01)."
   ]
  },
  {
   "cell_type": "code",
   "execution_count": 20,
   "id": "a899e455",
   "metadata": {},
   "outputs": [
    {
     "name": "stderr",
     "output_type": "stream",
     "text": [
      "                                                                                \r"
     ]
    },
    {
     "data": {
      "text/html": [
       "<table border='1'>\n",
       "<tr><th>medallion</th><th>hack_license</th><th>pickup_datetime</th><th>vendor_id</th><th>rate_code</th><th>store_and_fwd_flag</th><th>dropoff_datetime</th><th>passenger_count</th><th>trip_time_in_secs</th><th>trip_distance</th><th>pickup_longitude</th><th>pickup_latitude</th><th>dropoff_longitude</th><th>dropoff_latitude</th><th>payment_type</th><th>fare_amount</th><th>surcharge</th><th>mta_tax</th><th>tip_amount</th><th>tolls_amount</th><th>total_amount</th></tr>\n",
       "<tr><td>00005007A9F30E289...</td><td>43468C5D35F828693...</td><td>2013-01-01 09:24:17</td><td>CMT</td><td>1</td><td>N</td><td>2013-01-01 09:33:15</td><td>1</td><td>537</td><td>2.7</td><td>-73.98407</td><td>40.721382</td><td>-73.959076</td><td>40.716599</td><td>CSH</td><td>10.5</td><td>0.0</td><td>0.5</td><td>0.0</td><td>0.0</td><td>11.0</td></tr>\n",
       "<tr><td>00005007A9F30E289...</td><td>43468C5D35F828693...</td><td>2013-01-01 09:46:11</td><td>CMT</td><td>1</td><td>N</td><td>2013-01-01 09:57:32</td><td>1</td><td>681</td><td>2.7</td><td>-73.980301</td><td>40.722206</td><td>-73.992561</td><td>40.748272</td><td>CSH</td><td>11.0</td><td>0.0</td><td>0.5</td><td>0.0</td><td>0.0</td><td>11.5</td></tr>\n",
       "<tr><td>00005007A9F30E289...</td><td>43468C5D35F828693...</td><td>2013-01-01 10:17:38</td><td>CMT</td><td>1</td><td>N</td><td>2013-01-01 10:26:25</td><td>1</td><td>526</td><td>1.1</td><td>-73.982407</td><td>40.742542</td><td>-73.99382</td><td>40.749969</td><td>CSH</td><td>7.5</td><td>0.0</td><td>0.5</td><td>0.0</td><td>0.0</td><td>8.0</td></tr>\n",
       "<tr><td>00005007A9F30E289...</td><td>43468C5D35F828693...</td><td>2013-01-01 12:27:45</td><td>CMT</td><td>1</td><td>N</td><td>2013-01-01 12:30:49</td><td>1</td><td>184</td><td>0.8</td><td>-73.970665</td><td>40.749886</td><td>-73.967255</td><td>40.760506</td><td>CSH</td><td>5.0</td><td>0.0</td><td>0.5</td><td>0.0</td><td>0.0</td><td>5.5</td></tr>\n",
       "<tr><td>00005007A9F30E289...</td><td>43468C5D35F828693...</td><td>2013-01-01 12:40:56</td><td>CMT</td><td>1</td><td>N</td><td>2013-01-01 12:48:17</td><td>1</td><td>441</td><td>1.1</td><td>-73.970558</td><td>40.785912</td><td>-73.971672</td><td>40.797298</td><td>CSH</td><td>7.0</td><td>0.0</td><td>0.5</td><td>0.0</td><td>0.0</td><td>7.5</td></tr>\n",
       "<tr><td>00005007A9F30E289...</td><td>A9AE329EA1138052D...</td><td>2013-01-01 01:07:33</td><td>CMT</td><td>1</td><td>N</td><td>2013-01-01 01:19:52</td><td>2</td><td>738</td><td>3.4</td><td>-73.962669</td><td>40.775368</td><td>-73.956116</td><td>40.804432</td><td>CSH</td><td>13.0</td><td>0.5</td><td>0.5</td><td>0.0</td><td>0.0</td><td>14.0</td></tr>\n",
       "<tr><td>00005007A9F30E289...</td><td>A9AE329EA1138052D...</td><td>2013-01-01 02:31:09</td><td>CMT</td><td>1</td><td>N</td><td>2013-01-01 02:42:14</td><td>4</td><td>665</td><td>2.6</td><td>-73.984711</td><td>40.769283</td><td>-73.953056</td><td>40.780083</td><td>CRD</td><td>11.0</td><td>0.5</td><td>0.5</td><td>2.4</td><td>0.0</td><td>14.4</td></tr>\n",
       "<tr><td>00005007A9F30E289...</td><td>A9AE329EA1138052D...</td><td>2013-01-01 03:27:23</td><td>CMT</td><td>1</td><td>Y</td><td>2013-01-01 03:45:10</td><td>2</td><td>1066</td><td>5.4</td><td>-73.983292</td><td>40.761707</td><td>-74.016266</td><td>40.705795</td><td>CSH</td><td>19.5</td><td>0.5</td><td>0.5</td><td>0.0</td><td>0.0</td><td>20.5</td></tr>\n",
       "<tr><td>00005007A9F30E289...</td><td>C72A773829ED990AF...</td><td>2013-01-01 17:49:49</td><td>CMT</td><td>1</td><td>N</td><td>2013-01-01 18:02:21</td><td>1</td><td>752</td><td>4.8</td><td>-73.953827</td><td>40.778835</td><td>-73.929901</td><td>40.831913</td><td>CSH</td><td>15.5</td><td>0.0</td><td>0.5</td><td>0.0</td><td>0.0</td><td>16.0</td></tr>\n",
       "<tr><td>00005007A9F30E289...</td><td>C72A773829ED990AF...</td><td>2013-01-01 19:58:15</td><td>CMT</td><td>1</td><td>N</td><td>2013-01-01 20:01:46</td><td>3</td><td>210</td><td>0.7</td><td>-73.99868</td><td>40.760933</td><td>-74.003738</td><td>40.751949</td><td>CSH</td><td>5.0</td><td>0.0</td><td>0.5</td><td>0.0</td><td>0.0</td><td>5.5</td></tr>\n",
       "<tr><td>00005007A9F30E289...</td><td>C72A773829ED990AF...</td><td>2013-01-01 20:04:03</td><td>CMT</td><td>1</td><td>N</td><td>2013-01-01 20:09:10</td><td>1</td><td>307</td><td>1.3</td><td>-74.000221</td><td>40.748314</td><td>-74.003235</td><td>40.733028</td><td>CRD</td><td>6.0</td><td>0.5</td><td>0.5</td><td>2.1</td><td>0.0</td><td>9.1</td></tr>\n",
       "<tr><td>00005007A9F30E289...</td><td>C72A773829ED990AF...</td><td>2013-01-01 20:12:01</td><td>CMT</td><td>1</td><td>N</td><td>2013-01-01 20:28:46</td><td>2</td><td>1005</td><td>5.4</td><td>-74.004028</td><td>40.732658</td><td>-73.950417</td><td>40.783661</td><td>CRD</td><td>17.5</td><td>0.5</td><td>0.5</td><td>2.0</td><td>0.0</td><td>20.5</td></tr>\n",
       "<tr><td>00005007A9F30E289...</td><td>C72A773829ED990AF...</td><td>2013-01-01 23:04:42</td><td>CMT</td><td>1</td><td>N</td><td>2013-01-01 23:16:46</td><td>3</td><td>724</td><td>2.5</td><td>-73.947906</td><td>40.774937</td><td>-73.975945</td><td>40.752628</td><td>CRD</td><td>11.0</td><td>0.5</td><td>0.5</td><td>2.4</td><td>0.0</td><td>14.4</td></tr>\n",
       "<tr><td>000318C2E3E638158...</td><td>91CE3B3A2F548CD8A...</td><td>2013-01-01 18:22:00</td><td>VTS</td><td>1</td><td>null</td><td>2013-01-01 18:27:00</td><td>5</td><td>300</td><td>1.17</td><td>-73.982239</td><td>40.773361</td><td>-73.991432</td><td>40.760235</td><td>CRD</td><td>6.0</td><td>0.0</td><td>0.5</td><td>1.5</td><td>0.0</td><td>8.0</td></tr>\n",
       "<tr><td>000351EDC735C0792...</td><td>9413377237F83B3FE...</td><td>2013-01-01 00:27:18</td><td>CMT</td><td>1</td><td>N</td><td>2013-01-01 00:30:11</td><td>4</td><td>172</td><td>0.6</td><td>-73.970978</td><td>40.75869</td><td>-73.972481</td><td>40.763214</td><td>CSH</td><td>4.5</td><td>0.5</td><td>0.5</td><td>0.0</td><td>0.0</td><td>5.5</td></tr>\n",
       "<tr><td>000351EDC735C0792...</td><td>9413377237F83B3FE...</td><td>2013-01-01 02:02:24</td><td>CMT</td><td>1</td><td>N</td><td>2013-01-01 02:06:30</td><td>2</td><td>246</td><td>0.7</td><td>-73.946609</td><td>40.792274</td><td>-73.936211</td><td>40.794765</td><td>CSH</td><td>5.0</td><td>0.5</td><td>0.5</td><td>0.0</td><td>0.0</td><td>6.0</td></tr>\n",
       "<tr><td>0009986BDBAB2F9A1...</td><td>44CED38841518B1FB...</td><td>2013-01-01 02:43:33</td><td>CMT</td><td>1</td><td>N</td><td>2013-01-01 02:47:00</td><td>1</td><td>206</td><td>1.4</td><td>-73.962395</td><td>40.767193</td><td>-73.953087</td><td>40.784153</td><td>CRD</td><td>6.0</td><td>0.5</td><td>0.5</td><td>1.4</td><td>0.0</td><td>8.4</td></tr>\n",
       "<tr><td>0009986BDBAB2F9A1...</td><td>44CED38841518B1FB...</td><td>2013-01-01 18:31:34</td><td>CMT</td><td>1</td><td>N</td><td>2013-01-01 18:41:52</td><td>1</td><td>617</td><td>2.3</td><td>-73.973503</td><td>40.748627</td><td>-74.003464</td><td>40.748207</td><td>CSH</td><td>10.5</td><td>0.0</td><td>0.5</td><td>0.0</td><td>0.0</td><td>11.0</td></tr>\n",
       "<tr><td>0009986BDBAB2F9A1...</td><td>EB0BF47D51268910F...</td><td>2013-01-01 06:31:08</td><td>CMT</td><td>1</td><td>N</td><td>2013-01-01 06:36:03</td><td>1</td><td>295</td><td>2.1</td><td>-73.980927</td><td>40.782444</td><td>-73.990608</td><td>40.756325</td><td>CSH</td><td>8.0</td><td>0.0</td><td>0.5</td><td>0.0</td><td>0.0</td><td>8.5</td></tr>\n",
       "<tr><td>0009986BDBAB2F9A1...</td><td>EB0BF47D51268910F...</td><td>2013-01-01 06:46:56</td><td>CMT</td><td>1</td><td>N</td><td>2013-01-01 06:50:04</td><td>1</td><td>187</td><td>1.0</td><td>-73.984406</td><td>40.749371</td><td>-74.001717</td><td>40.755642</td><td>CRD</td><td>5.5</td><td>0.0</td><td>0.5</td><td>1.8</td><td>0.0</td><td>7.8</td></tr>\n",
       "</table>\n",
       "only showing top 20 rows\n"
      ],
      "text/plain": [
       "+--------------------+--------------------+-------------------+---------+---------+------------------+-------------------+---------------+-----------------+-------------+----------------+---------------+-----------------+----------------+------------+-----------+---------+-------+----------+------------+------------+\n",
       "|           medallion|        hack_license|    pickup_datetime|vendor_id|rate_code|store_and_fwd_flag|   dropoff_datetime|passenger_count|trip_time_in_secs|trip_distance|pickup_longitude|pickup_latitude|dropoff_longitude|dropoff_latitude|payment_type|fare_amount|surcharge|mta_tax|tip_amount|tolls_amount|total_amount|\n",
       "+--------------------+--------------------+-------------------+---------+---------+------------------+-------------------+---------------+-----------------+-------------+----------------+---------------+-----------------+----------------+------------+-----------+---------+-------+----------+------------+------------+\n",
       "|00005007A9F30E289...|43468C5D35F828693...|2013-01-01 09:24:17|      CMT|        1|                 N|2013-01-01 09:33:15|              1|              537|          2.7|       -73.98407|      40.721382|       -73.959076|       40.716599|         CSH|       10.5|      0.0|    0.5|       0.0|         0.0|        11.0|\n",
       "|00005007A9F30E289...|43468C5D35F828693...|2013-01-01 09:46:11|      CMT|        1|                 N|2013-01-01 09:57:32|              1|              681|          2.7|      -73.980301|      40.722206|       -73.992561|       40.748272|         CSH|       11.0|      0.0|    0.5|       0.0|         0.0|        11.5|\n",
       "|00005007A9F30E289...|43468C5D35F828693...|2013-01-01 10:17:38|      CMT|        1|                 N|2013-01-01 10:26:25|              1|              526|          1.1|      -73.982407|      40.742542|        -73.99382|       40.749969|         CSH|        7.5|      0.0|    0.5|       0.0|         0.0|         8.0|\n",
       "|00005007A9F30E289...|43468C5D35F828693...|2013-01-01 12:27:45|      CMT|        1|                 N|2013-01-01 12:30:49|              1|              184|          0.8|      -73.970665|      40.749886|       -73.967255|       40.760506|         CSH|        5.0|      0.0|    0.5|       0.0|         0.0|         5.5|\n",
       "|00005007A9F30E289...|43468C5D35F828693...|2013-01-01 12:40:56|      CMT|        1|                 N|2013-01-01 12:48:17|              1|              441|          1.1|      -73.970558|      40.785912|       -73.971672|       40.797298|         CSH|        7.0|      0.0|    0.5|       0.0|         0.0|         7.5|\n",
       "|00005007A9F30E289...|A9AE329EA1138052D...|2013-01-01 01:07:33|      CMT|        1|                 N|2013-01-01 01:19:52|              2|              738|          3.4|      -73.962669|      40.775368|       -73.956116|       40.804432|         CSH|       13.0|      0.5|    0.5|       0.0|         0.0|        14.0|\n",
       "|00005007A9F30E289...|A9AE329EA1138052D...|2013-01-01 02:31:09|      CMT|        1|                 N|2013-01-01 02:42:14|              4|              665|          2.6|      -73.984711|      40.769283|       -73.953056|       40.780083|         CRD|       11.0|      0.5|    0.5|       2.4|         0.0|        14.4|\n",
       "|00005007A9F30E289...|A9AE329EA1138052D...|2013-01-01 03:27:23|      CMT|        1|                 Y|2013-01-01 03:45:10|              2|             1066|          5.4|      -73.983292|      40.761707|       -74.016266|       40.705795|         CSH|       19.5|      0.5|    0.5|       0.0|         0.0|        20.5|\n",
       "|00005007A9F30E289...|C72A773829ED990AF...|2013-01-01 17:49:49|      CMT|        1|                 N|2013-01-01 18:02:21|              1|              752|          4.8|      -73.953827|      40.778835|       -73.929901|       40.831913|         CSH|       15.5|      0.0|    0.5|       0.0|         0.0|        16.0|\n",
       "|00005007A9F30E289...|C72A773829ED990AF...|2013-01-01 19:58:15|      CMT|        1|                 N|2013-01-01 20:01:46|              3|              210|          0.7|       -73.99868|      40.760933|       -74.003738|       40.751949|         CSH|        5.0|      0.0|    0.5|       0.0|         0.0|         5.5|\n",
       "|00005007A9F30E289...|C72A773829ED990AF...|2013-01-01 20:04:03|      CMT|        1|                 N|2013-01-01 20:09:10|              1|              307|          1.3|      -74.000221|      40.748314|       -74.003235|       40.733028|         CRD|        6.0|      0.5|    0.5|       2.1|         0.0|         9.1|\n",
       "|00005007A9F30E289...|C72A773829ED990AF...|2013-01-01 20:12:01|      CMT|        1|                 N|2013-01-01 20:28:46|              2|             1005|          5.4|      -74.004028|      40.732658|       -73.950417|       40.783661|         CRD|       17.5|      0.5|    0.5|       2.0|         0.0|        20.5|\n",
       "|00005007A9F30E289...|C72A773829ED990AF...|2013-01-01 23:04:42|      CMT|        1|                 N|2013-01-01 23:16:46|              3|              724|          2.5|      -73.947906|      40.774937|       -73.975945|       40.752628|         CRD|       11.0|      0.5|    0.5|       2.4|         0.0|        14.4|\n",
       "|000318C2E3E638158...|91CE3B3A2F548CD8A...|2013-01-01 18:22:00|      VTS|        1|              null|2013-01-01 18:27:00|              5|              300|         1.17|      -73.982239|      40.773361|       -73.991432|       40.760235|         CRD|        6.0|      0.0|    0.5|       1.5|         0.0|         8.0|\n",
       "|000351EDC735C0792...|9413377237F83B3FE...|2013-01-01 00:27:18|      CMT|        1|                 N|2013-01-01 00:30:11|              4|              172|          0.6|      -73.970978|       40.75869|       -73.972481|       40.763214|         CSH|        4.5|      0.5|    0.5|       0.0|         0.0|         5.5|\n",
       "|000351EDC735C0792...|9413377237F83B3FE...|2013-01-01 02:02:24|      CMT|        1|                 N|2013-01-01 02:06:30|              2|              246|          0.7|      -73.946609|      40.792274|       -73.936211|       40.794765|         CSH|        5.0|      0.5|    0.5|       0.0|         0.0|         6.0|\n",
       "|0009986BDBAB2F9A1...|44CED38841518B1FB...|2013-01-01 02:43:33|      CMT|        1|                 N|2013-01-01 02:47:00|              1|              206|          1.4|      -73.962395|      40.767193|       -73.953087|       40.784153|         CRD|        6.0|      0.5|    0.5|       1.4|         0.0|         8.4|\n",
       "|0009986BDBAB2F9A1...|44CED38841518B1FB...|2013-01-01 18:31:34|      CMT|        1|                 N|2013-01-01 18:41:52|              1|              617|          2.3|      -73.973503|      40.748627|       -74.003464|       40.748207|         CSH|       10.5|      0.0|    0.5|       0.0|         0.0|        11.0|\n",
       "|0009986BDBAB2F9A1...|EB0BF47D51268910F...|2013-01-01 06:31:08|      CMT|        1|                 N|2013-01-01 06:36:03|              1|              295|          2.1|      -73.980927|      40.782444|       -73.990608|       40.756325|         CSH|        8.0|      0.0|    0.5|       0.0|         0.0|         8.5|\n",
       "|0009986BDBAB2F9A1...|EB0BF47D51268910F...|2013-01-01 06:46:56|      CMT|        1|                 N|2013-01-01 06:50:04|              1|              187|          1.0|      -73.984406|      40.749371|       -74.001717|       40.755642|         CRD|        5.5|      0.0|    0.5|       1.8|         0.0|         7.8|\n",
       "+--------------------+--------------------+-------------------+---------+---------+------------------+-------------------+---------------+-----------------+-------------+----------------+---------------+-----------------+----------------+------------+-----------+---------+-------+----------+------------+------------+\n",
       "only showing top 20 rows"
      ]
     },
     "execution_count": 20,
     "metadata": {},
     "output_type": "execute_result"
    }
   ],
   "source": [
    "trip2 = trip.filter(trip.pickup_datetime.contains('2013-01-01'))\n",
    "trip2"
   ]
  },
  {
   "cell_type": "code",
   "execution_count": 21,
   "id": "ce8bd226",
   "metadata": {},
   "outputs": [
    {
     "name": "stderr",
     "output_type": "stream",
     "text": [
      "                                                                                \r"
     ]
    },
    {
     "data": {
      "text/plain": [
       "412629"
      ]
     },
     "execution_count": 21,
     "metadata": {},
     "output_type": "execute_result"
    }
   ],
   "source": [
    "trip2.count()"
   ]
  },
  {
   "attachments": {},
   "cell_type": "markdown",
   "id": "5f246287",
   "metadata": {},
   "source": [
    "### Exercise 2\n",
    "Consider only Manhattan, Bronx and Brooklyn districts. Then create a dataframe that shows the total number of trips *within* the same district and *across* all the other districts mentioned before.\n",
    "\n",
    "For example, for Manhattan borough you should consider the total number of the following trips:\n",
    "- Manhattan → Manhattan\n",
    "- Manhattan → Brooklyn\n",
    "- Manhattan → Bronx\n",
    "\n",
    "You should then do the same for Bronx and Brooklyn boroughs."
   ]
  },
  {
   "attachments": {},
   "cell_type": "markdown",
   "id": "9650b148",
   "metadata": {},
   "source": [
    "#### Import nyc_boroughs.geojson"
   ]
  },
  {
   "attachments": {},
   "cell_type": "markdown",
   "id": "8f60b9c8",
   "metadata": {},
   "source": [
    "We import the 'nyc_boroughs.geojson' file."
   ]
  },
  {
   "cell_type": "code",
   "execution_count": 22,
   "id": "1b7d45c4",
   "metadata": {},
   "outputs": [],
   "source": [
    "nyc_boroughs = gpd.read_file('nyc-boroughs.geojson')\n",
    "nyc_boroughs = nyc_boroughs[['boroughCode', 'borough', 'geometry']]"
   ]
  },
  {
   "attachments": {},
   "cell_type": "markdown",
   "id": "f9c90bb7",
   "metadata": {},
   "source": [
    "#### Filter nyc_boroughs to get only Manhattan, Bronx and Brooklyn boroughs"
   ]
  },
  {
   "attachments": {},
   "cell_type": "markdown",
   "id": "73fccff1",
   "metadata": {},
   "source": [
    "We filter the 'nyc_boroughs' dataframe to get only Manhattan, Bronx and Brooklyn boroughs."
   ]
  },
  {
   "cell_type": "code",
   "execution_count": 23,
   "id": "b23a8c93",
   "metadata": {},
   "outputs": [
    {
     "data": {
      "text/html": [
       "<div>\n",
       "<style scoped>\n",
       "    .dataframe tbody tr th:only-of-type {\n",
       "        vertical-align: middle;\n",
       "    }\n",
       "\n",
       "    .dataframe tbody tr th {\n",
       "        vertical-align: top;\n",
       "    }\n",
       "\n",
       "    .dataframe thead th {\n",
       "        text-align: right;\n",
       "    }\n",
       "</style>\n",
       "<table border=\"1\" class=\"dataframe\">\n",
       "  <thead>\n",
       "    <tr style=\"text-align: right;\">\n",
       "      <th></th>\n",
       "      <th>boroughCode</th>\n",
       "      <th>borough</th>\n",
       "      <th>geometry</th>\n",
       "    </tr>\n",
       "  </thead>\n",
       "  <tbody>\n",
       "    <tr>\n",
       "      <th>24</th>\n",
       "      <td>3</td>\n",
       "      <td>Brooklyn</td>\n",
       "      <td>POLYGON ((-73.86706 40.58209, -73.86815 40.581...</td>\n",
       "    </tr>\n",
       "    <tr>\n",
       "      <th>25</th>\n",
       "      <td>3</td>\n",
       "      <td>Brooklyn</td>\n",
       "      <td>POLYGON ((-73.86953 40.59871, -73.86967 40.596...</td>\n",
       "    </tr>\n",
       "    <tr>\n",
       "      <th>26</th>\n",
       "      <td>3</td>\n",
       "      <td>Brooklyn</td>\n",
       "      <td>POLYGON ((-73.91990 40.59960, -73.91998 40.599...</td>\n",
       "    </tr>\n",
       "    <tr>\n",
       "      <th>27</th>\n",
       "      <td>3</td>\n",
       "      <td>Brooklyn</td>\n",
       "      <td>POLYGON ((-73.87019 40.59900, -73.87108 40.598...</td>\n",
       "    </tr>\n",
       "    <tr>\n",
       "      <th>28</th>\n",
       "      <td>3</td>\n",
       "      <td>Brooklyn</td>\n",
       "      <td>POLYGON ((-73.85243 40.59733, -73.85400 40.596...</td>\n",
       "    </tr>\n",
       "    <tr>\n",
       "      <th>...</th>\n",
       "      <td>...</td>\n",
       "      <td>...</td>\n",
       "      <td>...</td>\n",
       "    </tr>\n",
       "    <tr>\n",
       "      <th>99</th>\n",
       "      <td>2</td>\n",
       "      <td>Bronx</td>\n",
       "      <td>POLYGON ((-73.78103 40.87648, -73.78121 40.876...</td>\n",
       "    </tr>\n",
       "    <tr>\n",
       "      <th>100</th>\n",
       "      <td>2</td>\n",
       "      <td>Bronx</td>\n",
       "      <td>POLYGON ((-73.78651 40.88094, -73.78582 40.880...</td>\n",
       "    </tr>\n",
       "    <tr>\n",
       "      <th>101</th>\n",
       "      <td>2</td>\n",
       "      <td>Bronx</td>\n",
       "      <td>POLYGON ((-73.87295 40.90444, -73.85947 40.900...</td>\n",
       "    </tr>\n",
       "    <tr>\n",
       "      <th>102</th>\n",
       "      <td>2</td>\n",
       "      <td>Bronx</td>\n",
       "      <td>POLYGON ((-73.80518 40.81527, -73.80508 40.815...</td>\n",
       "    </tr>\n",
       "    <tr>\n",
       "      <th>103</th>\n",
       "      <td>2</td>\n",
       "      <td>Bronx</td>\n",
       "      <td>POLYGON ((-73.80408 40.81349, -73.80424 40.813...</td>\n",
       "    </tr>\n",
       "  </tbody>\n",
       "</table>\n",
       "<p>80 rows × 3 columns</p>\n",
       "</div>"
      ],
      "text/plain": [
       "     boroughCode   borough                                           geometry\n",
       "24             3  Brooklyn  POLYGON ((-73.86706 40.58209, -73.86815 40.581...\n",
       "25             3  Brooklyn  POLYGON ((-73.86953 40.59871, -73.86967 40.596...\n",
       "26             3  Brooklyn  POLYGON ((-73.91990 40.59960, -73.91998 40.599...\n",
       "27             3  Brooklyn  POLYGON ((-73.87019 40.59900, -73.87108 40.598...\n",
       "28             3  Brooklyn  POLYGON ((-73.85243 40.59733, -73.85400 40.596...\n",
       "..           ...       ...                                                ...\n",
       "99             2     Bronx  POLYGON ((-73.78103 40.87648, -73.78121 40.876...\n",
       "100            2     Bronx  POLYGON ((-73.78651 40.88094, -73.78582 40.880...\n",
       "101            2     Bronx  POLYGON ((-73.87295 40.90444, -73.85947 40.900...\n",
       "102            2     Bronx  POLYGON ((-73.80518 40.81527, -73.80508 40.815...\n",
       "103            2     Bronx  POLYGON ((-73.80408 40.81349, -73.80424 40.813...\n",
       "\n",
       "[80 rows x 3 columns]"
      ]
     },
     "execution_count": 23,
     "metadata": {},
     "output_type": "execute_result"
    }
   ],
   "source": [
    "nyc_boroughs_mbb = nyc_boroughs[(nyc_boroughs['borough'] == 'Manhattan') | (nyc_boroughs['borough'] == 'Brooklyn') | (nyc_boroughs['borough'] == 'Bronx')]\n",
    "nyc_boroughs_mbb"
   ]
  },
  {
   "attachments": {},
   "cell_type": "markdown",
   "id": "8a011402",
   "metadata": {},
   "source": [
    "We define the boroughs of interest and for each of them we extract the corresponding geometry from nyc_boroughs. Then, with unary_union we merge the coordinates of each borough to create a single polygon."
   ]
  },
  {
   "cell_type": "code",
   "execution_count": 206,
   "id": "f3ad499b",
   "metadata": {},
   "outputs": [
    {
     "data": {
      "image/png": "[encoded data removed]",
      "text/plain": [
       "<Figure size 600x600 with 1 Axes>"
      ]
     },
     "metadata": {},
     "output_type": "display_data"
    }
   ],
   "source": [
    "manhattan = nyc_boroughs[nyc_boroughs['borough'] == 'Manhattan']\n",
    "brooklyn = nyc_boroughs[nyc_boroughs['borough'] == 'Brooklyn']\n",
    "bronx = nyc_boroughs[nyc_boroughs['borough'] == 'Bronx']\n",
    "queens = nyc_boroughs[nyc_boroughs['borough'] == 'Queens']\n",
    "staten_island = nyc_boroughs[nyc_boroughs['borough'] == 'Staten Island']\n",
    "\n",
    "manhattan_polygon = unary_union(manhattan.geometry)\n",
    "brooklyn_polygon = unary_union(brooklyn.geometry)\n",
    "bronx_polygon = unary_union(bronx.geometry)\n",
    "queens_polygon = unary_union(queens.geometry)\n",
    "staten_island_polygon = unary_union(staten_island.geometry)\n",
    "\n",
    "fig, ax = plt.subplots(figsize = (6,6))\n",
    "nyc_boroughs_mbb.plot(ax = ax, color = 'grey')\n",
    "manhattan.plot(ax = ax, color = '#FFCCBC')\n",
    "brooklyn.plot(ax = ax, color = '#FFE0B2')\n",
    "bronx.plot(ax = ax, color = '#B2EBF2')\n",
    "queens.plot(ax = ax, color = '#DCEDC8')\n",
    "staten_island.plot(ax = ax, color = '#E1BEE7')\n",
    "ax.set_title('NYC Boroughs')\n",
    "ax.set_xticks([])\n",
    "ax.set_yticks([])\n",
    "plt.show()"
   ]
  },
  {
   "attachments": {},
   "cell_type": "markdown",
   "id": "dcb6f3af",
   "metadata": {},
   "source": [
    "#### Check if points are inside the polygon of the boroughs of interest and add a column to the trip dataframe to indicate the borough of the pickup and dropoff point\n",
    "\n",
    "Now we can try to check if points are inside the polygon."
   ]
  },
  {
   "cell_type": "code",
   "execution_count": 30,
   "id": "d329571c",
   "metadata": {},
   "outputs": [],
   "source": [
    "def inside_polygon(x, y):\n",
    "    point = Point(x, y)\n",
    "    if point.within(manhattan_polygon):\n",
    "        return 'Manhattan'\n",
    "    elif point.within(brooklyn_polygon):\n",
    "        return 'Brooklyn'\n",
    "    elif point.within(bronx_polygon):\n",
    "        return 'Bronx'\n",
    "    elif point.within(queens_polygon):\n",
    "        return 'Queens'\n",
    "    elif point.within(staten_island_polygon):\n",
    "        return 'Staten Island'\n",
    "    else:\n",
    "        return 'Other'\n",
    "\n",
    "inside_polygon_udf = udf(inside_polygon)"
   ]
  },
  {
   "attachments": {},
   "cell_type": "markdown",
   "id": "9d45e102",
   "metadata": {},
   "source": [
    "Looking at the questions below we need to have pickup_hour column, so we define it in datafarme trip3 so that after we don't have to compute it everytime we need it."
   ]
  },
  {
   "cell_type": "code",
   "execution_count": 31,
   "id": "732ec033",
   "metadata": {},
   "outputs": [
    {
     "name": "stderr",
     "output_type": "stream",
     "text": [
      "                                                                                \r"
     ]
    },
    {
     "data": {
      "text/html": [
       "<table border='1'>\n",
       "<tr><th>medallion</th><th>hack_license</th><th>pickup_datetime</th><th>vendor_id</th><th>rate_code</th><th>store_and_fwd_flag</th><th>dropoff_datetime</th><th>passenger_count</th><th>trip_time_in_secs</th><th>trip_distance</th><th>pickup_longitude</th><th>pickup_latitude</th><th>dropoff_longitude</th><th>dropoff_latitude</th><th>payment_type</th><th>fare_amount</th><th>surcharge</th><th>mta_tax</th><th>tip_amount</th><th>tolls_amount</th><th>total_amount</th><th>pickup_borough</th><th>dropoff_borough</th><th>pickup_hour</th></tr>\n",
       "<tr><td>00005007A9F30E289...</td><td>43468C5D35F828693...</td><td>2013-01-01 09:24:17</td><td>CMT</td><td>1</td><td>N</td><td>2013-01-01 09:33:15</td><td>1</td><td>537</td><td>2.7</td><td>-73.98407</td><td>40.721382</td><td>-73.959076</td><td>40.716599</td><td>CSH</td><td>10.5</td><td>0.0</td><td>0.5</td><td>0.0</td><td>0.0</td><td>11.0</td><td>Manhattan</td><td>Brooklyn</td><td>9</td></tr>\n",
       "<tr><td>00005007A9F30E289...</td><td>43468C5D35F828693...</td><td>2013-01-01 09:46:11</td><td>CMT</td><td>1</td><td>N</td><td>2013-01-01 09:57:32</td><td>1</td><td>681</td><td>2.7</td><td>-73.980301</td><td>40.722206</td><td>-73.992561</td><td>40.748272</td><td>CSH</td><td>11.0</td><td>0.0</td><td>0.5</td><td>0.0</td><td>0.0</td><td>11.5</td><td>Manhattan</td><td>Manhattan</td><td>9</td></tr>\n",
       "<tr><td>00005007A9F30E289...</td><td>43468C5D35F828693...</td><td>2013-01-01 10:17:38</td><td>CMT</td><td>1</td><td>N</td><td>2013-01-01 10:26:25</td><td>1</td><td>526</td><td>1.1</td><td>-73.982407</td><td>40.742542</td><td>-73.99382</td><td>40.749969</td><td>CSH</td><td>7.5</td><td>0.0</td><td>0.5</td><td>0.0</td><td>0.0</td><td>8.0</td><td>Manhattan</td><td>Manhattan</td><td>10</td></tr>\n",
       "<tr><td>00005007A9F30E289...</td><td>43468C5D35F828693...</td><td>2013-01-01 12:27:45</td><td>CMT</td><td>1</td><td>N</td><td>2013-01-01 12:30:49</td><td>1</td><td>184</td><td>0.8</td><td>-73.970665</td><td>40.749886</td><td>-73.967255</td><td>40.760506</td><td>CSH</td><td>5.0</td><td>0.0</td><td>0.5</td><td>0.0</td><td>0.0</td><td>5.5</td><td>Manhattan</td><td>Manhattan</td><td>12</td></tr>\n",
       "<tr><td>00005007A9F30E289...</td><td>43468C5D35F828693...</td><td>2013-01-01 12:40:56</td><td>CMT</td><td>1</td><td>N</td><td>2013-01-01 12:48:17</td><td>1</td><td>441</td><td>1.1</td><td>-73.970558</td><td>40.785912</td><td>-73.971672</td><td>40.797298</td><td>CSH</td><td>7.0</td><td>0.0</td><td>0.5</td><td>0.0</td><td>0.0</td><td>7.5</td><td>Manhattan</td><td>Manhattan</td><td>12</td></tr>\n",
       "<tr><td>00005007A9F30E289...</td><td>A9AE329EA1138052D...</td><td>2013-01-01 01:07:33</td><td>CMT</td><td>1</td><td>N</td><td>2013-01-01 01:19:52</td><td>2</td><td>738</td><td>3.4</td><td>-73.962669</td><td>40.775368</td><td>-73.956116</td><td>40.804432</td><td>CSH</td><td>13.0</td><td>0.5</td><td>0.5</td><td>0.0</td><td>0.0</td><td>14.0</td><td>Manhattan</td><td>Manhattan</td><td>1</td></tr>\n",
       "<tr><td>00005007A9F30E289...</td><td>A9AE329EA1138052D...</td><td>2013-01-01 02:31:09</td><td>CMT</td><td>1</td><td>N</td><td>2013-01-01 02:42:14</td><td>4</td><td>665</td><td>2.6</td><td>-73.984711</td><td>40.769283</td><td>-73.953056</td><td>40.780083</td><td>CRD</td><td>11.0</td><td>0.5</td><td>0.5</td><td>2.4</td><td>0.0</td><td>14.4</td><td>Manhattan</td><td>Manhattan</td><td>2</td></tr>\n",
       "<tr><td>00005007A9F30E289...</td><td>A9AE329EA1138052D...</td><td>2013-01-01 03:27:23</td><td>CMT</td><td>1</td><td>Y</td><td>2013-01-01 03:45:10</td><td>2</td><td>1066</td><td>5.4</td><td>-73.983292</td><td>40.761707</td><td>-74.016266</td><td>40.705795</td><td>CSH</td><td>19.5</td><td>0.5</td><td>0.5</td><td>0.0</td><td>0.0</td><td>20.5</td><td>Manhattan</td><td>Manhattan</td><td>3</td></tr>\n",
       "<tr><td>00005007A9F30E289...</td><td>C72A773829ED990AF...</td><td>2013-01-01 17:49:49</td><td>CMT</td><td>1</td><td>N</td><td>2013-01-01 18:02:21</td><td>1</td><td>752</td><td>4.8</td><td>-73.953827</td><td>40.778835</td><td>-73.929901</td><td>40.831913</td><td>CSH</td><td>15.5</td><td>0.0</td><td>0.5</td><td>0.0</td><td>0.0</td><td>16.0</td><td>Manhattan</td><td>Bronx</td><td>17</td></tr>\n",
       "<tr><td>00005007A9F30E289...</td><td>C72A773829ED990AF...</td><td>2013-01-01 19:58:15</td><td>CMT</td><td>1</td><td>N</td><td>2013-01-01 20:01:46</td><td>3</td><td>210</td><td>0.7</td><td>-73.99868</td><td>40.760933</td><td>-74.003738</td><td>40.751949</td><td>CSH</td><td>5.0</td><td>0.0</td><td>0.5</td><td>0.0</td><td>0.0</td><td>5.5</td><td>Manhattan</td><td>Manhattan</td><td>19</td></tr>\n",
       "<tr><td>00005007A9F30E289...</td><td>C72A773829ED990AF...</td><td>2013-01-01 20:04:03</td><td>CMT</td><td>1</td><td>N</td><td>2013-01-01 20:09:10</td><td>1</td><td>307</td><td>1.3</td><td>-74.000221</td><td>40.748314</td><td>-74.003235</td><td>40.733028</td><td>CRD</td><td>6.0</td><td>0.5</td><td>0.5</td><td>2.1</td><td>0.0</td><td>9.1</td><td>Manhattan</td><td>Manhattan</td><td>20</td></tr>\n",
       "<tr><td>00005007A9F30E289...</td><td>C72A773829ED990AF...</td><td>2013-01-01 20:12:01</td><td>CMT</td><td>1</td><td>N</td><td>2013-01-01 20:28:46</td><td>2</td><td>1005</td><td>5.4</td><td>-74.004028</td><td>40.732658</td><td>-73.950417</td><td>40.783661</td><td>CRD</td><td>17.5</td><td>0.5</td><td>0.5</td><td>2.0</td><td>0.0</td><td>20.5</td><td>Manhattan</td><td>Manhattan</td><td>20</td></tr>\n",
       "<tr><td>00005007A9F30E289...</td><td>C72A773829ED990AF...</td><td>2013-01-01 23:04:42</td><td>CMT</td><td>1</td><td>N</td><td>2013-01-01 23:16:46</td><td>3</td><td>724</td><td>2.5</td><td>-73.947906</td><td>40.774937</td><td>-73.975945</td><td>40.752628</td><td>CRD</td><td>11.0</td><td>0.5</td><td>0.5</td><td>2.4</td><td>0.0</td><td>14.4</td><td>Manhattan</td><td>Manhattan</td><td>23</td></tr>\n",
       "<tr><td>000318C2E3E638158...</td><td>91CE3B3A2F548CD8A...</td><td>2013-01-01 18:22:00</td><td>VTS</td><td>1</td><td>null</td><td>2013-01-01 18:27:00</td><td>5</td><td>300</td><td>1.17</td><td>-73.982239</td><td>40.773361</td><td>-73.991432</td><td>40.760235</td><td>CRD</td><td>6.0</td><td>0.0</td><td>0.5</td><td>1.5</td><td>0.0</td><td>8.0</td><td>Manhattan</td><td>Manhattan</td><td>18</td></tr>\n",
       "<tr><td>000351EDC735C0792...</td><td>9413377237F83B3FE...</td><td>2013-01-01 00:27:18</td><td>CMT</td><td>1</td><td>N</td><td>2013-01-01 00:30:11</td><td>4</td><td>172</td><td>0.6</td><td>-73.970978</td><td>40.75869</td><td>-73.972481</td><td>40.763214</td><td>CSH</td><td>4.5</td><td>0.5</td><td>0.5</td><td>0.0</td><td>0.0</td><td>5.5</td><td>Manhattan</td><td>Manhattan</td><td>0</td></tr>\n",
       "<tr><td>000351EDC735C0792...</td><td>9413377237F83B3FE...</td><td>2013-01-01 02:02:24</td><td>CMT</td><td>1</td><td>N</td><td>2013-01-01 02:06:30</td><td>2</td><td>246</td><td>0.7</td><td>-73.946609</td><td>40.792274</td><td>-73.936211</td><td>40.794765</td><td>CSH</td><td>5.0</td><td>0.5</td><td>0.5</td><td>0.0</td><td>0.0</td><td>6.0</td><td>Manhattan</td><td>Manhattan</td><td>2</td></tr>\n",
       "<tr><td>0009986BDBAB2F9A1...</td><td>44CED38841518B1FB...</td><td>2013-01-01 02:43:33</td><td>CMT</td><td>1</td><td>N</td><td>2013-01-01 02:47:00</td><td>1</td><td>206</td><td>1.4</td><td>-73.962395</td><td>40.767193</td><td>-73.953087</td><td>40.784153</td><td>CRD</td><td>6.0</td><td>0.5</td><td>0.5</td><td>1.4</td><td>0.0</td><td>8.4</td><td>Manhattan</td><td>Manhattan</td><td>2</td></tr>\n",
       "<tr><td>0009986BDBAB2F9A1...</td><td>44CED38841518B1FB...</td><td>2013-01-01 18:31:34</td><td>CMT</td><td>1</td><td>N</td><td>2013-01-01 18:41:52</td><td>1</td><td>617</td><td>2.3</td><td>-73.973503</td><td>40.748627</td><td>-74.003464</td><td>40.748207</td><td>CSH</td><td>10.5</td><td>0.0</td><td>0.5</td><td>0.0</td><td>0.0</td><td>11.0</td><td>Manhattan</td><td>Manhattan</td><td>18</td></tr>\n",
       "<tr><td>0009986BDBAB2F9A1...</td><td>EB0BF47D51268910F...</td><td>2013-01-01 06:31:08</td><td>CMT</td><td>1</td><td>N</td><td>2013-01-01 06:36:03</td><td>1</td><td>295</td><td>2.1</td><td>-73.980927</td><td>40.782444</td><td>-73.990608</td><td>40.756325</td><td>CSH</td><td>8.0</td><td>0.0</td><td>0.5</td><td>0.0</td><td>0.0</td><td>8.5</td><td>Manhattan</td><td>Manhattan</td><td>6</td></tr>\n",
       "<tr><td>0009986BDBAB2F9A1...</td><td>EB0BF47D51268910F...</td><td>2013-01-01 06:46:56</td><td>CMT</td><td>1</td><td>N</td><td>2013-01-01 06:50:04</td><td>1</td><td>187</td><td>1.0</td><td>-73.984406</td><td>40.749371</td><td>-74.001717</td><td>40.755642</td><td>CRD</td><td>5.5</td><td>0.0</td><td>0.5</td><td>1.8</td><td>0.0</td><td>7.8</td><td>Manhattan</td><td>Manhattan</td><td>6</td></tr>\n",
       "</table>\n",
       "only showing top 20 rows\n"
      ],
      "text/plain": [
       "+--------------------+--------------------+-------------------+---------+---------+------------------+-------------------+---------------+-----------------+-------------+----------------+---------------+-----------------+----------------+------------+-----------+---------+-------+----------+------------+------------+--------------+---------------+-----------+\n",
       "|           medallion|        hack_license|    pickup_datetime|vendor_id|rate_code|store_and_fwd_flag|   dropoff_datetime|passenger_count|trip_time_in_secs|trip_distance|pickup_longitude|pickup_latitude|dropoff_longitude|dropoff_latitude|payment_type|fare_amount|surcharge|mta_tax|tip_amount|tolls_amount|total_amount|pickup_borough|dropoff_borough|pickup_hour|\n",
       "+--------------------+--------------------+-------------------+---------+---------+------------------+-------------------+---------------+-----------------+-------------+----------------+---------------+-----------------+----------------+------------+-----------+---------+-------+----------+------------+------------+--------------+---------------+-----------+\n",
       "|00005007A9F30E289...|43468C5D35F828693...|2013-01-01 09:24:17|      CMT|        1|                 N|2013-01-01 09:33:15|              1|              537|          2.7|       -73.98407|      40.721382|       -73.959076|       40.716599|         CSH|       10.5|      0.0|    0.5|       0.0|         0.0|        11.0|     Manhattan|       Brooklyn|          9|\n",
       "|00005007A9F30E289...|43468C5D35F828693...|2013-01-01 09:46:11|      CMT|        1|                 N|2013-01-01 09:57:32|              1|              681|          2.7|      -73.980301|      40.722206|       -73.992561|       40.748272|         CSH|       11.0|      0.0|    0.5|       0.0|         0.0|        11.5|     Manhattan|      Manhattan|          9|\n",
       "|00005007A9F30E289...|43468C5D35F828693...|2013-01-01 10:17:38|      CMT|        1|                 N|2013-01-01 10:26:25|              1|              526|          1.1|      -73.982407|      40.742542|        -73.99382|       40.749969|         CSH|        7.5|      0.0|    0.5|       0.0|         0.0|         8.0|     Manhattan|      Manhattan|         10|\n",
       "|00005007A9F30E289...|43468C5D35F828693...|2013-01-01 12:27:45|      CMT|        1|                 N|2013-01-01 12:30:49|              1|              184|          0.8|      -73.970665|      40.749886|       -73.967255|       40.760506|         CSH|        5.0|      0.0|    0.5|       0.0|         0.0|         5.5|     Manhattan|      Manhattan|         12|\n",
       "|00005007A9F30E289...|43468C5D35F828693...|2013-01-01 12:40:56|      CMT|        1|                 N|2013-01-01 12:48:17|              1|              441|          1.1|      -73.970558|      40.785912|       -73.971672|       40.797298|         CSH|        7.0|      0.0|    0.5|       0.0|         0.0|         7.5|     Manhattan|      Manhattan|         12|\n",
       "|00005007A9F30E289...|A9AE329EA1138052D...|2013-01-01 01:07:33|      CMT|        1|                 N|2013-01-01 01:19:52|              2|              738|          3.4|      -73.962669|      40.775368|       -73.956116|       40.804432|         CSH|       13.0|      0.5|    0.5|       0.0|         0.0|        14.0|     Manhattan|      Manhattan|          1|\n",
       "|00005007A9F30E289...|A9AE329EA1138052D...|2013-01-01 02:31:09|      CMT|        1|                 N|2013-01-01 02:42:14|              4|              665|          2.6|      -73.984711|      40.769283|       -73.953056|       40.780083|         CRD|       11.0|      0.5|    0.5|       2.4|         0.0|        14.4|     Manhattan|      Manhattan|          2|\n",
       "|00005007A9F30E289...|A9AE329EA1138052D...|2013-01-01 03:27:23|      CMT|        1|                 Y|2013-01-01 03:45:10|              2|             1066|          5.4|      -73.983292|      40.761707|       -74.016266|       40.705795|         CSH|       19.5|      0.5|    0.5|       0.0|         0.0|        20.5|     Manhattan|      Manhattan|          3|\n",
       "|00005007A9F30E289...|C72A773829ED990AF...|2013-01-01 17:49:49|      CMT|        1|                 N|2013-01-01 18:02:21|              1|              752|          4.8|      -73.953827|      40.778835|       -73.929901|       40.831913|         CSH|       15.5|      0.0|    0.5|       0.0|         0.0|        16.0|     Manhattan|          Bronx|         17|\n",
       "|00005007A9F30E289...|C72A773829ED990AF...|2013-01-01 19:58:15|      CMT|        1|                 N|2013-01-01 20:01:46|              3|              210|          0.7|       -73.99868|      40.760933|       -74.003738|       40.751949|         CSH|        5.0|      0.0|    0.5|       0.0|         0.0|         5.5|     Manhattan|      Manhattan|         19|\n",
       "|00005007A9F30E289...|C72A773829ED990AF...|2013-01-01 20:04:03|      CMT|        1|                 N|2013-01-01 20:09:10|              1|              307|          1.3|      -74.000221|      40.748314|       -74.003235|       40.733028|         CRD|        6.0|      0.5|    0.5|       2.1|         0.0|         9.1|     Manhattan|      Manhattan|         20|\n",
       "|00005007A9F30E289...|C72A773829ED990AF...|2013-01-01 20:12:01|      CMT|        1|                 N|2013-01-01 20:28:46|              2|             1005|          5.4|      -74.004028|      40.732658|       -73.950417|       40.783661|         CRD|       17.5|      0.5|    0.5|       2.0|         0.0|        20.5|     Manhattan|      Manhattan|         20|\n",
       "|00005007A9F30E289...|C72A773829ED990AF...|2013-01-01 23:04:42|      CMT|        1|                 N|2013-01-01 23:16:46|              3|              724|          2.5|      -73.947906|      40.774937|       -73.975945|       40.752628|         CRD|       11.0|      0.5|    0.5|       2.4|         0.0|        14.4|     Manhattan|      Manhattan|         23|\n",
       "|000318C2E3E638158...|91CE3B3A2F548CD8A...|2013-01-01 18:22:00|      VTS|        1|              null|2013-01-01 18:27:00|              5|              300|         1.17|      -73.982239|      40.773361|       -73.991432|       40.760235|         CRD|        6.0|      0.0|    0.5|       1.5|         0.0|         8.0|     Manhattan|      Manhattan|         18|\n",
       "|000351EDC735C0792...|9413377237F83B3FE...|2013-01-01 00:27:18|      CMT|        1|                 N|2013-01-01 00:30:11|              4|              172|          0.6|      -73.970978|       40.75869|       -73.972481|       40.763214|         CSH|        4.5|      0.5|    0.5|       0.0|         0.0|         5.5|     Manhattan|      Manhattan|          0|\n",
       "|000351EDC735C0792...|9413377237F83B3FE...|2013-01-01 02:02:24|      CMT|        1|                 N|2013-01-01 02:06:30|              2|              246|          0.7|      -73.946609|      40.792274|       -73.936211|       40.794765|         CSH|        5.0|      0.5|    0.5|       0.0|         0.0|         6.0|     Manhattan|      Manhattan|          2|\n",
       "|0009986BDBAB2F9A1...|44CED38841518B1FB...|2013-01-01 02:43:33|      CMT|        1|                 N|2013-01-01 02:47:00|              1|              206|          1.4|      -73.962395|      40.767193|       -73.953087|       40.784153|         CRD|        6.0|      0.5|    0.5|       1.4|         0.0|         8.4|     Manhattan|      Manhattan|          2|\n",
       "|0009986BDBAB2F9A1...|44CED38841518B1FB...|2013-01-01 18:31:34|      CMT|        1|                 N|2013-01-01 18:41:52|              1|              617|          2.3|      -73.973503|      40.748627|       -74.003464|       40.748207|         CSH|       10.5|      0.0|    0.5|       0.0|         0.0|        11.0|     Manhattan|      Manhattan|         18|\n",
       "|0009986BDBAB2F9A1...|EB0BF47D51268910F...|2013-01-01 06:31:08|      CMT|        1|                 N|2013-01-01 06:36:03|              1|              295|          2.1|      -73.980927|      40.782444|       -73.990608|       40.756325|         CSH|        8.0|      0.0|    0.5|       0.0|         0.0|         8.5|     Manhattan|      Manhattan|          6|\n",
       "|0009986BDBAB2F9A1...|EB0BF47D51268910F...|2013-01-01 06:46:56|      CMT|        1|                 N|2013-01-01 06:50:04|              1|              187|          1.0|      -73.984406|      40.749371|       -74.001717|       40.755642|         CRD|        5.5|      0.0|    0.5|       1.8|         0.0|         7.8|     Manhattan|      Manhattan|          6|\n",
       "+--------------------+--------------------+-------------------+---------+---------+------------------+-------------------+---------------+-----------------+-------------+----------------+---------------+-----------------+----------------+------------+-----------+---------+-------+----------+------------+------------+--------------+---------------+-----------+\n",
       "only showing top 20 rows"
      ]
     },
     "execution_count": 31,
     "metadata": {},
     "output_type": "execute_result"
    }
   ],
   "source": [
    "trip3 = trip2.withColumn('pickup_borough', inside_polygon_udf(col('pickup_longitude'), col('pickup_latitude'))) \\\n",
    "    .withColumn('dropoff_borough', inside_polygon_udf(col('dropoff_longitude'), col('dropoff_latitude'))) \\\n",
    "    .withColumn('pickup_hour', hour(col('pickup_datetime')))\n",
    "trip3"
   ]
  },
  {
   "attachments": {},
   "cell_type": "markdown",
   "id": "ae3c3781",
   "metadata": {},
   "source": [
    "Here I decided to save the dataframe trip3 in a csv file, so that I don't have to compute it everytime I need it. This fastens the computation of the queries below."
   ]
  },
  {
   "cell_type": "code",
   "execution_count": 32,
   "id": "1513fb03",
   "metadata": {},
   "outputs": [
    {
     "name": "stderr",
     "output_type": "stream",
     "text": [
      "                                                                                \r"
     ]
    }
   ],
   "source": [
    "trip3.write.csv('trip3.csv', header = True, mode = 'overwrite')"
   ]
  },
  {
   "cell_type": "code",
   "execution_count": 33,
   "id": "a7f8589e",
   "metadata": {},
   "outputs": [],
   "source": [
    "trip3_csv = session.read.option('inferSchema', True).option('header', True).csv('trip3.csv')"
   ]
  },
  {
   "attachments": {},
   "cell_type": "markdown",
   "id": "c8539ce0",
   "metadata": {},
   "source": [
    "Now that the boroughs are defined, we need to count the trips.\n",
    "- Manhattan → Manhattan\n",
    "- Manhattan → Brooklyn\n",
    "- Manhattan → Bronx\n",
    "- Bronx → Bronx\n",
    "- Bronx → Manhattan\n",
    "- Bronx → Brooklyn\n",
    "- Brooklyn → Brooklyn\n",
    "- Brooklyn → Manhattan\n",
    "- Brooklyn → Bronx"
   ]
  },
  {
   "cell_type": "code",
   "execution_count": 34,
   "id": "4a616d56",
   "metadata": {},
   "outputs": [],
   "source": [
    "trip3_csv.createOrReplaceTempView('trip3_csv')"
   ]
  },
  {
   "cell_type": "code",
   "execution_count": 35,
   "id": "b4a91495",
   "metadata": {},
   "outputs": [
    {
     "data": {
      "text/html": [
       "<table border='1'>\n",
       "<tr><th>pickup_borough</th><th>dropoff_borough</th><th>count</th></tr>\n",
       "<tr><td>Manhattan</td><td>Manhattan</td><td>319706</td></tr>\n",
       "<tr><td>Manhattan</td><td>Brooklyn</td><td>14396</td></tr>\n",
       "<tr><td>Brooklyn</td><td>Brooklyn</td><td>10454</td></tr>\n",
       "<tr><td>Brooklyn</td><td>Manhattan</td><td>6408</td></tr>\n",
       "<tr><td>Manhattan</td><td>Bronx</td><td>2779</td></tr>\n",
       "<tr><td>Bronx</td><td>Bronx</td><td>487</td></tr>\n",
       "<tr><td>Bronx</td><td>Manhattan</td><td>284</td></tr>\n",
       "<tr><td>Brooklyn</td><td>Bronx</td><td>57</td></tr>\n",
       "<tr><td>Bronx</td><td>Brooklyn</td><td>6</td></tr>\n",
       "</table>\n"
      ],
      "text/plain": [
       "+--------------+---------------+------+\n",
       "|pickup_borough|dropoff_borough| count|\n",
       "+--------------+---------------+------+\n",
       "|     Manhattan|      Manhattan|319706|\n",
       "|     Manhattan|       Brooklyn| 14396|\n",
       "|      Brooklyn|       Brooklyn| 10454|\n",
       "|      Brooklyn|      Manhattan|  6408|\n",
       "|     Manhattan|          Bronx|  2779|\n",
       "|         Bronx|          Bronx|   487|\n",
       "|         Bronx|      Manhattan|   284|\n",
       "|      Brooklyn|          Bronx|    57|\n",
       "|         Bronx|       Brooklyn|     6|\n",
       "+--------------+---------------+------+"
      ]
     },
     "execution_count": 35,
     "metadata": {},
     "output_type": "execute_result"
    }
   ],
   "source": [
    "trip4 = session.sql('''\n",
    "    SELECT pickup_borough, dropoff_borough, COUNT(*) AS count\n",
    "    FROM trip3_csv\n",
    "    WHERE pickup_borough IN ('Manhattan', 'Brooklyn', 'Bronx') AND dropoff_borough IN ('Manhattan', 'Brooklyn', 'Bronx')\n",
    "    GROUP BY pickup_borough, dropoff_borough\n",
    "    ORDER BY count DESC\n",
    "''')\n",
    "trip4"
   ]
  },
  {
   "attachments": {},
   "cell_type": "markdown",
   "id": "21bd4ac8",
   "metadata": {},
   "source": [
    "### Exercise 3\n",
    "Imagine you are a taxi driver and one day you can work only two hours. Assume the data is representative of a typical working day. Which hours of the day - retrieved from `pickup_datetime` - would you choose to work based on the fare and tip amount?"
   ]
  },
  {
   "attachments": {},
   "cell_type": "markdown",
   "id": "e0d4c381",
   "metadata": {},
   "source": [
    "As the exercise asks about one day the taxi driver can work only two hours, we can work with the data of the 2013-01-01, so the data in trip3.\n",
    "First we need to create a new column that contains the hour of the day and another new column that contains the sum of fare_amount and tip_amount. Then we can drop some columns that we don't need for this analysis."
   ]
  },
  {
   "cell_type": "code",
   "execution_count": 36,
   "id": "db3457cc",
   "metadata": {},
   "outputs": [
    {
     "data": {
      "text/html": [
       "<table border='1'>\n",
       "<tr><th>pickup_datetime</th><th>fare_amount</th><th>tip_amount</th><th>tolls_amount</th><th>pickup_borough</th><th>dropoff_borough</th><th>pickup_hour</th><th>fare_plus_tip_amount</th></tr>\n",
       "<tr><td>2013-01-01 07:46:02</td><td>3.5</td><td>0.0</td><td>0.0</td><td>Manhattan</td><td>Manhattan</td><td>7</td><td>3.5</td></tr>\n",
       "<tr><td>2013-01-01 07:50:53</td><td>8.5</td><td>0.0</td><td>0.0</td><td>Manhattan</td><td>Manhattan</td><td>7</td><td>8.5</td></tr>\n",
       "<tr><td>2013-01-01 14:44:00</td><td>14.5</td><td>1.0</td><td>0.0</td><td>Manhattan</td><td>Manhattan</td><td>14</td><td>15.5</td></tr>\n",
       "<tr><td>2013-01-01 15:13:35</td><td>14.5</td><td>0.0</td><td>0.0</td><td>Manhattan</td><td>Manhattan</td><td>15</td><td>14.5</td></tr>\n",
       "<tr><td>2013-01-01 00:29:39</td><td>10.0</td><td>0.0</td><td>0.0</td><td>Manhattan</td><td>Manhattan</td><td>0</td><td>10.0</td></tr>\n",
       "<tr><td>2013-01-01 03:49:07</td><td>12.0</td><td>0.0</td><td>0.0</td><td>Manhattan</td><td>Manhattan</td><td>3</td><td>12.0</td></tr>\n",
       "<tr><td>2013-01-01 19:19:22</td><td>4.5</td><td>0.0</td><td>0.0</td><td>Manhattan</td><td>Manhattan</td><td>19</td><td>4.5</td></tr>\n",
       "<tr><td>2013-01-01 21:58:09</td><td>5.0</td><td>0.0</td><td>0.0</td><td>Manhattan</td><td>Manhattan</td><td>21</td><td>5.0</td></tr>\n",
       "<tr><td>2013-01-01 17:14:00</td><td>4.0</td><td>0.0</td><td>0.0</td><td>Manhattan</td><td>Manhattan</td><td>17</td><td>4.0</td></tr>\n",
       "<tr><td>2013-01-01 18:12:00</td><td>8.0</td><td>0.0</td><td>0.0</td><td>Manhattan</td><td>Manhattan</td><td>18</td><td>8.0</td></tr>\n",
       "<tr><td>2013-01-01 00:10:35</td><td>6.5</td><td>2.0</td><td>0.0</td><td>Manhattan</td><td>Manhattan</td><td>0</td><td>8.5</td></tr>\n",
       "<tr><td>2013-01-01 01:39:27</td><td>14.5</td><td>3.1</td><td>0.0</td><td>Manhattan</td><td>Manhattan</td><td>1</td><td>17.6</td></tr>\n",
       "<tr><td>2013-01-01 01:10:38</td><td>17.5</td><td>0.0</td><td>0.0</td><td>Manhattan</td><td>Manhattan</td><td>1</td><td>17.5</td></tr>\n",
       "<tr><td>2013-01-01 02:10:11</td><td>29.5</td><td>0.0</td><td>0.0</td><td>Manhattan</td><td>Manhattan</td><td>2</td><td>29.5</td></tr>\n",
       "<tr><td>2013-01-01 03:20:36</td><td>15.0</td><td>0.0</td><td>0.0</td><td>Manhattan</td><td>Manhattan</td><td>3</td><td>15.0</td></tr>\n",
       "<tr><td>2013-01-01 21:36:24</td><td>4.5</td><td>0.0</td><td>0.0</td><td>Manhattan</td><td>Manhattan</td><td>21</td><td>4.5</td></tr>\n",
       "<tr><td>2013-01-01 22:52:15</td><td>5.0</td><td>1.2</td><td>0.0</td><td>Manhattan</td><td>Manhattan</td><td>22</td><td>6.2</td></tr>\n",
       "<tr><td>2013-01-01 22:59:22</td><td>5.5</td><td>0.0</td><td>0.0</td><td>Manhattan</td><td>Manhattan</td><td>22</td><td>5.5</td></tr>\n",
       "<tr><td>2013-01-01 23:50:20</td><td>11.0</td><td>3.0</td><td>0.0</td><td>Manhattan</td><td>Manhattan</td><td>23</td><td>14.0</td></tr>\n",
       "<tr><td>2013-01-01 00:01:40</td><td>12.0</td><td>0.0</td><td>0.0</td><td>Brooklyn</td><td>Manhattan</td><td>0</td><td>12.0</td></tr>\n",
       "</table>\n",
       "only showing top 20 rows\n"
      ],
      "text/plain": [
       "+-------------------+-----------+----------+------------+--------------+---------------+-----------+--------------------+\n",
       "|    pickup_datetime|fare_amount|tip_amount|tolls_amount|pickup_borough|dropoff_borough|pickup_hour|fare_plus_tip_amount|\n",
       "+-------------------+-----------+----------+------------+--------------+---------------+-----------+--------------------+\n",
       "|2013-01-01 07:46:02|        3.5|       0.0|         0.0|     Manhattan|      Manhattan|          7|                 3.5|\n",
       "|2013-01-01 07:50:53|        8.5|       0.0|         0.0|     Manhattan|      Manhattan|          7|                 8.5|\n",
       "|2013-01-01 14:44:00|       14.5|       1.0|         0.0|     Manhattan|      Manhattan|         14|                15.5|\n",
       "|2013-01-01 15:13:35|       14.5|       0.0|         0.0|     Manhattan|      Manhattan|         15|                14.5|\n",
       "|2013-01-01 00:29:39|       10.0|       0.0|         0.0|     Manhattan|      Manhattan|          0|                10.0|\n",
       "|2013-01-01 03:49:07|       12.0|       0.0|         0.0|     Manhattan|      Manhattan|          3|                12.0|\n",
       "|2013-01-01 19:19:22|        4.5|       0.0|         0.0|     Manhattan|      Manhattan|         19|                 4.5|\n",
       "|2013-01-01 21:58:09|        5.0|       0.0|         0.0|     Manhattan|      Manhattan|         21|                 5.0|\n",
       "|2013-01-01 17:14:00|        4.0|       0.0|         0.0|     Manhattan|      Manhattan|         17|                 4.0|\n",
       "|2013-01-01 18:12:00|        8.0|       0.0|         0.0|     Manhattan|      Manhattan|         18|                 8.0|\n",
       "|2013-01-01 00:10:35|        6.5|       2.0|         0.0|     Manhattan|      Manhattan|          0|                 8.5|\n",
       "|2013-01-01 01:39:27|       14.5|       3.1|         0.0|     Manhattan|      Manhattan|          1|                17.6|\n",
       "|2013-01-01 01:10:38|       17.5|       0.0|         0.0|     Manhattan|      Manhattan|          1|                17.5|\n",
       "|2013-01-01 02:10:11|       29.5|       0.0|         0.0|     Manhattan|      Manhattan|          2|                29.5|\n",
       "|2013-01-01 03:20:36|       15.0|       0.0|         0.0|     Manhattan|      Manhattan|          3|                15.0|\n",
       "|2013-01-01 21:36:24|        4.5|       0.0|         0.0|     Manhattan|      Manhattan|         21|                 4.5|\n",
       "|2013-01-01 22:52:15|        5.0|       1.2|         0.0|     Manhattan|      Manhattan|         22|                 6.2|\n",
       "|2013-01-01 22:59:22|        5.5|       0.0|         0.0|     Manhattan|      Manhattan|         22|                 5.5|\n",
       "|2013-01-01 23:50:20|       11.0|       3.0|         0.0|     Manhattan|      Manhattan|         23|                14.0|\n",
       "|2013-01-01 00:01:40|       12.0|       0.0|         0.0|      Brooklyn|      Manhattan|          0|                12.0|\n",
       "+-------------------+-----------+----------+------------+--------------+---------------+-----------+--------------------+\n",
       "only showing top 20 rows"
      ]
     },
     "execution_count": 36,
     "metadata": {},
     "output_type": "execute_result"
    }
   ],
   "source": [
    "trip5 = trip3_csv.withColumn('fare_plus_tip_amount', col('fare_amount') + col('tip_amount')) \\\n",
    "    .drop('dropoff_datetime', 'medallion', 'hack_license', 'vendor_id', 'rate_code',\n",
    "           'store_and_fwd_flag', 'passenger_count', 'trip_time_in_secs', 'trip_distance', 'pickup_longitude', 'pickup_latitude', \n",
    "           'dropoff_longitude', 'dropoff_latitude', 'payment_type', 'surcharge', 'mta_tax', 'total_amount')\n",
    "trip5"
   ]
  },
  {
   "cell_type": "code",
   "execution_count": 37,
   "id": "807afe54",
   "metadata": {},
   "outputs": [],
   "source": [
    "trip5.createOrReplaceTempView('trip5')"
   ]
  },
  {
   "cell_type": "code",
   "execution_count": 207,
   "id": "5b65e73d",
   "metadata": {},
   "outputs": [
    {
     "data": {
      "text/html": [
       "<table border='1'>\n",
       "<tr><th>pickup_hour</th><th>avg_fare_plus_tip_amount</th></tr>\n",
       "<tr><td>7</td><td>17.126826658956197</td></tr>\n",
       "<tr><td>6</td><td>17.04241059104028</td></tr>\n",
       "</table>\n"
      ],
      "text/plain": [
       "+-----------+------------------------+\n",
       "|pickup_hour|avg_fare_plus_tip_amount|\n",
       "+-----------+------------------------+\n",
       "|          7|      17.126826658956197|\n",
       "|          6|       17.04241059104028|\n",
       "+-----------+------------------------+"
      ]
     },
     "execution_count": 207,
     "metadata": {},
     "output_type": "execute_result"
    }
   ],
   "source": [
    "trip6 = session.sql('''\n",
    "    SELECT pickup_hour, AVG(fare_plus_tip_amount) AS avg_fare_plus_tip_amount\n",
    "    FROM trip5 \n",
    "    GROUP BY pickup_hour\n",
    "    ORDER BY avg_fare_plus_tip_amount DESC\n",
    "    LIMIT 2\n",
    "''')\n",
    "trip6"
   ]
  },
  {
   "attachments": {},
   "cell_type": "markdown",
   "id": "ea7c7804",
   "metadata": {},
   "source": [
    "As for the query we just made, we can see that the best 2 consecutive hours to work are 6am and 7am (so from 6 am till 8 am excluded), because they have the highest average.\n",
    "\n",
    "This is due to the fact that from around 6am to around 8am people go to work and there's a higher demand of means if transport (including taxis)."
   ]
  },
  {
   "attachments": {},
   "cell_type": "markdown",
   "id": "b24e0922",
   "metadata": {},
   "source": [
    "### Exercise 4\n",
    "Provide a graphical representation to compare the average fare amount for trips _within_ and _across_ all the districts. You may want to have a look at: https://docs.bokeh.org/en/latest/docs/user_guide/topics/categorical.html#heatmaps."
   ]
  },
  {
   "attachments": {},
   "cell_type": "markdown",
   "id": "25c1836f",
   "metadata": {},
   "source": [
    "In order to plot the graph, we first need to select the columns pickup_borough, dropoff_borough, and make the average of fare_amount, within and across all districts."
   ]
  },
  {
   "cell_type": "code",
   "execution_count": 39,
   "id": "0643d9e4",
   "metadata": {},
   "outputs": [
    {
     "data": {
      "text/html": [
       "<table border='1'>\n",
       "<tr><th>pickup_borough</th><th>dropoff_borough</th><th>avg_fare_amount</th></tr>\n",
       "<tr><td>Queens</td><td>Staten Island</td><td>72.43478260869566</td></tr>\n",
       "<tr><td>Manhattan</td><td>Staten Island</td><td>53.80681818181818</td></tr>\n",
       "<tr><td>Queens</td><td>Other</td><td>53.56472636815921</td></tr>\n",
       "<tr><td>Manhattan</td><td>Other</td><td>49.817050534499515</td></tr>\n",
       "<tr><td>Brooklyn</td><td>Bronx</td><td>46.31578947368421</td></tr>\n",
       "<tr><td>Queens</td><td>Bronx</td><td>40.88188073394495</td></tr>\n",
       "<tr><td>Bronx</td><td>Brooklyn</td><td>39.75</td></tr>\n",
       "<tr><td>Staten Island</td><td>Manhattan</td><td>36.875</td></tr>\n",
       "<tr><td>Queens</td><td>Brooklyn</td><td>35.698449976514794</td></tr>\n",
       "<tr><td>Brooklyn</td><td>Staten Island</td><td>34.5</td></tr>\n",
       "<tr><td>Brooklyn</td><td>Other</td><td>34.34375</td></tr>\n",
       "<tr><td>Queens</td><td>Manhattan</td><td>34.12336125413049</td></tr>\n",
       "<tr><td>Bronx</td><td>Queens</td><td>30.323529411764707</td></tr>\n",
       "<tr><td>Other</td><td>Brooklyn</td><td>29.634146341463413</td></tr>\n",
       "<tr><td>Bronx</td><td>Other</td><td>29.613636363636363</td></tr>\n",
       "<tr><td>Manhattan</td><td>Queens</td><td>29.315017619951206</td></tr>\n",
       "<tr><td>Manhattan</td><td>Bronx</td><td>26.943145016192876</td></tr>\n",
       "<tr><td>Other</td><td>Queens</td><td>26.533333333333335</td></tr>\n",
       "<tr><td>Other</td><td>Bronx</td><td>26.192307692307693</td></tr>\n",
       "<tr><td>Staten Island</td><td>Staten Island</td><td>25.77692307692308</td></tr>\n",
       "</table>\n",
       "only showing top 20 rows\n"
      ],
      "text/plain": [
       "+--------------+---------------+------------------+\n",
       "|pickup_borough|dropoff_borough|   avg_fare_amount|\n",
       "+--------------+---------------+------------------+\n",
       "|        Queens|  Staten Island| 72.43478260869566|\n",
       "|     Manhattan|  Staten Island| 53.80681818181818|\n",
       "|        Queens|          Other| 53.56472636815921|\n",
       "|     Manhattan|          Other|49.817050534499515|\n",
       "|      Brooklyn|          Bronx| 46.31578947368421|\n",
       "|        Queens|          Bronx| 40.88188073394495|\n",
       "|         Bronx|       Brooklyn|             39.75|\n",
       "| Staten Island|      Manhattan|            36.875|\n",
       "|        Queens|       Brooklyn|35.698449976514794|\n",
       "|      Brooklyn|  Staten Island|              34.5|\n",
       "|      Brooklyn|          Other|          34.34375|\n",
       "|        Queens|      Manhattan| 34.12336125413049|\n",
       "|         Bronx|         Queens|30.323529411764707|\n",
       "|         Other|       Brooklyn|29.634146341463413|\n",
       "|         Bronx|          Other|29.613636363636363|\n",
       "|     Manhattan|         Queens|29.315017619951206|\n",
       "|     Manhattan|          Bronx|26.943145016192876|\n",
       "|         Other|         Queens|26.533333333333335|\n",
       "|         Other|          Bronx|26.192307692307693|\n",
       "| Staten Island|  Staten Island| 25.77692307692308|\n",
       "+--------------+---------------+------------------+\n",
       "only showing top 20 rows"
      ]
     },
     "execution_count": 39,
     "metadata": {},
     "output_type": "execute_result"
    }
   ],
   "source": [
    "trip7 = session.sql('''\n",
    "    SELECT pickup_borough, dropoff_borough, AVG(fare_amount) AS avg_fare_amount\n",
    "    FROM trip3_csv\n",
    "    GROUP BY pickup_borough, dropoff_borough\n",
    "    ORDER BY avg_fare_amount DESC\n",
    "''')\n",
    "trip7"
   ]
  },
  {
   "cell_type": "code",
   "execution_count": 40,
   "id": "2349ab8c",
   "metadata": {},
   "outputs": [],
   "source": [
    "trip7_df = trip7.toPandas()\n",
    "trip7_df.set_index('pickup_borough', inplace = True)"
   ]
  },
  {
   "cell_type": "code",
   "execution_count": 208,
   "id": "827cd187",
   "metadata": {},
   "outputs": [
    {
     "data": {
      "text/html": [
       "<div>\n",
       "<style scoped>\n",
       "    .dataframe tbody tr th:only-of-type {\n",
       "        vertical-align: middle;\n",
       "    }\n",
       "\n",
       "    .dataframe tbody tr th {\n",
       "        vertical-align: top;\n",
       "    }\n",
       "\n",
       "    .dataframe thead th {\n",
       "        text-align: right;\n",
       "    }\n",
       "</style>\n",
       "<table border=\"1\" class=\"dataframe\">\n",
       "  <thead>\n",
       "    <tr style=\"text-align: right;\">\n",
       "      <th>dropoff_borough</th>\n",
       "      <th>Bronx</th>\n",
       "      <th>Brooklyn</th>\n",
       "      <th>Manhattan</th>\n",
       "      <th>Other</th>\n",
       "      <th>Queens</th>\n",
       "      <th>Staten Island</th>\n",
       "    </tr>\n",
       "    <tr>\n",
       "      <th>pickup_borough</th>\n",
       "      <th></th>\n",
       "      <th></th>\n",
       "      <th></th>\n",
       "      <th></th>\n",
       "      <th></th>\n",
       "      <th></th>\n",
       "    </tr>\n",
       "  </thead>\n",
       "  <tbody>\n",
       "    <tr>\n",
       "      <th>Bronx</th>\n",
       "      <td>11.089528</td>\n",
       "      <td>39.750000</td>\n",
       "      <td>17.968310</td>\n",
       "      <td>29.613636</td>\n",
       "      <td>30.323529</td>\n",
       "      <td>0.000000</td>\n",
       "    </tr>\n",
       "    <tr>\n",
       "      <th>Brooklyn</th>\n",
       "      <td>46.315789</td>\n",
       "      <td>11.107069</td>\n",
       "      <td>19.068953</td>\n",
       "      <td>34.343750</td>\n",
       "      <td>25.099854</td>\n",
       "      <td>34.500000</td>\n",
       "    </tr>\n",
       "    <tr>\n",
       "      <th>Manhattan</th>\n",
       "      <td>26.943145</td>\n",
       "      <td>22.154661</td>\n",
       "      <td>9.485069</td>\n",
       "      <td>49.817051</td>\n",
       "      <td>29.315018</td>\n",
       "      <td>53.806818</td>\n",
       "    </tr>\n",
       "    <tr>\n",
       "      <th>Other</th>\n",
       "      <td>26.192308</td>\n",
       "      <td>29.634146</td>\n",
       "      <td>15.173629</td>\n",
       "      <td>18.004373</td>\n",
       "      <td>26.533333</td>\n",
       "      <td>5.500000</td>\n",
       "    </tr>\n",
       "    <tr>\n",
       "      <th>Queens</th>\n",
       "      <td>40.881881</td>\n",
       "      <td>35.698450</td>\n",
       "      <td>34.123361</td>\n",
       "      <td>53.564726</td>\n",
       "      <td>15.807753</td>\n",
       "      <td>72.434783</td>\n",
       "    </tr>\n",
       "    <tr>\n",
       "      <th>Staten Island</th>\n",
       "      <td>0.000000</td>\n",
       "      <td>20.000000</td>\n",
       "      <td>36.875000</td>\n",
       "      <td>2.500000</td>\n",
       "      <td>0.000000</td>\n",
       "      <td>25.776923</td>\n",
       "    </tr>\n",
       "  </tbody>\n",
       "</table>\n",
       "</div>"
      ],
      "text/plain": [
       "dropoff_borough      Bronx   Brooklyn  Manhattan      Other     Queens   \n",
       "pickup_borough                                                           \n",
       "Bronx            11.089528  39.750000  17.968310  29.613636  30.323529  \\\n",
       "Brooklyn         46.315789  11.107069  19.068953  34.343750  25.099854   \n",
       "Manhattan        26.943145  22.154661   9.485069  49.817051  29.315018   \n",
       "Other            26.192308  29.634146  15.173629  18.004373  26.533333   \n",
       "Queens           40.881881  35.698450  34.123361  53.564726  15.807753   \n",
       "Staten Island     0.000000  20.000000  36.875000   2.500000   0.000000   \n",
       "\n",
       "dropoff_borough  Staten Island  \n",
       "pickup_borough                  \n",
       "Bronx                 0.000000  \n",
       "Brooklyn             34.500000  \n",
       "Manhattan            53.806818  \n",
       "Other                 5.500000  \n",
       "Queens               72.434783  \n",
       "Staten Island        25.776923  "
      ]
     },
     "execution_count": 208,
     "metadata": {},
     "output_type": "execute_result"
    }
   ],
   "source": [
    "trip7_df_pivot = trip7_df.pivot(columns = 'dropoff_borough', values = 'avg_fare_amount').fillna(0)\n",
    "trip7_df_pivot"
   ]
  },
  {
   "cell_type": "code",
   "execution_count": 42,
   "id": "24f4a5ac",
   "metadata": {},
   "outputs": [],
   "source": [
    "pickup = list(trip7_df_pivot.index)\n",
    "dropoff = list(trip7_df_pivot.columns)"
   ]
  },
  {
   "cell_type": "code",
   "execution_count": 43,
   "id": "ca776d22",
   "metadata": {},
   "outputs": [
    {
     "data": {
      "text/html": [
       "<div>\n",
       "<style scoped>\n",
       "    .dataframe tbody tr th:only-of-type {\n",
       "        vertical-align: middle;\n",
       "    }\n",
       "\n",
       "    .dataframe tbody tr th {\n",
       "        vertical-align: top;\n",
       "    }\n",
       "\n",
       "    .dataframe thead th {\n",
       "        text-align: right;\n",
       "    }\n",
       "</style>\n",
       "<table border=\"1\" class=\"dataframe\">\n",
       "  <thead>\n",
       "    <tr style=\"text-align: right;\">\n",
       "      <th></th>\n",
       "      <th>pickup_borough</th>\n",
       "      <th>dropoff_borough</th>\n",
       "      <th>avg_fare_amount</th>\n",
       "    </tr>\n",
       "  </thead>\n",
       "  <tbody>\n",
       "    <tr>\n",
       "      <th>0</th>\n",
       "      <td>Bronx</td>\n",
       "      <td>Bronx</td>\n",
       "      <td>11.089528</td>\n",
       "    </tr>\n",
       "    <tr>\n",
       "      <th>1</th>\n",
       "      <td>Bronx</td>\n",
       "      <td>Brooklyn</td>\n",
       "      <td>39.750000</td>\n",
       "    </tr>\n",
       "    <tr>\n",
       "      <th>2</th>\n",
       "      <td>Bronx</td>\n",
       "      <td>Manhattan</td>\n",
       "      <td>17.968310</td>\n",
       "    </tr>\n",
       "    <tr>\n",
       "      <th>3</th>\n",
       "      <td>Bronx</td>\n",
       "      <td>Other</td>\n",
       "      <td>29.613636</td>\n",
       "    </tr>\n",
       "    <tr>\n",
       "      <th>4</th>\n",
       "      <td>Bronx</td>\n",
       "      <td>Queens</td>\n",
       "      <td>30.323529</td>\n",
       "    </tr>\n",
       "    <tr>\n",
       "      <th>5</th>\n",
       "      <td>Brooklyn</td>\n",
       "      <td>Bronx</td>\n",
       "      <td>46.315789</td>\n",
       "    </tr>\n",
       "    <tr>\n",
       "      <th>6</th>\n",
       "      <td>Brooklyn</td>\n",
       "      <td>Brooklyn</td>\n",
       "      <td>11.107069</td>\n",
       "    </tr>\n",
       "    <tr>\n",
       "      <th>7</th>\n",
       "      <td>Brooklyn</td>\n",
       "      <td>Manhattan</td>\n",
       "      <td>19.068953</td>\n",
       "    </tr>\n",
       "    <tr>\n",
       "      <th>8</th>\n",
       "      <td>Brooklyn</td>\n",
       "      <td>Other</td>\n",
       "      <td>34.343750</td>\n",
       "    </tr>\n",
       "    <tr>\n",
       "      <th>9</th>\n",
       "      <td>Brooklyn</td>\n",
       "      <td>Queens</td>\n",
       "      <td>25.099854</td>\n",
       "    </tr>\n",
       "    <tr>\n",
       "      <th>10</th>\n",
       "      <td>Brooklyn</td>\n",
       "      <td>Staten Island</td>\n",
       "      <td>34.500000</td>\n",
       "    </tr>\n",
       "    <tr>\n",
       "      <th>11</th>\n",
       "      <td>Manhattan</td>\n",
       "      <td>Bronx</td>\n",
       "      <td>26.943145</td>\n",
       "    </tr>\n",
       "    <tr>\n",
       "      <th>12</th>\n",
       "      <td>Manhattan</td>\n",
       "      <td>Brooklyn</td>\n",
       "      <td>22.154661</td>\n",
       "    </tr>\n",
       "    <tr>\n",
       "      <th>13</th>\n",
       "      <td>Manhattan</td>\n",
       "      <td>Manhattan</td>\n",
       "      <td>9.485069</td>\n",
       "    </tr>\n",
       "    <tr>\n",
       "      <th>14</th>\n",
       "      <td>Manhattan</td>\n",
       "      <td>Other</td>\n",
       "      <td>49.817051</td>\n",
       "    </tr>\n",
       "    <tr>\n",
       "      <th>15</th>\n",
       "      <td>Manhattan</td>\n",
       "      <td>Queens</td>\n",
       "      <td>29.315018</td>\n",
       "    </tr>\n",
       "    <tr>\n",
       "      <th>16</th>\n",
       "      <td>Manhattan</td>\n",
       "      <td>Staten Island</td>\n",
       "      <td>53.806818</td>\n",
       "    </tr>\n",
       "    <tr>\n",
       "      <th>17</th>\n",
       "      <td>Other</td>\n",
       "      <td>Bronx</td>\n",
       "      <td>26.192308</td>\n",
       "    </tr>\n",
       "    <tr>\n",
       "      <th>18</th>\n",
       "      <td>Other</td>\n",
       "      <td>Brooklyn</td>\n",
       "      <td>29.634146</td>\n",
       "    </tr>\n",
       "    <tr>\n",
       "      <th>19</th>\n",
       "      <td>Other</td>\n",
       "      <td>Manhattan</td>\n",
       "      <td>15.173629</td>\n",
       "    </tr>\n",
       "    <tr>\n",
       "      <th>20</th>\n",
       "      <td>Other</td>\n",
       "      <td>Other</td>\n",
       "      <td>18.004373</td>\n",
       "    </tr>\n",
       "    <tr>\n",
       "      <th>21</th>\n",
       "      <td>Other</td>\n",
       "      <td>Queens</td>\n",
       "      <td>26.533333</td>\n",
       "    </tr>\n",
       "    <tr>\n",
       "      <th>22</th>\n",
       "      <td>Other</td>\n",
       "      <td>Staten Island</td>\n",
       "      <td>5.500000</td>\n",
       "    </tr>\n",
       "    <tr>\n",
       "      <th>23</th>\n",
       "      <td>Queens</td>\n",
       "      <td>Bronx</td>\n",
       "      <td>40.881881</td>\n",
       "    </tr>\n",
       "    <tr>\n",
       "      <th>24</th>\n",
       "      <td>Queens</td>\n",
       "      <td>Brooklyn</td>\n",
       "      <td>35.698450</td>\n",
       "    </tr>\n",
       "    <tr>\n",
       "      <th>25</th>\n",
       "      <td>Queens</td>\n",
       "      <td>Manhattan</td>\n",
       "      <td>34.123361</td>\n",
       "    </tr>\n",
       "    <tr>\n",
       "      <th>26</th>\n",
       "      <td>Queens</td>\n",
       "      <td>Other</td>\n",
       "      <td>53.564726</td>\n",
       "    </tr>\n",
       "    <tr>\n",
       "      <th>27</th>\n",
       "      <td>Queens</td>\n",
       "      <td>Queens</td>\n",
       "      <td>15.807753</td>\n",
       "    </tr>\n",
       "    <tr>\n",
       "      <th>28</th>\n",
       "      <td>Queens</td>\n",
       "      <td>Staten Island</td>\n",
       "      <td>72.434783</td>\n",
       "    </tr>\n",
       "    <tr>\n",
       "      <th>29</th>\n",
       "      <td>Staten Island</td>\n",
       "      <td>Brooklyn</td>\n",
       "      <td>20.000000</td>\n",
       "    </tr>\n",
       "    <tr>\n",
       "      <th>30</th>\n",
       "      <td>Staten Island</td>\n",
       "      <td>Manhattan</td>\n",
       "      <td>36.875000</td>\n",
       "    </tr>\n",
       "    <tr>\n",
       "      <th>31</th>\n",
       "      <td>Staten Island</td>\n",
       "      <td>Other</td>\n",
       "      <td>2.500000</td>\n",
       "    </tr>\n",
       "    <tr>\n",
       "      <th>32</th>\n",
       "      <td>Staten Island</td>\n",
       "      <td>Staten Island</td>\n",
       "      <td>25.776923</td>\n",
       "    </tr>\n",
       "  </tbody>\n",
       "</table>\n",
       "</div>"
      ],
      "text/plain": [
       "   pickup_borough dropoff_borough  avg_fare_amount\n",
       "0           Bronx           Bronx        11.089528\n",
       "1           Bronx        Brooklyn        39.750000\n",
       "2           Bronx       Manhattan        17.968310\n",
       "3           Bronx           Other        29.613636\n",
       "4           Bronx          Queens        30.323529\n",
       "5        Brooklyn           Bronx        46.315789\n",
       "6        Brooklyn        Brooklyn        11.107069\n",
       "7        Brooklyn       Manhattan        19.068953\n",
       "8        Brooklyn           Other        34.343750\n",
       "9        Brooklyn          Queens        25.099854\n",
       "10       Brooklyn   Staten Island        34.500000\n",
       "11      Manhattan           Bronx        26.943145\n",
       "12      Manhattan        Brooklyn        22.154661\n",
       "13      Manhattan       Manhattan         9.485069\n",
       "14      Manhattan           Other        49.817051\n",
       "15      Manhattan          Queens        29.315018\n",
       "16      Manhattan   Staten Island        53.806818\n",
       "17          Other           Bronx        26.192308\n",
       "18          Other        Brooklyn        29.634146\n",
       "19          Other       Manhattan        15.173629\n",
       "20          Other           Other        18.004373\n",
       "21          Other          Queens        26.533333\n",
       "22          Other   Staten Island         5.500000\n",
       "23         Queens           Bronx        40.881881\n",
       "24         Queens        Brooklyn        35.698450\n",
       "25         Queens       Manhattan        34.123361\n",
       "26         Queens           Other        53.564726\n",
       "27         Queens          Queens        15.807753\n",
       "28         Queens   Staten Island        72.434783\n",
       "29  Staten Island        Brooklyn        20.000000\n",
       "30  Staten Island       Manhattan        36.875000\n",
       "31  Staten Island           Other         2.500000\n",
       "32  Staten Island   Staten Island        25.776923"
      ]
     },
     "execution_count": 43,
     "metadata": {},
     "output_type": "execute_result"
    }
   ],
   "source": [
    "trip7df = pd.DataFrame(trip7_df_pivot.stack(), columns=['avg_fare_amount']).reset_index()\n",
    "trip7df"
   ]
  },
  {
   "attachments": {},
   "cell_type": "markdown",
   "id": "d95f779d",
   "metadata": {},
   "source": [
    "Let's plot the graph using bokeh."
   ]
  },
  {
   "cell_type": "code",
   "execution_count": 211,
   "id": "5fc27860",
   "metadata": {},
   "outputs": [
    {
     "data": {
      "text/html": [
       "\n",
       "  <div class=\"bk-root\" id=\"d0667116-2adf-46e7-bbff-f6d8b718bc4e\" data-root-id=\"2674\"></div>\n"
      ]
     },
     "metadata": {},
     "output_type": "display_data"
    },
    {
     "data": {
      "application/javascript": "(function(root) {\n  function embed_document(root) {\n  const docs_json = {\"8ca6555e-f3fb-4f23-95fc-49719871a0a5\":{\"defs\":[],\"roots\":{\"references\":[{\"attributes\":{\"below\":[{\"id\":\"2685\"}],\"center\":[{\"id\":\"2687\"},{\"id\":\"2690\"}],\"frame_height\":400,\"frame_width\":400,\"left\":[{\"id\":\"2688\"}],\"renderers\":[{\"id\":\"2710\"}],\"right\":[{\"id\":\"2673\"}],\"title\":{\"id\":\"2675\"},\"toolbar\":{\"id\":\"2698\"},\"x_range\":{\"id\":\"2677\"},\"x_scale\":{\"id\":\"2681\"},\"y_range\":{\"id\":\"2679\"},\"y_scale\":{\"id\":\"2683\"}},\"id\":\"2674\",\"subtype\":\"Figure\",\"type\":\"Plot\"},{\"attributes\":{},\"id\":\"2833\",\"type\":\"NoOverlap\"},{\"attributes\":{},\"id\":\"2835\",\"type\":\"CategoricalTickFormatter\"},{\"attributes\":{\"axis\":{\"id\":\"2688\"},\"coordinates\":null,\"dimension\":1,\"grid_line_color\":null,\"group\":null,\"ticker\":null},\"id\":\"2690\",\"type\":\"Grid\"},{\"attributes\":{\"fill_color\":{\"field\":\"avg_fare_amount\",\"transform\":{\"id\":\"2672\"}},\"height\":{\"value\":1},\"line_color\":{\"value\":null},\"width\":{\"value\":1},\"x\":{\"field\":\"pickup_borough\"},\"y\":{\"field\":\"dropoff_borough\"}},\"id\":\"2707\",\"type\":\"Rect\"},{\"attributes\":{},\"id\":\"2689\",\"type\":\"CategoricalTicker\"},{\"attributes\":{},\"id\":\"2836\",\"type\":\"AllLabels\"},{\"attributes\":{},\"id\":\"2695\",\"type\":\"ResetTool\"},{\"attributes\":{},\"id\":\"2692\",\"type\":\"SaveTool\"},{\"attributes\":{\"factors\":[\"Bronx\",\"Brooklyn\",\"Manhattan\",\"Other\",\"Queens\",\"Staten Island\"]},\"id\":\"2679\",\"type\":\"FactorRange\"},{\"attributes\":{\"callback\":null,\"tooltips\":[[\"Pickup Borough\",\"@pickup_borough\"],[\"Dropoff Borough\",\"@dropoff_borough\"],[\"Avg Fare Amount\",\"@avg_fare_amount\"]]},\"id\":\"2691\",\"type\":\"HoverTool\"},{\"attributes\":{\"axis\":{\"id\":\"2685\"},\"coordinates\":null,\"grid_line_color\":null,\"group\":null,\"ticker\":null},\"id\":\"2687\",\"type\":\"Grid\"},{\"attributes\":{},\"id\":\"2683\",\"type\":\"CategoricalScale\"},{\"attributes\":{},\"id\":\"2832\",\"type\":\"AllLabels\"},{\"attributes\":{},\"id\":\"2693\",\"type\":\"PanTool\"},{\"attributes\":{},\"id\":\"2686\",\"type\":\"CategoricalTicker\"},{\"attributes\":{\"factors\":[\"Bronx\",\"Brooklyn\",\"Manhattan\",\"Other\",\"Queens\",\"Staten Island\"]},\"id\":\"2677\",\"type\":\"FactorRange\"},{\"attributes\":{},\"id\":\"2837\",\"type\":\"UnionRenderers\"},{\"attributes\":{\"coordinates\":null,\"group\":null,\"text\":\"Average Fare Amount by Pickup and Dropoff Boroughs\"},\"id\":\"2675\",\"type\":\"Title\"},{\"attributes\":{},\"id\":\"2831\",\"type\":\"CategoricalTickFormatter\"},{\"attributes\":{},\"id\":\"2838\",\"type\":\"Selection\"},{\"attributes\":{\"axis_line_color\":null,\"coordinates\":null,\"formatter\":{\"id\":\"2831\"},\"group\":null,\"major_label_policy\":{\"id\":\"2832\"},\"major_label_standoff\":0,\"major_label_text_font_size\":\"7px\",\"major_tick_line_color\":null,\"ticker\":{\"id\":\"2689\"}},\"id\":\"2688\",\"type\":\"CategoricalAxis\"},{\"attributes\":{\"overlay\":{\"id\":\"2697\"}},\"id\":\"2694\",\"type\":\"BoxZoomTool\"},{\"attributes\":{},\"id\":\"2696\",\"type\":\"WheelZoomTool\"},{\"attributes\":{\"high\":72.43478260869566,\"low\":2.5,\"palette\":[\"#a5bab7\",\"#c9d9d3\",\"#e2e2e2\",\"#dfccce\",\"#ddb7b1\",\"#cc7878\",\"#933b41\"]},\"id\":\"2672\",\"type\":\"LinearColorMapper\"},{\"attributes\":{},\"id\":\"2681\",\"type\":\"CategoricalScale\"},{\"attributes\":{\"axis_line_color\":null,\"coordinates\":null,\"formatter\":{\"id\":\"2835\"},\"group\":null,\"major_label_orientation\":1.0471975511965976,\"major_label_policy\":{\"id\":\"2836\"},\"major_label_standoff\":0,\"major_label_text_font_size\":\"7px\",\"major_tick_line_color\":null,\"ticker\":{\"id\":\"2686\"}},\"id\":\"2685\",\"type\":\"CategoricalAxis\"},{\"attributes\":{\"fill_alpha\":{\"value\":0.2},\"fill_color\":{\"field\":\"avg_fare_amount\",\"transform\":{\"id\":\"2672\"}},\"hatch_alpha\":{\"value\":0.2},\"height\":{\"value\":1},\"line_alpha\":{\"value\":0.2},\"line_color\":{\"value\":null},\"width\":{\"value\":1},\"x\":{\"field\":\"pickup_borough\"},\"y\":{\"field\":\"dropoff_borough\"}},\"id\":\"2709\",\"type\":\"Rect\"},{\"attributes\":{\"bottom_units\":\"screen\",\"coordinates\":null,\"fill_alpha\":0.5,\"fill_color\":\"lightgrey\",\"group\":null,\"left_units\":\"screen\",\"level\":\"overlay\",\"line_alpha\":1.0,\"line_color\":\"black\",\"line_dash\":[4,4],\"line_width\":2,\"right_units\":\"screen\",\"syncable\":false,\"top_units\":\"screen\"},\"id\":\"2697\",\"type\":\"BoxAnnotation\"},{\"attributes\":{\"fill_alpha\":{\"value\":0.1},\"fill_color\":{\"field\":\"avg_fare_amount\",\"transform\":{\"id\":\"2672\"}},\"hatch_alpha\":{\"value\":0.1},\"height\":{\"value\":1},\"line_alpha\":{\"value\":0.1},\"line_color\":{\"value\":null},\"width\":{\"value\":1},\"x\":{\"field\":\"pickup_borough\"},\"y\":{\"field\":\"dropoff_borough\"}},\"id\":\"2708\",\"type\":\"Rect\"},{\"attributes\":{\"data\":{\"avg_fare_amount\":{\"__ndarray__\":\"HFLRk9YtJkAAAAAAAOBDQPx2qSfj9zFAXXTRRRedPUDT0tLS0lI+QIfyGsprKEdAK6akwdE2JkCmrDflphEzQAAAAAAALEFAqRLxC5AZOUAAAAAAAEBBQA3vp/Nx8TpAQcNJ3ZcnNkCSbkAAW/giQGhtphyV6EhArFqn/qRQPUAXXXTRRedKQBQ7sRM7MTpAonYlaleiPUC4FJ/u5VguQHkHWZIeATJAiYiIiIiIOkAAAAAAAAAWQA6ix3fhcERA8oIPz2bZQUDACjRNyg9BQGE3IfRIyEpAEBFty5GdL0DqTW960xtSQAAAAAAAADRAAAAAAABwQkAAAAAAAAAEQG/kRm7kxjlA\",\"dtype\":\"float64\",\"order\":\"little\",\"shape\":[33]},\"dropoff_borough\":[\"Bronx\",\"Brooklyn\",\"Manhattan\",\"Other\",\"Queens\",\"Bronx\",\"Brooklyn\",\"Manhattan\",\"Other\",\"Queens\",\"Staten Island\",\"Bronx\",\"Brooklyn\",\"Manhattan\",\"Other\",\"Queens\",\"Staten Island\",\"Bronx\",\"Brooklyn\",\"Manhattan\",\"Other\",\"Queens\",\"Staten Island\",\"Bronx\",\"Brooklyn\",\"Manhattan\",\"Other\",\"Queens\",\"Staten Island\",\"Brooklyn\",\"Manhattan\",\"Other\",\"Staten Island\"],\"index\":[0,1,2,3,4,5,6,7,8,9,10,11,12,13,14,15,16,17,18,19,20,21,22,23,24,25,26,27,28,29,30,31,32],\"pickup_borough\":[\"Bronx\",\"Bronx\",\"Bronx\",\"Bronx\",\"Bronx\",\"Brooklyn\",\"Brooklyn\",\"Brooklyn\",\"Brooklyn\",\"Brooklyn\",\"Brooklyn\",\"Manhattan\",\"Manhattan\",\"Manhattan\",\"Manhattan\",\"Manhattan\",\"Manhattan\",\"Other\",\"Other\",\"Other\",\"Other\",\"Other\",\"Other\",\"Queens\",\"Queens\",\"Queens\",\"Queens\",\"Queens\",\"Queens\",\"Staten Island\",\"Staten Island\",\"Staten Island\",\"Staten Island\"]},\"selected\":{\"id\":\"2838\"},\"selection_policy\":{\"id\":\"2837\"}},\"id\":\"2705\",\"type\":\"ColumnDataSource\"},{\"attributes\":{\"coordinates\":null,\"data_source\":{\"id\":\"2705\"},\"glyph\":{\"id\":\"2707\"},\"group\":null,\"hover_glyph\":null,\"muted_glyph\":{\"id\":\"2709\"},\"nonselection_glyph\":{\"id\":\"2708\"},\"view\":{\"id\":\"2711\"}},\"id\":\"2710\",\"type\":\"GlyphRenderer\"},{\"attributes\":{\"tools\":[{\"id\":\"2691\"},{\"id\":\"2692\"},{\"id\":\"2693\"},{\"id\":\"2694\"},{\"id\":\"2695\"},{\"id\":\"2696\"}]},\"id\":\"2698\",\"type\":\"Toolbar\"},{\"attributes\":{\"color_mapper\":{\"id\":\"2672\"},\"coordinates\":null,\"group\":null,\"height\":380,\"label_standoff\":8,\"major_label_policy\":{\"id\":\"2833\"},\"width\":20},\"id\":\"2673\",\"type\":\"ColorBar\"},{\"attributes\":{\"source\":{\"id\":\"2705\"}},\"id\":\"2711\",\"type\":\"CDSView\"}],\"root_ids\":[\"2674\"]},\"title\":\"Bokeh Application\",\"version\":\"2.4.3\"}};\n  const render_items = [{\"docid\":\"8ca6555e-f3fb-4f23-95fc-49719871a0a5\",\"root_ids\":[\"2674\"],\"roots\":{\"2674\":\"d0667116-2adf-46e7-bbff-f6d8b718bc4e\"}}];\n  root.Bokeh.embed.embed_items_notebook(docs_json, render_items);\n  }\n  if (root.Bokeh !== undefined) {\n    embed_document(root);\n  } else {\n    let attempts = 0;\n    const timer = setInterval(function(root) {\n      if (root.Bokeh !== undefined) {\n        clearInterval(timer);\n        embed_document(root);\n      } else {\n        attempts++;\n        if (attempts > 100) {\n          clearInterval(timer);\n          console.log(\"Bokeh: ERROR: Unable to run BokehJS code because BokehJS library is missing\");\n        }\n      }\n    }, 10, root)\n  }\n})(window);",
      "application/vnd.bokehjs_exec.v0+json": ""
     },
     "metadata": {
      "application/vnd.bokehjs_exec.v0+json": {
       "id": "2674"
      }
     },
     "output_type": "display_data"
    }
   ],
   "source": [
    "palette = [\"#a5bab7\", \"#c9d9d3\", \"#e2e2e2\", \"#dfccce\", \"#ddb7b1\", \"#cc7878\", \"#933b41\"]\n",
    "\n",
    "color_mapper = LinearColorMapper(palette = palette, low = trip7df.avg_fare_amount.min(), high = trip7df.avg_fare_amount.max())\n",
    "color_bar = ColorBar(color_mapper = color_mapper, label_standoff = 8, width = 20, height = 380)\n",
    "\n",
    "TOOLS = 'hover, save, pan, box_zoom, reset, wheel_zoom'\n",
    "\n",
    "heatmap = figure(title = f'Average Fare Amount by Pickup and Dropoff Boroughs',\n",
    "           x_range = pickup,\n",
    "           y_range = dropoff,\n",
    "           frame_width = 400, \n",
    "           frame_height = 400,\n",
    "           tools = TOOLS, \n",
    "           toolbar_location = 'right',\n",
    "           tooltips=[('Pickup Borough', '@pickup_borough'), ('Dropoff Borough', '@dropoff_borough'), ('Avg Fare Amount', '@avg_fare_amount')])\n",
    "           \n",
    "heatmap.grid.grid_line_color = None\n",
    "heatmap.axis.axis_line_color = None\n",
    "heatmap.axis.major_tick_line_color = None\n",
    "heatmap.axis.major_label_text_font_size = '7px'\n",
    "heatmap.axis.major_label_standoff = 0\n",
    "heatmap.xaxis.major_label_orientation = pi / 3\n",
    "\n",
    "heatmap.rect(x = 'pickup_borough', y = 'dropoff_borough', width = 1, height = 1, source = trip7df,\n",
    "           fill_color = {'field': 'avg_fare_amount', 'transform': color_mapper},\n",
    "           line_color = None)\n",
    "\n",
    "heatmap.add_layout(color_bar, 'right')\n",
    "\n",
    "show(heatmap)"
   ]
  },
  {
   "attachments": {},
   "cell_type": "markdown",
   "id": "9b4a8445",
   "metadata": {},
   "source": [
    "### Exercise 5\n",
    "Find the average amount of tolls per hour for trips within the following districts: Manhattan, Bronx, Brooklyn, Queens. Show a graphical representation of the data and report if there is any trend or peak during the day. Overall which district has the largest amount of tolls?"
   ]
  },
  {
   "cell_type": "code",
   "execution_count": 45,
   "id": "b80cbb2d",
   "metadata": {},
   "outputs": [
    {
     "data": {
      "text/html": [
       "<table border='1'>\n",
       "<tr><th>pickup_borough</th><th>dropoff_borough</th><th>pickup_hour</th><th>avg_tolls_amount</th></tr>\n",
       "<tr><td>Queens</td><td>Bronx</td><td>17</td><td>4.8</td></tr>\n",
       "<tr><td>Queens</td><td>Bronx</td><td>12</td><td>4.8</td></tr>\n",
       "<tr><td>Bronx</td><td>Queens</td><td>12</td><td>4.8</td></tr>\n",
       "<tr><td>Brooklyn</td><td>Bronx</td><td>11</td><td>4.8</td></tr>\n",
       "<tr><td>Bronx</td><td>Brooklyn</td><td>17</td><td>4.8</td></tr>\n",
       "<tr><td>Bronx</td><td>Queens</td><td>2</td><td>4.8</td></tr>\n",
       "<tr><td>Bronx</td><td>Queens</td><td>3</td><td>4.8</td></tr>\n",
       "<tr><td>Bronx</td><td>Queens</td><td>0</td><td>4.8</td></tr>\n",
       "<tr><td>Bronx</td><td>Queens</td><td>7</td><td>4.8</td></tr>\n",
       "<tr><td>Bronx</td><td>Queens</td><td>15</td><td>4.8</td></tr>\n",
       "<tr><td>Bronx</td><td>Brooklyn</td><td>1</td><td>4.8</td></tr>\n",
       "<tr><td>Queens</td><td>Bronx</td><td>9</td><td>4.799999999999999</td></tr>\n",
       "<tr><td>Queens</td><td>Bronx</td><td>14</td><td>4.71875</td></tr>\n",
       "<tr><td>Queens</td><td>Bronx</td><td>15</td><td>4.669999999999999</td></tr>\n",
       "<tr><td>Queens</td><td>Bronx</td><td>0</td><td>4.547368421052631</td></tr>\n",
       "<tr><td>Queens</td><td>Bronx</td><td>13</td><td>4.499999999999999</td></tr>\n",
       "<tr><td>Queens</td><td>Bronx</td><td>22</td><td>4.477272727272726</td></tr>\n",
       "<tr><td>Queens</td><td>Bronx</td><td>20</td><td>4.457142857142856</td></tr>\n",
       "<tr><td>Queens</td><td>Bronx</td><td>18</td><td>4.4409090909090905</td></tr>\n",
       "<tr><td>Queens</td><td>Bronx</td><td>23</td><td>4.319999999999999</td></tr>\n",
       "</table>\n",
       "only showing top 20 rows\n"
      ],
      "text/plain": [
       "+--------------+---------------+-----------+------------------+\n",
       "|pickup_borough|dropoff_borough|pickup_hour|  avg_tolls_amount|\n",
       "+--------------+---------------+-----------+------------------+\n",
       "|        Queens|          Bronx|         17|               4.8|\n",
       "|        Queens|          Bronx|         12|               4.8|\n",
       "|         Bronx|         Queens|         12|               4.8|\n",
       "|      Brooklyn|          Bronx|         11|               4.8|\n",
       "|         Bronx|       Brooklyn|         17|               4.8|\n",
       "|         Bronx|         Queens|          2|               4.8|\n",
       "|         Bronx|         Queens|          3|               4.8|\n",
       "|         Bronx|         Queens|          0|               4.8|\n",
       "|         Bronx|         Queens|          7|               4.8|\n",
       "|         Bronx|         Queens|         15|               4.8|\n",
       "|         Bronx|       Brooklyn|          1|               4.8|\n",
       "|        Queens|          Bronx|          9| 4.799999999999999|\n",
       "|        Queens|          Bronx|         14|           4.71875|\n",
       "|        Queens|          Bronx|         15| 4.669999999999999|\n",
       "|        Queens|          Bronx|          0| 4.547368421052631|\n",
       "|        Queens|          Bronx|         13| 4.499999999999999|\n",
       "|        Queens|          Bronx|         22| 4.477272727272726|\n",
       "|        Queens|          Bronx|         20| 4.457142857142856|\n",
       "|        Queens|          Bronx|         18|4.4409090909090905|\n",
       "|        Queens|          Bronx|         23| 4.319999999999999|\n",
       "+--------------+---------------+-----------+------------------+\n",
       "only showing top 20 rows"
      ]
     },
     "execution_count": 45,
     "metadata": {},
     "output_type": "execute_result"
    }
   ],
   "source": [
    "trip8 = session.sql('''\n",
    "    SELECT pickup_borough, dropoff_borough, pickup_hour, AVG(tolls_amount) AS avg_tolls_amount\n",
    "    FROM trip3_csv\n",
    "    WHERE pickup_borough IN ('Manhattan', 'Brooklyn', 'Bronx', 'Queens') AND dropoff_borough IN ('Manhattan', 'Brooklyn', 'Bronx', 'Queens')\n",
    "    GROUP BY pickup_hour, pickup_borough, dropoff_borough\n",
    "    ORDER BY avg_tolls_amount DESC\n",
    "''')\n",
    "trip8"
   ]
  },
  {
   "cell_type": "code",
   "execution_count": 46,
   "id": "8492fa50",
   "metadata": {},
   "outputs": [
    {
     "data": {
      "text/html": [
       "<div>\n",
       "<style scoped>\n",
       "    .dataframe tbody tr th:only-of-type {\n",
       "        vertical-align: middle;\n",
       "    }\n",
       "\n",
       "    .dataframe tbody tr th {\n",
       "        vertical-align: top;\n",
       "    }\n",
       "\n",
       "    .dataframe thead th {\n",
       "        text-align: right;\n",
       "    }\n",
       "</style>\n",
       "<table border=\"1\" class=\"dataframe\">\n",
       "  <thead>\n",
       "    <tr style=\"text-align: right;\">\n",
       "      <th></th>\n",
       "      <th>pickup_borough</th>\n",
       "      <th>dropoff_borough</th>\n",
       "      <th>pickup_hour</th>\n",
       "      <th>avg_tolls_amount</th>\n",
       "    </tr>\n",
       "  </thead>\n",
       "  <tbody>\n",
       "    <tr>\n",
       "      <th>0</th>\n",
       "      <td>Queens</td>\n",
       "      <td>Bronx</td>\n",
       "      <td>17</td>\n",
       "      <td>4.8</td>\n",
       "    </tr>\n",
       "    <tr>\n",
       "      <th>1</th>\n",
       "      <td>Queens</td>\n",
       "      <td>Bronx</td>\n",
       "      <td>12</td>\n",
       "      <td>4.8</td>\n",
       "    </tr>\n",
       "    <tr>\n",
       "      <th>2</th>\n",
       "      <td>Bronx</td>\n",
       "      <td>Queens</td>\n",
       "      <td>12</td>\n",
       "      <td>4.8</td>\n",
       "    </tr>\n",
       "    <tr>\n",
       "      <th>3</th>\n",
       "      <td>Brooklyn</td>\n",
       "      <td>Bronx</td>\n",
       "      <td>11</td>\n",
       "      <td>4.8</td>\n",
       "    </tr>\n",
       "    <tr>\n",
       "      <th>4</th>\n",
       "      <td>Bronx</td>\n",
       "      <td>Brooklyn</td>\n",
       "      <td>17</td>\n",
       "      <td>4.8</td>\n",
       "    </tr>\n",
       "    <tr>\n",
       "      <th>...</th>\n",
       "      <td>...</td>\n",
       "      <td>...</td>\n",
       "      <td>...</td>\n",
       "      <td>...</td>\n",
       "    </tr>\n",
       "    <tr>\n",
       "      <th>334</th>\n",
       "      <td>Bronx</td>\n",
       "      <td>Manhattan</td>\n",
       "      <td>18</td>\n",
       "      <td>0.0</td>\n",
       "    </tr>\n",
       "    <tr>\n",
       "      <th>335</th>\n",
       "      <td>Bronx</td>\n",
       "      <td>Brooklyn</td>\n",
       "      <td>12</td>\n",
       "      <td>0.0</td>\n",
       "    </tr>\n",
       "    <tr>\n",
       "      <th>336</th>\n",
       "      <td>Brooklyn</td>\n",
       "      <td>Bronx</td>\n",
       "      <td>23</td>\n",
       "      <td>0.0</td>\n",
       "    </tr>\n",
       "    <tr>\n",
       "      <th>337</th>\n",
       "      <td>Bronx</td>\n",
       "      <td>Manhattan</td>\n",
       "      <td>22</td>\n",
       "      <td>0.0</td>\n",
       "    </tr>\n",
       "    <tr>\n",
       "      <th>338</th>\n",
       "      <td>Brooklyn</td>\n",
       "      <td>Bronx</td>\n",
       "      <td>18</td>\n",
       "      <td>0.0</td>\n",
       "    </tr>\n",
       "  </tbody>\n",
       "</table>\n",
       "<p>339 rows × 4 columns</p>\n",
       "</div>"
      ],
      "text/plain": [
       "    pickup_borough dropoff_borough  pickup_hour  avg_tolls_amount\n",
       "0           Queens           Bronx           17               4.8\n",
       "1           Queens           Bronx           12               4.8\n",
       "2            Bronx          Queens           12               4.8\n",
       "3         Brooklyn           Bronx           11               4.8\n",
       "4            Bronx        Brooklyn           17               4.8\n",
       "..             ...             ...          ...               ...\n",
       "334          Bronx       Manhattan           18               0.0\n",
       "335          Bronx        Brooklyn           12               0.0\n",
       "336       Brooklyn           Bronx           23               0.0\n",
       "337          Bronx       Manhattan           22               0.0\n",
       "338       Brooklyn           Bronx           18               0.0\n",
       "\n",
       "[339 rows x 4 columns]"
      ]
     },
     "execution_count": 46,
     "metadata": {},
     "output_type": "execute_result"
    }
   ],
   "source": [
    "trip8_df = trip8.toPandas()\n",
    "trip8_df"
   ]
  },
  {
   "cell_type": "code",
   "execution_count": 47,
   "id": "615e5030",
   "metadata": {},
   "outputs": [],
   "source": [
    "queens_data = trip8_df[trip8_df['pickup_borough'] == 'Queens']\n",
    "bronx_data = trip8_df[trip8_df['pickup_borough'] == 'Bronx']\n",
    "brooklyn_data = trip8_df[trip8_df['pickup_borough'] == 'Brooklyn']\n",
    "manhattan_data = trip8_df[trip8_df['pickup_borough'] == 'Manhattan']"
   ]
  },
  {
   "cell_type": "code",
   "execution_count": 48,
   "id": "503e9e63",
   "metadata": {},
   "outputs": [
    {
     "data": {
      "text/html": [
       "\n",
       "  <div class=\"bk-root\" id=\"842e6197-0229-4064-b65e-0cfe81570a39\" data-root-id=\"1313\"></div>\n"
      ]
     },
     "metadata": {},
     "output_type": "display_data"
    },
    {
     "data": {
      "application/javascript": "(function(root) {\n  function embed_document(root) {\n  const docs_json = {\"0d320d91-1b72-4bb8-b6e3-09e789c0ffa5\":{\"defs\":[],\"roots\":{\"references\":[{\"attributes\":{\"children\":[{\"id\":\"1312\"},{\"id\":\"1310\"}]},\"id\":\"1313\",\"type\":\"Column\"},{\"attributes\":{\"overlay\":{\"id\":\"1174\"}},\"id\":\"1171\",\"type\":\"BoxZoomTool\"},{\"attributes\":{},\"id\":\"1211\",\"type\":\"ResetTool\"},{\"attributes\":{},\"id\":\"1208\",\"type\":\"SaveTool\"},{\"attributes\":{\"tools\":[{\"id\":\"1168\"},{\"id\":\"1169\"},{\"id\":\"1170\"},{\"id\":\"1171\"},{\"id\":\"1172\"},{\"id\":\"1173\"}]},\"id\":\"1175\",\"type\":\"Toolbar\"},{\"attributes\":{\"overlay\":{\"id\":\"1213\"}},\"id\":\"1210\",\"type\":\"BoxZoomTool\"},{\"attributes\":{\"bottom_units\":\"screen\",\"coordinates\":null,\"fill_alpha\":0.5,\"fill_color\":\"lightgrey\",\"group\":null,\"left_units\":\"screen\",\"level\":\"overlay\",\"line_alpha\":1.0,\"line_color\":\"black\",\"line_dash\":[4,4],\"line_width\":2,\"right_units\":\"screen\",\"syncable\":false,\"top_units\":\"screen\"},\"id\":\"1252\",\"type\":\"BoxAnnotation\"},{\"attributes\":{\"callback\":null},\"id\":\"1207\",\"type\":\"HoverTool\"},{\"attributes\":{},\"id\":\"1279\",\"type\":\"BasicTickFormatter\"},{\"attributes\":{},\"id\":\"1209\",\"type\":\"PanTool\"},{\"attributes\":{\"bottom_units\":\"screen\",\"coordinates\":null,\"fill_alpha\":0.5,\"fill_color\":\"lightgrey\",\"group\":null,\"left_units\":\"screen\",\"level\":\"overlay\",\"line_alpha\":1.0,\"line_color\":\"black\",\"line_dash\":[4,4],\"line_width\":2,\"right_units\":\"screen\",\"syncable\":false,\"top_units\":\"screen\"},\"id\":\"1213\",\"type\":\"BoxAnnotation\"},{\"attributes\":{},\"id\":\"1280\",\"type\":\"AllLabels\"},{\"attributes\":{\"children\":[[{\"id\":\"1110\"},0,0],[{\"id\":\"1149\"},0,1],[{\"id\":\"1188\"},1,0],[{\"id\":\"1227\"},1,1]]},\"id\":\"1310\",\"type\":\"GridBox\"},{\"attributes\":{},\"id\":\"1212\",\"type\":\"WheelZoomTool\"},{\"attributes\":{},\"id\":\"1122\",\"type\":\"BasicTicker\"},{\"attributes\":{\"data\":{\"top\":{\"__ndarray__\":\"MzMzMzMzE0AzMzMzMzMTQDMzMzMzMxNAMzMzMzMzE0AzMzMzMzMTQDMzMzMzMxNAMzMzMzMzE0AzMzMzMzMTQMzMzMzMzAxAMzMzMzMzA0AzMzMzMzMDQI7jOI7jOPI/uB6F61G47j8WX/EVX/HlPxZf8RVf8eU/uB6F61G43j8XeqEXeqHXP3h3d3d3d8c/nhLkKUGewj8AAAAAAAAAAAAAAAAAAAAAAAAAAAAAAAAAAAAAAAAAAAAAAAAAAAAAAAAAAAAAAAAAAAAAAAAAAAAAAAAAAAAAAAAAAAAAAAAAAAAAAAAAAAAAAAAAAAAAAAAAAAAAAAAAAAAAAAAAAAAAAAAAAAAAAAAAAAAAAAAAAAAAAAAAAAAAAAAAAAAAAAAAAAAAAAAAAAAAAAAAAAAAAAAAAAAAAAAAAAAAAAAAAAAAAAAAAAAAAAAAAAAAAAAAAAAAAAAAAAAAAAAAAAAAAAAAAAAAAAAAAAAAAAAAAAAAAAAAAAAAAAAAAAAAAAAAAAAAAAAAAAAAAAAAAAAAAAAAAAAAAAAAAAAAAAAAAAAAAAAAAAAAAAAAAAAAAAAAAAAAAAAAAAAAAAAAAAAAAAAAAAAAAAAAAAAAAAAAAAAAAAAAAAAAAAAAAAAAAAAAAAAAAAA=\",\"dtype\":\"float64\",\"order\":\"little\",\"shape\":[61]},\"x\":{\"__ndarray__\":\"DAAAABEAAAACAAAAAwAAAAAAAAAHAAAADwAAAAEAAAAFAAAAAQAAAAYAAAAKAAAAEQAAAAsAAAAUAAAAEgAAABUAAAAEAAAABQAAABYAAAALAAAAAQAAAAYAAAAOAAAACQAAAAQAAAACAAAAAwAAAA4AAAABAAAAAgAAAAYAAAADAAAADwAAAAwAAAAIAAAAAgAAAA8AAAAHAAAABQAAAAAAAAAIAAAABwAAAA0AAAAAAAAABgAAABQAAAAQAAAAEQAAABcAAAAXAAAACgAAABMAAAAMAAAADQAAAAkAAAAVAAAAEAAAABIAAAAMAAAAFgAAAA==\",\"dtype\":\"int32\",\"order\":\"little\",\"shape\":[61]}},\"selected\":{\"id\":\"1285\"},\"selection_policy\":{\"id\":\"1284\"}},\"id\":\"1182\",\"type\":\"ColumnDataSource\"},{\"attributes\":{},\"id\":\"1273\",\"type\":\"UnionRenderers\"},{\"attributes\":{},\"id\":\"1117\",\"type\":\"LinearScale\"},{\"attributes\":{},\"id\":\"1282\",\"type\":\"BasicTickFormatter\"},{\"attributes\":{\"axis_label\":\"Pickup Hour\",\"coordinates\":null,\"formatter\":{\"id\":\"1271\"},\"group\":null,\"major_label_policy\":{\"id\":\"1272\"},\"ticker\":{\"id\":\"1122\"}},\"id\":\"1121\",\"type\":\"LinearAxis\"},{\"attributes\":{\"coordinates\":null,\"group\":null,\"text\":\"Average Tolls Amount by Pickup Hour for Queens\"},\"id\":\"1111\",\"type\":\"Title\"},{\"attributes\":{\"source\":{\"id\":\"1182\"}},\"id\":\"1187\",\"type\":\"CDSView\"},{\"attributes\":{},\"id\":\"1274\",\"type\":\"Selection\"},{\"attributes\":{},\"id\":\"1283\",\"type\":\"AllLabels\"},{\"attributes\":{},\"id\":\"1173\",\"type\":\"WheelZoomTool\"},{\"attributes\":{},\"id\":\"1251\",\"type\":\"WheelZoomTool\"},{\"attributes\":{\"axis_label\":\"Pickup Hour\",\"coordinates\":null,\"formatter\":{\"id\":\"1293\"},\"group\":null,\"major_label_policy\":{\"id\":\"1294\"},\"ticker\":{\"id\":\"1200\"}},\"id\":\"1199\",\"type\":\"LinearAxis\"},{\"attributes\":{\"bottom_units\":\"screen\",\"coordinates\":null,\"fill_alpha\":0.5,\"fill_color\":\"lightgrey\",\"group\":null,\"left_units\":\"screen\",\"level\":\"overlay\",\"line_alpha\":1.0,\"line_color\":\"black\",\"line_dash\":[4,4],\"line_width\":2,\"right_units\":\"screen\",\"syncable\":false,\"top_units\":\"screen\"},\"id\":\"1174\",\"type\":\"BoxAnnotation\"},{\"attributes\":{},\"id\":\"1172\",\"type\":\"ResetTool\"},{\"attributes\":{},\"id\":\"1301\",\"type\":\"BasicTickFormatter\"},{\"attributes\":{},\"id\":\"1302\",\"type\":\"AllLabels\"},{\"attributes\":{\"axis\":{\"id\":\"1125\"},\"coordinates\":null,\"dimension\":1,\"group\":null,\"ticker\":null},\"id\":\"1128\",\"type\":\"Grid\"},{\"attributes\":{},\"id\":\"1134\",\"type\":\"WheelZoomTool\"},{\"attributes\":{\"end\":5},\"id\":\"1193\",\"type\":\"Range1d\"},{\"attributes\":{},\"id\":\"1304\",\"type\":\"BasicTickFormatter\"},{\"attributes\":{},\"id\":\"1133\",\"type\":\"ResetTool\"},{\"attributes\":{},\"id\":\"1195\",\"type\":\"LinearScale\"},{\"attributes\":{\"fill_color\":{\"value\":\"#50514F\"},\"hatch_color\":{\"value\":\"#50514F\"},\"line_color\":{\"value\":\"#50514F\"},\"top\":{\"field\":\"top\"},\"width\":{\"value\":0.9},\"x\":{\"field\":\"x\"}},\"id\":\"1261\",\"type\":\"VBar\"},{\"attributes\":{},\"id\":\"1305\",\"type\":\"AllLabels\"},{\"attributes\":{},\"id\":\"1284\",\"type\":\"UnionRenderers\"},{\"attributes\":{\"below\":[{\"id\":\"1160\"}],\"center\":[{\"id\":\"1163\"},{\"id\":\"1167\"}],\"frame_height\":300,\"frame_width\":500,\"height\":250,\"left\":[{\"id\":\"1164\"}],\"renderers\":[{\"id\":\"1186\"}],\"title\":{\"id\":\"1150\"},\"toolbar\":{\"id\":\"1175\"},\"toolbar_location\":null,\"width\":250,\"x_range\":{\"id\":\"1152\"},\"x_scale\":{\"id\":\"1156\"},\"y_range\":{\"id\":\"1154\"},\"y_scale\":{\"id\":\"1158\"}},\"id\":\"1149\",\"subtype\":\"Figure\",\"type\":\"Plot\"},{\"attributes\":{\"fill_alpha\":{\"value\":0.2},\"fill_color\":{\"value\":\"#009B72\"},\"hatch_alpha\":{\"value\":0.2},\"hatch_color\":{\"value\":\"#009B72\"},\"line_alpha\":{\"value\":0.2},\"line_color\":{\"value\":\"#009B72\"},\"top\":{\"field\":\"top\"},\"width\":{\"value\":0.9},\"x\":{\"field\":\"x\"}},\"id\":\"1146\",\"type\":\"VBar\"},{\"attributes\":{},\"id\":\"1272\",\"type\":\"AllLabels\"},{\"attributes\":{\"tools\":[{\"id\":\"1207\"},{\"id\":\"1208\"},{\"id\":\"1209\"},{\"id\":\"1210\"},{\"id\":\"1211\"},{\"id\":\"1212\"}]},\"id\":\"1214\",\"type\":\"Toolbar\"},{\"attributes\":{\"coordinates\":null,\"group\":null,\"text\":\"Average Tolls Amount by Pickup Hour for Brooklyn\"},\"id\":\"1189\",\"type\":\"Title\"},{\"attributes\":{},\"id\":\"1285\",\"type\":\"Selection\"},{\"attributes\":{\"below\":[{\"id\":\"1199\"}],\"center\":[{\"id\":\"1202\"},{\"id\":\"1206\"}],\"frame_height\":300,\"frame_width\":500,\"height\":250,\"left\":[{\"id\":\"1203\"}],\"renderers\":[{\"id\":\"1225\"}],\"title\":{\"id\":\"1189\"},\"toolbar\":{\"id\":\"1214\"},\"toolbar_location\":null,\"width\":250,\"x_range\":{\"id\":\"1191\"},\"x_scale\":{\"id\":\"1195\"},\"y_range\":{\"id\":\"1193\"},\"y_scale\":{\"id\":\"1197\"}},\"id\":\"1188\",\"subtype\":\"Figure\",\"type\":\"Plot\"},{\"attributes\":{\"axis\":{\"id\":\"1199\"},\"coordinates\":null,\"group\":null,\"ticker\":null},\"id\":\"1202\",\"type\":\"Grid\"},{\"attributes\":{\"fill_alpha\":{\"value\":0.1},\"fill_color\":{\"value\":\"#009B72\"},\"hatch_alpha\":{\"value\":0.1},\"hatch_color\":{\"value\":\"#009B72\"},\"line_alpha\":{\"value\":0.1},\"line_color\":{\"value\":\"#009B72\"},\"top\":{\"field\":\"top\"},\"width\":{\"value\":0.9},\"x\":{\"field\":\"x\"}},\"id\":\"1145\",\"type\":\"VBar\"},{\"attributes\":{\"data\":{\"top\":{\"__ndarray__\":\"OosAqkziCUDnXrHUsZAIQD45DUb2eQhASElEt9zcB0AcKujcZF0HQJNyYfIAKQdAFOv3zzlDBkD33DxGd4sFQMt/6a5sAAVA9yhcj8L1BEBXxLiIBZkBQCTmlFfvCgFAydK+QmRr/T/WDoOjdj37P33JX4zll/Q/aN72W4Yk8D/6P9CgPW7uP04FLGSzc+0/KKgC0DLK6z8wkwgziTDrP2wI7tmZjeo/d3h4eHhY6j/ylCBPCfLkP5thwHt4weA/oWirwXME4D8ZnI/B+RjcP65CeN0qhNc/fW6JU7/n1j+dKw9I1rnSP4/C9Shcj9I/CCPtWIEw0j+axCCwcmjRPwu2YAu2YNE/HtRBHdRB0T8xDMMwDMPQP6X2xqy5atA/JK/QbSU+0D820GkDnTbQP3K6BzgW4c8/XLxEt4+Mzz9lZmZmZmbOP3A9CtejcM0/TxvotIFOyz/Z1PFDV+PKP3esQBhpx8o/w9o3rH3Dyj+5n/XcjX7IP9O55/Alysc/z7ArQO41xz8oF4xywSjHP+/mEarPtMU/kfLItXWPxT+057wEw4zFP3v+2tCESsU/H4XrUbgexT9eQ3kN5TXEPy88IVfrwsM/FTuxEzuxwz+gUC0BCtXCP8aSXyz5xcI/2frwVjlrwj+bNfbmE0zCP/63bTEp/8E/JCh+jLlrwT8QERERERHBP5D4EjCu0MA/Hmxk07bAvz+Deu/oMBm+PwubA4lW2Lw/Yn/ficMpuT+66KKLLrq0P47eFZkvTaw/wzRc3guikT+Vpk98RAqDP1j0TzahPoI/Tw/Y4mv2gT+GjLfRROGBPyORUnhlsoA/Ewd70QV1gD+jvBjsRSh/P8GWRjR1YH4/QC4Ac2IgfT8xM0SZQpF6Pzj6gdCVDHk/ieBUWiQbeD9zWLSzqk13P+ABDqfJaXM//LfR01tCcT+hetiwOopvPw+M0Se1224/9ZdAZ+DCaz+S2PRsaRFnP3O1a1lNBmY/I8+iIdeyYj/1fpY2IGhhP+feWAsCr0U/\",\"dtype\":\"float64\",\"order\":\"little\",\"shape\":[96]},\"x\":{\"__ndarray__\":\"DwAAAAwAAAAOAAAACwAAAA0AAAAQAAAACAAAAAkAAAAKAAAAEQAAAAcAAAASAAAAEwAAAAYAAAAFAAAAFAAAAAQAAAADAAAAAAAAAAIAAAAVAAAAAQAAABYAAAAQAAAAFwAAAAwAAAALAAAACgAAABIAAAAWAAAAEAAAAA4AAAABAAAAAwAAAA4AAAARAAAAAgAAAAAAAAAPAAAAAQAAABEAAAANAAAADwAAAAIAAAAAAAAAFQAAAAwAAAALAAAACAAAABIAAAAWAAAAFQAAAAMAAAAJAAAACQAAAA0AAAATAAAABAAAAAgAAAAUAAAAEwAAAAYAAAAEAAAAFwAAAAcAAAAUAAAABwAAAAUAAAAKAAAAFwAAAAYAAAAFAAAABwAAABEAAAAUAAAABgAAAAkAAAAXAAAADwAAAAoAAAAIAAAABAAAABMAAAASAAAAFgAAABAAAAAFAAAAFQAAAA4AAAALAAAAAQAAAA0AAAAMAAAAAgAAAAAAAAADAAAA\",\"dtype\":\"int32\",\"order\":\"little\",\"shape\":[96]}},\"selected\":{\"id\":\"1307\"},\"selection_policy\":{\"id\":\"1306\"}},\"id\":\"1260\",\"type\":\"ColumnDataSource\"},{\"attributes\":{},\"id\":\"1170\",\"type\":\"PanTool\"},{\"attributes\":{\"axis\":{\"id\":\"1203\"},\"coordinates\":null,\"dimension\":1,\"group\":null,\"ticker\":null},\"id\":\"1206\",\"type\":\"Grid\"},{\"attributes\":{\"axis_label\":\"Average Tolls Amount\",\"coordinates\":null,\"formatter\":{\"id\":\"1268\"},\"group\":null,\"major_label_policy\":{\"id\":\"1269\"},\"ticker\":{\"id\":\"1126\"}},\"id\":\"1125\",\"type\":\"LinearAxis\"},{\"attributes\":{\"axis_label\":\"Average Tolls Amount\",\"coordinates\":null,\"formatter\":{\"id\":\"1301\"},\"group\":null,\"major_label_policy\":{\"id\":\"1302\"},\"ticker\":{\"id\":\"1243\"}},\"id\":\"1242\",\"type\":\"LinearAxis\"},{\"attributes\":{\"source\":{\"id\":\"1143\"}},\"id\":\"1148\",\"type\":\"CDSView\"},{\"attributes\":{\"axis\":{\"id\":\"1238\"},\"coordinates\":null,\"group\":null,\"ticker\":null},\"id\":\"1241\",\"type\":\"Grid\"},{\"attributes\":{},\"id\":\"1306\",\"type\":\"UnionRenderers\"},{\"attributes\":{\"toolbar\":{\"id\":\"1311\"},\"toolbar_location\":\"above\"},\"id\":\"1312\",\"type\":\"ToolbarBox\"},{\"attributes\":{\"data\":{\"top\":{\"__ndarray__\":\"MzMzMzMzE0AWX/EVX/EFQDMzMzMzMwNAmpmZmZmZAUC4HoXrUbj+P5mZmZmZmfk/mZmZmZmZ+T8jIiIiIiL2P5mZmZmZmfU/MzMzMzMz8z8XeqEXeqHHP/uR7JUrhr8/Yh8X9nFhvz9z5QHJOle+P/gdiN+B+L0/55xzzjnnvD+Q+lsBqb+1P8HrViG8brU/S0gtcEQSsz+mJwEFa3qyP+Pst/WCM7A/Vt2oKXmHrj/E1rcBQzWtP1g6yYGlk6w/IhE+n9aVqz+QclPRPKGmP79oAV36i6Y/P2IBd/ojpj8U8KYU8KakP3sUrkfheqQ/exSuR+F6pD9UKSPZYL2jP1bdqCl5h54/HdRBHdRBnT8J5TyTghWdP3s+iGX9xJs/ez6IZf3Emz9OG+i0gU6bP96zk3vpu5k/7ViBMNKOlT9V9tszZBiVPykBEG2CWZQ/pC8BZkT6kj8LYDAbZ2yJP+1YgTDSjoU/MTYLqj0ngz8WX/EVX/F1PwAAAAAAAAAAAAAAAAAAAAAAAAAAAAAAAAAAAAAAAAAAAAAAAAAAAAAAAAAAAAAAAAAAAAAAAAAAAAAAAAAAAAAAAAAAAAAAAAAAAAAAAAAAAAAAAAAAAAAAAAAAAAAAAAAAAAAAAAAAAAAAAAAAAAAAAAAAAAAAAAAAAAAAAAAAAAAAAAAAAAAAAAAAAAAAAAAAAAAAAAAAAAAAAAAAAAAAAAAAAAAAAAAAAAAAAAAAAAAAAAAAAAAAAAAAAAAAAAAAAAAAAAAAAAAAAAAAAAAAAAAAAAAAAAAAAAAAAAAAAAAAAAAAAAAAAAAAAAAAAAAAAAAAAAAAAAAAAAAAAAAAAAAAAAAAAAAAAAAAAAAAAAAAAAAAAAAAAAAAAAAAAAAAAAAAAAAAAAAAAAAAAAAAAAAAAAAAAA==\",\"dtype\":\"float64\",\"order\":\"little\",\"shape\":[86]},\"x\":{\"__ndarray__\":\"CwAAAAEAAAAFAAAADAAAAAAAAAAEAAAABgAAAAMAAAACAAAABwAAAAwAAAARAAAABQAAAAkAAAAPAAAAEAAAABUAAAAGAAAAAwAAAAsAAAABAAAADgAAABYAAAAJAAAAAgAAAAAAAAAKAAAAFQAAABYAAAALAAAAFAAAAAQAAAANAAAABgAAAA8AAAARAAAADgAAAAMAAAACAAAAEwAAABIAAAADAAAABQAAAAQAAAABAAAABAAAAAEAAAAUAAAAAAAAABcAAAATAAAAEQAAAA8AAAAFAAAACAAAABMAAAAXAAAAFAAAAAsAAAACAAAADAAAAAwAAAASAAAACAAAAAoAAAAKAAAADQAAAAYAAAAIAAAADQAAAAcAAAAHAAAACQAAABAAAAAXAAAADgAAAAcAAAAQAAAAFQAAAAoAAAAAAAAAEgAAABYAAAAIAAAAFwAAABIAAAA=\",\"dtype\":\"int32\",\"order\":\"little\",\"shape\":[86]}},\"selected\":{\"id\":\"1296\"},\"selection_policy\":{\"id\":\"1295\"}},\"id\":\"1221\",\"type\":\"ColumnDataSource\"},{\"attributes\":{},\"id\":\"1200\",\"type\":\"BasicTicker\"},{\"attributes\":{},\"id\":\"1243\",\"type\":\"BasicTicker\"},{\"attributes\":{},\"id\":\"1307\",\"type\":\"Selection\"},{\"attributes\":{\"coordinates\":null,\"data_source\":{\"id\":\"1221\"},\"glyph\":{\"id\":\"1222\"},\"group\":null,\"hover_glyph\":null,\"muted_glyph\":{\"id\":\"1224\"},\"nonselection_glyph\":{\"id\":\"1223\"},\"view\":{\"id\":\"1226\"}},\"id\":\"1225\",\"type\":\"GlyphRenderer\"},{\"attributes\":{},\"id\":\"1197\",\"type\":\"LinearScale\"},{\"attributes\":{\"overlay\":{\"id\":\"1135\"}},\"id\":\"1132\",\"type\":\"BoxZoomTool\"},{\"attributes\":{\"end\":23},\"id\":\"1191\",\"type\":\"Range1d\"},{\"attributes\":{},\"id\":\"1250\",\"type\":\"ResetTool\"},{\"attributes\":{\"fill_alpha\":{\"value\":0.2},\"fill_color\":{\"value\":\"#50514F\"},\"hatch_alpha\":{\"value\":0.2},\"hatch_color\":{\"value\":\"#50514F\"},\"line_alpha\":{\"value\":0.2},\"line_color\":{\"value\":\"#50514F\"},\"top\":{\"field\":\"top\"},\"width\":{\"value\":0.9},\"x\":{\"field\":\"x\"}},\"id\":\"1263\",\"type\":\"VBar\"},{\"attributes\":{\"tools\":[{\"id\":\"1129\"},{\"id\":\"1130\"},{\"id\":\"1131\"},{\"id\":\"1132\"},{\"id\":\"1133\"},{\"id\":\"1134\"}]},\"id\":\"1136\",\"type\":\"Toolbar\"},{\"attributes\":{\"fill_alpha\":{\"value\":0.1},\"fill_color\":{\"value\":\"#50514F\"},\"hatch_alpha\":{\"value\":0.1},\"hatch_color\":{\"value\":\"#50514F\"},\"line_alpha\":{\"value\":0.1},\"line_color\":{\"value\":\"#50514F\"},\"top\":{\"field\":\"top\"},\"width\":{\"value\":0.9},\"x\":{\"field\":\"x\"}},\"id\":\"1262\",\"type\":\"VBar\"},{\"attributes\":{\"end\":23},\"id\":\"1152\",\"type\":\"Range1d\"},{\"attributes\":{\"axis\":{\"id\":\"1242\"},\"coordinates\":null,\"dimension\":1,\"group\":null,\"ticker\":null},\"id\":\"1245\",\"type\":\"Grid\"},{\"attributes\":{},\"id\":\"1165\",\"type\":\"BasicTicker\"},{\"attributes\":{\"callback\":null},\"id\":\"1168\",\"type\":\"HoverTool\"},{\"attributes\":{\"axis\":{\"id\":\"1164\"},\"coordinates\":null,\"dimension\":1,\"group\":null,\"ticker\":null},\"id\":\"1167\",\"type\":\"Grid\"},{\"attributes\":{\"fill_color\":{\"value\":\"#009DDC\"},\"hatch_color\":{\"value\":\"#009DDC\"},\"line_color\":{\"value\":\"#009DDC\"},\"top\":{\"field\":\"top\"},\"width\":{\"value\":0.9},\"x\":{\"field\":\"x\"}},\"id\":\"1222\",\"type\":\"VBar\"},{\"attributes\":{\"overlay\":{\"id\":\"1252\"}},\"id\":\"1249\",\"type\":\"BoxZoomTool\"},{\"attributes\":{\"axis_label\":\"Average Tolls Amount\",\"coordinates\":null,\"formatter\":{\"id\":\"1279\"},\"group\":null,\"major_label_policy\":{\"id\":\"1280\"},\"ticker\":{\"id\":\"1165\"}},\"id\":\"1164\",\"type\":\"LinearAxis\"},{\"attributes\":{\"callback\":null},\"id\":\"1246\",\"type\":\"HoverTool\"},{\"attributes\":{},\"id\":\"1248\",\"type\":\"PanTool\"},{\"attributes\":{\"coordinates\":null,\"data_source\":{\"id\":\"1143\"},\"glyph\":{\"id\":\"1144\"},\"group\":null,\"hover_glyph\":null,\"muted_glyph\":{\"id\":\"1146\"},\"nonselection_glyph\":{\"id\":\"1145\"},\"view\":{\"id\":\"1148\"}},\"id\":\"1147\",\"type\":\"GlyphRenderer\"},{\"attributes\":{},\"id\":\"1268\",\"type\":\"BasicTickFormatter\"},{\"attributes\":{},\"id\":\"1158\",\"type\":\"LinearScale\"},{\"attributes\":{\"coordinates\":null,\"data_source\":{\"id\":\"1182\"},\"glyph\":{\"id\":\"1183\"},\"group\":null,\"hover_glyph\":null,\"muted_glyph\":{\"id\":\"1185\"},\"nonselection_glyph\":{\"id\":\"1184\"},\"view\":{\"id\":\"1187\"}},\"id\":\"1186\",\"type\":\"GlyphRenderer\"},{\"attributes\":{},\"id\":\"1236\",\"type\":\"LinearScale\"},{\"attributes\":{},\"id\":\"1131\",\"type\":\"PanTool\"},{\"attributes\":{},\"id\":\"1269\",\"type\":\"AllLabels\"},{\"attributes\":{\"axis\":{\"id\":\"1160\"},\"coordinates\":null,\"group\":null,\"ticker\":null},\"id\":\"1163\",\"type\":\"Grid\"},{\"attributes\":{\"end\":23},\"id\":\"1113\",\"type\":\"Range1d\"},{\"attributes\":{\"end\":5},\"id\":\"1232\",\"type\":\"Range1d\"},{\"attributes\":{},\"id\":\"1271\",\"type\":\"BasicTickFormatter\"},{\"attributes\":{\"end\":23},\"id\":\"1230\",\"type\":\"Range1d\"},{\"attributes\":{\"fill_alpha\":{\"value\":0.2},\"fill_color\":{\"value\":\"#009DDC\"},\"hatch_alpha\":{\"value\":0.2},\"hatch_color\":{\"value\":\"#009DDC\"},\"line_alpha\":{\"value\":0.2},\"line_color\":{\"value\":\"#009DDC\"},\"top\":{\"field\":\"top\"},\"width\":{\"value\":0.9},\"x\":{\"field\":\"x\"}},\"id\":\"1224\",\"type\":\"VBar\"},{\"attributes\":{\"coordinates\":null,\"data_source\":{\"id\":\"1260\"},\"glyph\":{\"id\":\"1261\"},\"group\":null,\"hover_glyph\":null,\"muted_glyph\":{\"id\":\"1263\"},\"nonselection_glyph\":{\"id\":\"1262\"},\"view\":{\"id\":\"1265\"}},\"id\":\"1264\",\"type\":\"GlyphRenderer\"},{\"attributes\":{\"below\":[{\"id\":\"1121\"}],\"center\":[{\"id\":\"1124\"},{\"id\":\"1128\"}],\"frame_height\":300,\"frame_width\":500,\"height\":250,\"left\":[{\"id\":\"1125\"}],\"renderers\":[{\"id\":\"1147\"}],\"title\":{\"id\":\"1111\"},\"toolbar\":{\"id\":\"1136\"},\"toolbar_location\":null,\"width\":250,\"x_range\":{\"id\":\"1113\"},\"x_scale\":{\"id\":\"1117\"},\"y_range\":{\"id\":\"1115\"},\"y_scale\":{\"id\":\"1119\"}},\"id\":\"1110\",\"subtype\":\"Figure\",\"type\":\"Plot\"},{\"attributes\":{\"below\":[{\"id\":\"1238\"}],\"center\":[{\"id\":\"1241\"},{\"id\":\"1245\"}],\"frame_height\":300,\"frame_width\":500,\"height\":250,\"left\":[{\"id\":\"1242\"}],\"renderers\":[{\"id\":\"1264\"}],\"title\":{\"id\":\"1228\"},\"toolbar\":{\"id\":\"1253\"},\"toolbar_location\":null,\"width\":250,\"x_range\":{\"id\":\"1230\"},\"x_scale\":{\"id\":\"1234\"},\"y_range\":{\"id\":\"1232\"},\"y_scale\":{\"id\":\"1236\"}},\"id\":\"1227\",\"subtype\":\"Figure\",\"type\":\"Plot\"},{\"attributes\":{\"source\":{\"id\":\"1260\"}},\"id\":\"1265\",\"type\":\"CDSView\"},{\"attributes\":{\"end\":5},\"id\":\"1154\",\"type\":\"Range1d\"},{\"attributes\":{},\"id\":\"1126\",\"type\":\"BasicTicker\"},{\"attributes\":{\"end\":5},\"id\":\"1115\",\"type\":\"Range1d\"},{\"attributes\":{\"axis_label\":\"Pickup Hour\",\"coordinates\":null,\"formatter\":{\"id\":\"1282\"},\"group\":null,\"major_label_policy\":{\"id\":\"1283\"},\"ticker\":{\"id\":\"1161\"}},\"id\":\"1160\",\"type\":\"LinearAxis\"},{\"attributes\":{\"fill_alpha\":{\"value\":0.1},\"fill_color\":{\"value\":\"#F25F5C\"},\"hatch_alpha\":{\"value\":0.1},\"hatch_color\":{\"value\":\"#F25F5C\"},\"line_alpha\":{\"value\":0.1},\"line_color\":{\"value\":\"#F25F5C\"},\"top\":{\"field\":\"top\"},\"width\":{\"value\":0.9},\"x\":{\"field\":\"x\"}},\"id\":\"1184\",\"type\":\"VBar\"},{\"attributes\":{},\"id\":\"1156\",\"type\":\"LinearScale\"},{\"attributes\":{},\"id\":\"1247\",\"type\":\"SaveTool\"},{\"attributes\":{},\"id\":\"1239\",\"type\":\"BasicTicker\"},{\"attributes\":{},\"id\":\"1119\",\"type\":\"LinearScale\"},{\"attributes\":{\"coordinates\":null,\"group\":null,\"text\":\"Average Tolls Amount by Pickup Hour for Manhattan\"},\"id\":\"1228\",\"type\":\"Title\"},{\"attributes\":{},\"id\":\"1234\",\"type\":\"LinearScale\"},{\"attributes\":{\"tools\":[{\"id\":\"1246\"},{\"id\":\"1247\"},{\"id\":\"1248\"},{\"id\":\"1249\"},{\"id\":\"1250\"},{\"id\":\"1251\"}]},\"id\":\"1253\",\"type\":\"Toolbar\"},{\"attributes\":{\"axis\":{\"id\":\"1121\"},\"coordinates\":null,\"group\":null,\"ticker\":null},\"id\":\"1124\",\"type\":\"Grid\"},{\"attributes\":{\"axis_label\":\"Pickup Hour\",\"coordinates\":null,\"formatter\":{\"id\":\"1304\"},\"group\":null,\"major_label_policy\":{\"id\":\"1305\"},\"ticker\":{\"id\":\"1239\"}},\"id\":\"1238\",\"type\":\"LinearAxis\"},{\"attributes\":{},\"id\":\"1204\",\"type\":\"BasicTicker\"},{\"attributes\":{\"fill_alpha\":{\"value\":0.1},\"fill_color\":{\"value\":\"#009DDC\"},\"hatch_alpha\":{\"value\":0.1},\"hatch_color\":{\"value\":\"#009DDC\"},\"line_alpha\":{\"value\":0.1},\"line_color\":{\"value\":\"#009DDC\"},\"top\":{\"field\":\"top\"},\"width\":{\"value\":0.9},\"x\":{\"field\":\"x\"}},\"id\":\"1223\",\"type\":\"VBar\"},{\"attributes\":{\"axis_label\":\"Average Tolls Amount\",\"coordinates\":null,\"formatter\":{\"id\":\"1290\"},\"group\":null,\"major_label_policy\":{\"id\":\"1291\"},\"ticker\":{\"id\":\"1204\"}},\"id\":\"1203\",\"type\":\"LinearAxis\"},{\"attributes\":{},\"id\":\"1169\",\"type\":\"SaveTool\"},{\"attributes\":{\"toolbars\":[{\"id\":\"1136\"},{\"id\":\"1175\"},{\"id\":\"1214\"},{\"id\":\"1253\"}],\"tools\":[{\"id\":\"1129\"},{\"id\":\"1130\"},{\"id\":\"1131\"},{\"id\":\"1132\"},{\"id\":\"1133\"},{\"id\":\"1134\"},{\"id\":\"1168\"},{\"id\":\"1169\"},{\"id\":\"1170\"},{\"id\":\"1171\"},{\"id\":\"1172\"},{\"id\":\"1173\"},{\"id\":\"1207\"},{\"id\":\"1208\"},{\"id\":\"1209\"},{\"id\":\"1210\"},{\"id\":\"1211\"},{\"id\":\"1212\"},{\"id\":\"1246\"},{\"id\":\"1247\"},{\"id\":\"1248\"},{\"id\":\"1249\"},{\"id\":\"1250\"},{\"id\":\"1251\"}]},\"id\":\"1311\",\"type\":\"ProxyToolbar\"},{\"attributes\":{},\"id\":\"1161\",\"type\":\"BasicTicker\"},{\"attributes\":{\"coordinates\":null,\"group\":null,\"text\":\"Average Tolls Amount by Pickup Hour for Bronx\"},\"id\":\"1150\",\"type\":\"Title\"},{\"attributes\":{\"source\":{\"id\":\"1221\"}},\"id\":\"1226\",\"type\":\"CDSView\"},{\"attributes\":{\"callback\":null},\"id\":\"1129\",\"type\":\"HoverTool\"},{\"attributes\":{\"fill_color\":{\"value\":\"#F25F5C\"},\"hatch_color\":{\"value\":\"#F25F5C\"},\"line_color\":{\"value\":\"#F25F5C\"},\"top\":{\"field\":\"top\"},\"width\":{\"value\":0.9},\"x\":{\"field\":\"x\"}},\"id\":\"1183\",\"type\":\"VBar\"},{\"attributes\":{},\"id\":\"1290\",\"type\":\"BasicTickFormatter\"},{\"attributes\":{\"bottom_units\":\"screen\",\"coordinates\":null,\"fill_alpha\":0.5,\"fill_color\":\"lightgrey\",\"group\":null,\"left_units\":\"screen\",\"level\":\"overlay\",\"line_alpha\":1.0,\"line_color\":\"black\",\"line_dash\":[4,4],\"line_width\":2,\"right_units\":\"screen\",\"syncable\":false,\"top_units\":\"screen\"},\"id\":\"1135\",\"type\":\"BoxAnnotation\"},{\"attributes\":{},\"id\":\"1291\",\"type\":\"AllLabels\"},{\"attributes\":{},\"id\":\"1293\",\"type\":\"BasicTickFormatter\"},{\"attributes\":{\"data\":{\"top\":{\"__ndarray__\":\"MzMzMzMzE0AzMzMzMzMTQDIzMzMzMxNAAAAAAADgEkCtR+F6FK4SQAcj7ViBMBJA////////EUDnoosuuugRQEEd1EEd1BFAw9o3rH3DEUBH4XoUrkcRQDtMXW5/EBFA8PDw8PDwEEDMzMzMzMwQQFEHdVAHdRBANDMzMzMzD0DgOQJFWw0OQCdcj8L1KAxASm/HEgumC0BhT2311FYLQAxMNcfs3QpAeTAVR7GoCkBtookmmmgKQF+kHSsQRgpAlosc3bjICUCZmZmZmZkJQJmZmZmZmQlAltvuuO2OCUBOU7I9tRoJQPK4hKfl5ghAq/NrD7msCECiutS/A2cIQA5bjqg4UQhAAAAAAAAACEBFNJodRKMHQArXo3A9CgdAbyJk9yZCBkAWX/EVX/EFQFtOsIw8iAJA4rQiTFYQAkAK/ipOSMkBQOGp8FR4KgBAqslEsHOo/z90Qzd0Qzf4P6Gfn5+fn+8/7BvWvmHt6z9URP16Yd3lPz6rhj2rhuU/OaXnNy7t0z/sStSuRO3KPzrtBTSsrsk/FYQVhBWExT9MwXDsybXEP6KQXMDrbcQ/2FdeHadFxD8KH22olPDBPyIVUiEVUsE/d9W9Q6KKwD+znarphmjAPxEQKv1h4rs/+n5qvHSTuD8ISBqzeFy3P1azeQ6+gbQ/xTI538rnsj+sYbTflOeyPwtukM0dV7I/1ofG+tBYrz8XgzEYgzGoP6xhtN+U56I/ZT4B3kvmkz+sYbTflOeSP0DTnAE0zYk/ubXD99WChD/DicZD+JJ3PwAAAAAAAAAAAAAAAAAAAAAAAAAAAAAAAAAAAAAAAAAAAAAAAAAAAAAAAAAAAAAAAAAAAAAAAAAAAAAAAAAAAAAAAAAAAAAAAAAAAAAAAAAAAAAAAAAAAAAAAAAAAAAAAAAAAAAAAAAAAAAAAAAAAAAAAAAAAAAAAAAAAAAAAAAAAAAAAAAAAAAAAAAAAAAAAAAAAAAAAAAAAAAAAAAAAAAAAAAAAAAAAAAAAAAAAAAA\",\"dtype\":\"float64\",\"order\":\"little\",\"shape\":[96]},\"x\":{\"__ndarray__\":\"EQAAAAwAAAAJAAAADgAAAA8AAAAAAAAADQAAABYAAAAUAAAAEgAAABcAAAAKAAAAEwAAABUAAAAQAAAACwAAAAgAAAAHAAAADgAAAA8AAAARAAAAEAAAAA0AAAAFAAAAEgAAAAQAAAAGAAAAFQAAABQAAAATAAAADAAAABYAAAALAAAAAQAAABcAAAADAAAACgAAAAIAAAAIAAAACQAAAAcAAAAFAAAAAAAAAAYAAAABAAAABAAAAAIAAAADAAAAEAAAABEAAAATAAAACwAAAA8AAAASAAAADgAAAAoAAAAJAAAAFAAAAA0AAAAVAAAABwAAAAwAAAAGAAAABAAAAAgAAAAXAAAAFgAAAAUAAAAAAAAAFwAAABIAAAACAAAAAQAAAAMAAAAHAAAABQAAAAgAAAAJAAAADAAAABYAAAAQAAAACwAAAA0AAAAPAAAAAQAAABQAAAAOAAAACgAAABMAAAACAAAABAAAABUAAAAGAAAAEQAAAAAAAAADAAAA\",\"dtype\":\"int32\",\"order\":\"little\",\"shape\":[96]}},\"selected\":{\"id\":\"1274\"},\"selection_policy\":{\"id\":\"1273\"}},\"id\":\"1143\",\"type\":\"ColumnDataSource\"},{\"attributes\":{},\"id\":\"1294\",\"type\":\"AllLabels\"},{\"attributes\":{\"fill_alpha\":{\"value\":0.2},\"fill_color\":{\"value\":\"#F25F5C\"},\"hatch_alpha\":{\"value\":0.2},\"hatch_color\":{\"value\":\"#F25F5C\"},\"line_alpha\":{\"value\":0.2},\"line_color\":{\"value\":\"#F25F5C\"},\"top\":{\"field\":\"top\"},\"width\":{\"value\":0.9},\"x\":{\"field\":\"x\"}},\"id\":\"1185\",\"type\":\"VBar\"},{\"attributes\":{},\"id\":\"1295\",\"type\":\"UnionRenderers\"},{\"attributes\":{},\"id\":\"1296\",\"type\":\"Selection\"},{\"attributes\":{\"fill_color\":{\"value\":\"#009B72\"},\"hatch_color\":{\"value\":\"#009B72\"},\"line_color\":{\"value\":\"#009B72\"},\"top\":{\"field\":\"top\"},\"width\":{\"value\":0.9},\"x\":{\"field\":\"x\"}},\"id\":\"1144\",\"type\":\"VBar\"},{\"attributes\":{},\"id\":\"1130\",\"type\":\"SaveTool\"}],\"root_ids\":[\"1313\"]},\"title\":\"Bokeh Application\",\"version\":\"2.4.3\"}};\n  const render_items = [{\"docid\":\"0d320d91-1b72-4bb8-b6e3-09e789c0ffa5\",\"root_ids\":[\"1313\"],\"roots\":{\"1313\":\"842e6197-0229-4064-b65e-0cfe81570a39\"}}];\n  root.Bokeh.embed.embed_items_notebook(docs_json, render_items);\n  }\n  if (root.Bokeh !== undefined) {\n    embed_document(root);\n  } else {\n    let attempts = 0;\n    const timer = setInterval(function(root) {\n      if (root.Bokeh !== undefined) {\n        clearInterval(timer);\n        embed_document(root);\n      } else {\n        attempts++;\n        if (attempts > 100) {\n          clearInterval(timer);\n          console.log(\"Bokeh: ERROR: Unable to run BokehJS code because BokehJS library is missing\");\n        }\n      }\n    }, 10, root)\n  }\n})(window);",
      "application/vnd.bokehjs_exec.v0+json": ""
     },
     "metadata": {
      "application/vnd.bokehjs_exec.v0+json": {
       "id": "1313"
      }
     },
     "output_type": "display_data"
    }
   ],
   "source": [
    "TOOLS2 = 'hover, save, pan, box_zoom, reset, wheel_zoom'\n",
    "\n",
    "p1 = figure(title = f'Average Tolls Amount by Pickup Hour for Queens',\n",
    "              x_axis_label = 'Pickup Hour',\n",
    "              y_axis_label = 'Average Tolls Amount',\n",
    "              x_range = (0,23),\n",
    "              y_range = (0, 5),\n",
    "              frame_width = 500,\n",
    "              frame_height = 300,\n",
    "              tools = TOOLS2,\n",
    "              toolbar_location = 'right')\n",
    "\n",
    "p1.vbar(x = queens_data['pickup_hour'], top = queens_data['avg_tolls_amount'], width = 0.9, color = '#009B72')\n",
    "\n",
    "p2 = figure(title = f'Average Tolls Amount by Pickup Hour for Bronx',\n",
    "              x_axis_label = 'Pickup Hour',\n",
    "              y_axis_label = 'Average Tolls Amount',\n",
    "              x_range = (0,23),\n",
    "              y_range = (0, 5),\n",
    "              frame_width = 500,\n",
    "              frame_height = 300,\n",
    "              tools = TOOLS2,\n",
    "              toolbar_location = 'right')\n",
    "\n",
    "p2.vbar(x = bronx_data['pickup_hour'], top = bronx_data['avg_tolls_amount'], width = 0.9, color = '#F25F5C')\n",
    "\n",
    "p3 = figure(title = f'Average Tolls Amount by Pickup Hour for Brooklyn',\n",
    "              x_axis_label = 'Pickup Hour',\n",
    "                y_axis_label = 'Average Tolls Amount',\n",
    "                x_range = (0,23),\n",
    "                y_range = (0, 5),\n",
    "                frame_width = 500,\n",
    "                frame_height = 300,\n",
    "                tools = TOOLS2,\n",
    "                toolbar_location = 'right')\n",
    "\n",
    "p3.vbar(x = brooklyn_data['pickup_hour'], top = brooklyn_data['avg_tolls_amount'], width = 0.9, color = '#009DDC')\n",
    "\n",
    "p4 = figure(title = f'Average Tolls Amount by Pickup Hour for Manhattan',\n",
    "              x_axis_label = 'Pickup Hour',\n",
    "                y_axis_label = 'Average Tolls Amount',\n",
    "                x_range = (0,23),\n",
    "                y_range = (0, 5),\n",
    "                frame_width = 500,\n",
    "                frame_height = 300,\n",
    "                tools = TOOLS2,\n",
    "                toolbar_location = 'right')\n",
    "\n",
    "p4.vbar(x = manhattan_data['pickup_hour'], top = manhattan_data['avg_tolls_amount'], width = 0.9, color = '#50514F')\n",
    "\n",
    "grid = gridplot([[p1, p2], [p3, p4]], width = 250, height = 250)\n",
    "\n",
    "show(grid)"
   ]
  },
  {
   "attachments": {},
   "cell_type": "markdown",
   "id": "e454e56a",
   "metadata": {},
   "source": [
    "As we can see from the graphs, the districts with the highest tolls is the district of Queens. \n",
    "- Tolls in the district of Queens (bar plot top left) are always higher than 3, except for 1am, 2am and 3am.\n",
    "- Tolls in the district of Bronx (bar plot top right) are oddly distributed, we can see that tolls are practically at maximum from midnight to 3am and at 7am, midday, 3pm and 5pm.\n",
    "- Tolls in the district of Brooklyn (bar plot bottom left) are always higher than 1 from midnight till 7am, then there is a peak at toll amount of 5 at 11am. \n",
    "- Tolls in the district of Manhattan (bar plot bottom right) are always lower than 4, we can also notice that the tolls amount is equal to or lower than 1 in the morning from midnight to 4am and at night from 8pm to midnight. The plot about Manhattan seems like a Normal Distribution and reflects working hours in which people commute.\n",
    "\n",
    "We can identify a trend in the tolls during the day. For example, at 11am are always equal to or higher than 3."
   ]
  },
  {
   "attachments": {},
   "cell_type": "markdown",
   "id": "884b4cf9",
   "metadata": {},
   "source": [
    "### Exercise 6\n",
    "Create a dataframe that for each district shows the shortest and longest `trip_distance` starting and ending in the same district. What is the length of the longest and shortest trips in Manhattan?"
   ]
  },
  {
   "cell_type": "code",
   "execution_count": 213,
   "id": "0aa8d795",
   "metadata": {},
   "outputs": [
    {
     "data": {
      "text/html": [
       "<table border='1'>\n",
       "<tr><th>pickup_borough</th><th>dropoff_borough</th><th>min_trip_distance</th><th>max_trip_distance</th></tr>\n",
       "<tr><td>Manhattan</td><td>Manhattan</td><td>0.0</td><td>100.0</td></tr>\n",
       "</table>\n"
      ],
      "text/plain": [
       "+--------------+---------------+-----------------+-----------------+\n",
       "|pickup_borough|dropoff_borough|min_trip_distance|max_trip_distance|\n",
       "+--------------+---------------+-----------------+-----------------+\n",
       "|     Manhattan|      Manhattan|              0.0|            100.0|\n",
       "+--------------+---------------+-----------------+-----------------+"
      ]
     },
     "execution_count": 213,
     "metadata": {},
     "output_type": "execute_result"
    }
   ],
   "source": [
    "trip9 = session.sql('''\n",
    "    SELECT pickup_borough, dropoff_borough, MIN(trip_distance) AS min_trip_distance, MAX(trip_distance) AS max_trip_distance\n",
    "    FROM trip3_csv\n",
    "    WHERE pickup_borough == dropoff_borough AND pickup_borough == 'Manhattan'\n",
    "    GROUP BY pickup_borough, dropoff_borough\n",
    "''')\n",
    "trip9"
   ]
  },
  {
   "attachments": {},
   "cell_type": "markdown",
   "id": "6b02c984",
   "metadata": {},
   "source": [
    "The longest trip within Manhattan has distance 100.0, while the shortest trip within Manhattan has distance 0.0."
   ]
  },
  {
   "attachments": {},
   "cell_type": "markdown",
   "id": "756da7e4",
   "metadata": {},
   "source": [
    "### Exercise 7\n",
    "Consider only the trips _within_ districts. What are the first and second-most expensive\n",
    "trips - based on `total_amount` - in every district?"
   ]
  },
  {
   "cell_type": "code",
   "execution_count": 212,
   "id": "ca83556d",
   "metadata": {},
   "outputs": [
    {
     "data": {
      "text/html": [
       "<table border='1'>\n",
       "<tr><th>pickup_borough</th><th>dropoff_borough</th><th>total_amount</th></tr>\n",
       "<tr><td>Manhattan</td><td>Manhattan</td><td>[500.0, 475.0]</td></tr>\n",
       "<tr><td>Brooklyn</td><td>Brooklyn</td><td>[180.25, 130.25]</td></tr>\n",
       "<tr><td>Queens</td><td>Queens</td><td>[138.0, 116.0]</td></tr>\n",
       "<tr><td>Bronx</td><td>Bronx</td><td>[84.0, 80.0]</td></tr>\n",
       "<tr><td>Other</td><td>Other</td><td>[321.05, 317.0]</td></tr>\n",
       "<tr><td>Staten Island</td><td>Staten Island</td><td>[91.25, 89.6]</td></tr>\n",
       "</table>\n"
      ],
      "text/plain": [
       "+--------------+---------------+----------------+\n",
       "|pickup_borough|dropoff_borough|    total_amount|\n",
       "+--------------+---------------+----------------+\n",
       "|     Manhattan|      Manhattan|  [500.0, 475.0]|\n",
       "|      Brooklyn|       Brooklyn|[180.25, 130.25]|\n",
       "|        Queens|         Queens|  [138.0, 116.0]|\n",
       "|         Bronx|          Bronx|    [84.0, 80.0]|\n",
       "|         Other|          Other| [321.05, 317.0]|\n",
       "| Staten Island|  Staten Island|   [91.25, 89.6]|\n",
       "+--------------+---------------+----------------+"
      ]
     },
     "execution_count": 212,
     "metadata": {},
     "output_type": "execute_result"
    }
   ],
   "source": [
    "trip10 = trip3_csv.select('pickup_borough', 'dropoff_borough', 'total_amount') \\\n",
    "    .where(trip3_csv['pickup_borough'] == trip3_csv['dropoff_borough']) \\\n",
    "    .orderBy(trip3_csv['total_amount'].desc())\n",
    "\n",
    "most_exp_d = trip10.groupby('pickup_borough', 'dropoff_borough').agg(F.collect_list('total_amount').alias('total_amount')) \\\n",
    "    .withColumn('total_amount', F.sort_array('total_amount', asc = False)) \\\n",
    "    .withColumn('total_amount', F.slice('total_amount', 1, 2))\n",
    "most_exp_d"
   ]
  },
  {
   "attachments": {},
   "cell_type": "markdown",
   "id": "4f1e0800",
   "metadata": {},
   "source": [
    "### Exercise 8\n",
    "Create a dataframe where each row represents a driver, and there is one column per district.\n",
    "For each driver-district, the dataframe provides the maximum number of consecutive trips\n",
    "for the given driver, within the given district. \n",
    "\n",
    "For example, if for driver A we have (sorted by time):\n",
    "- Trip 1: Bronx → Bronx\n",
    "- Trip 2: Bronx → Bronx\n",
    "- Trip 3: Bronx → Manhattan\n",
    "- Trip 4: Manhattan → Bronx.\n",
    "    \n",
    "The maximum number of consecutive trips for Bronx is 2."
   ]
  },
  {
   "cell_type": "code",
   "execution_count": 54,
   "id": "78249960",
   "metadata": {},
   "outputs": [
    {
     "data": {
      "text/html": [
       "<table border='1'>\n",
       "<tr><th>hack_license</th><th>pickup_datetime</th><th>dropoff_datetime</th><th>pickup_borough</th><th>dropoff_borough</th></tr>\n",
       "<tr><td>F4B5F923554A0BB82...</td><td>2013-01-01 00:00:00</td><td>2013-01-01 00:09:00</td><td>Manhattan</td><td>Manhattan</td></tr>\n",
       "<tr><td>252392FA3463A93EC...</td><td>2013-01-01 00:00:00</td><td>2013-01-01 00:11:00</td><td>Manhattan</td><td>Manhattan</td></tr>\n",
       "<tr><td>E7869308480393458...</td><td>2013-01-01 00:00:00</td><td>2013-01-01 00:14:00</td><td>Manhattan</td><td>Queens</td></tr>\n",
       "<tr><td>A743BF59156638867...</td><td>2013-01-01 00:00:00</td><td>2013-01-01 00:13:00</td><td>Manhattan</td><td>Manhattan</td></tr>\n",
       "<tr><td>B9C38E251CF991EF5...</td><td>2013-01-01 00:00:00</td><td>2013-01-01 00:19:00</td><td>Manhattan</td><td>Manhattan</td></tr>\n",
       "<tr><td>452B322CA3BB3132F...</td><td>2013-01-01 00:00:00</td><td>2013-01-01 00:03:00</td><td>Manhattan</td><td>Manhattan</td></tr>\n",
       "<tr><td>BB899DFEA9CC964B5...</td><td>2013-01-01 00:00:00</td><td>2013-01-01 00:04:00</td><td>Manhattan</td><td>Manhattan</td></tr>\n",
       "<tr><td>562847F5581EEC46B...</td><td>2013-01-01 00:00:00</td><td>2013-01-01 00:15:29</td><td>Manhattan</td><td>Brooklyn</td></tr>\n",
       "<tr><td>FECE89B16DF0601CC...</td><td>2013-01-01 00:00:00</td><td>2013-01-01 00:05:00</td><td>Manhattan</td><td>Manhattan</td></tr>\n",
       "<tr><td>632F6951F36191B8B...</td><td>2013-01-01 00:00:00</td><td>2013-01-01 00:41:00</td><td>Manhattan</td><td>Other</td></tr>\n",
       "<tr><td>9F4A98FA581907FC2...</td><td>2013-01-01 00:00:00</td><td>2013-01-01 00:03:00</td><td>Manhattan</td><td>Manhattan</td></tr>\n",
       "<tr><td>4414532CAA2AFB705...</td><td>2013-01-01 00:00:00</td><td>2013-01-01 00:04:00</td><td>Manhattan</td><td>Manhattan</td></tr>\n",
       "<tr><td>E58D07823A60C6361...</td><td>2013-01-01 00:00:00</td><td>2013-01-01 00:05:00</td><td>Brooklyn</td><td>Brooklyn</td></tr>\n",
       "<tr><td>EFDC0E4E4E8A493FF...</td><td>2013-01-01 00:00:00</td><td>2013-01-01 00:11:00</td><td>Queens</td><td>Queens</td></tr>\n",
       "<tr><td>CABFA7E28A15A656C...</td><td>2013-01-01 00:00:00</td><td>2013-01-01 00:19:00</td><td>Manhattan</td><td>Manhattan</td></tr>\n",
       "<tr><td>E7750A37CAB07D0DF...</td><td>2013-01-01 00:00:00</td><td>2013-01-01 00:02:00</td><td>Brooklyn</td><td>Brooklyn</td></tr>\n",
       "<tr><td>BAC146F5AA74DE304...</td><td>2013-01-01 00:00:00</td><td>2013-01-01 00:03:00</td><td>Manhattan</td><td>Manhattan</td></tr>\n",
       "<tr><td>B7567F5BFD558C665...</td><td>2013-01-01 00:00:00</td><td>2013-01-01 00:04:00</td><td>Manhattan</td><td>Manhattan</td></tr>\n",
       "<tr><td>33276CA24A915CBD6...</td><td>2013-01-01 00:00:00</td><td>2013-01-01 00:02:44</td><td>Manhattan</td><td>Manhattan</td></tr>\n",
       "<tr><td>99F99E5E7AB15A717...</td><td>2013-01-01 00:00:00</td><td>2013-01-01 00:05:00</td><td>Manhattan</td><td>Manhattan</td></tr>\n",
       "</table>\n",
       "only showing top 20 rows\n"
      ],
      "text/plain": [
       "+--------------------+-------------------+-------------------+--------------+---------------+\n",
       "|        hack_license|    pickup_datetime|   dropoff_datetime|pickup_borough|dropoff_borough|\n",
       "+--------------------+-------------------+-------------------+--------------+---------------+\n",
       "|4E0CF2EFC2B6F83FB...|2013-01-01 00:00:00|2013-01-01 00:07:00|     Manhattan|      Manhattan|\n",
       "|B5BF7939D0813CA5D...|2013-01-01 00:00:00|2013-01-01 00:11:00|     Manhattan|      Manhattan|\n",
       "|FECE89B16DF0601CC...|2013-01-01 00:00:00|2013-01-01 00:05:00|     Manhattan|      Manhattan|\n",
       "|CC7A4176549BA819E...|2013-01-01 00:00:00|2013-01-01 00:03:00|     Manhattan|      Manhattan|\n",
       "|E7869308480393458...|2013-01-01 00:00:00|2013-01-01 00:14:00|     Manhattan|         Queens|\n",
       "|7264192937469CAED...|2013-01-01 00:00:00|2013-01-01 00:10:00|     Manhattan|      Manhattan|\n",
       "|BAC146F5AA74DE304...|2013-01-01 00:00:00|2013-01-01 00:03:00|     Manhattan|      Manhattan|\n",
       "|FB0B6758E00519A6D...|2013-01-01 00:00:00|2013-01-01 00:39:00|     Manhattan|      Manhattan|\n",
       "|252392FA3463A93EC...|2013-01-01 00:00:00|2013-01-01 00:11:00|     Manhattan|      Manhattan|\n",
       "|4D85F9862CD0E1675...|2013-01-01 00:00:00|2013-01-01 00:07:00|     Manhattan|      Manhattan|\n",
       "|8E8F8542A697D51B3...|2013-01-01 00:00:00|2013-01-01 00:16:00|     Manhattan|      Manhattan|\n",
       "|6EC4BD844C40B9A94...|2013-01-01 00:00:00|2013-01-01 00:05:00|     Manhattan|      Manhattan|\n",
       "|BB899DFEA9CC964B5...|2013-01-01 00:00:00|2013-01-01 00:04:00|     Manhattan|      Manhattan|\n",
       "|B1515483BAAFBC7DB...|2013-01-01 00:00:00|2013-01-01 00:10:00|     Manhattan|      Manhattan|\n",
       "|A2F2D414DBDD0B39D...|2013-01-01 00:00:00|2013-01-01 00:23:00|     Manhattan|      Manhattan|\n",
       "|F4B5F923554A0BB82...|2013-01-01 00:00:00|2013-01-01 00:09:00|     Manhattan|      Manhattan|\n",
       "|635AA109F63CDD23F...|2013-01-01 00:00:00|2013-01-01 00:13:00|     Manhattan|      Manhattan|\n",
       "|9F4A98FA581907FC2...|2013-01-01 00:00:00|2013-01-01 00:03:00|     Manhattan|      Manhattan|\n",
       "|A743BF59156638867...|2013-01-01 00:00:00|2013-01-01 00:13:00|     Manhattan|      Manhattan|\n",
       "|B9C38E251CF991EF5...|2013-01-01 00:00:00|2013-01-01 00:19:00|     Manhattan|      Manhattan|\n",
       "+--------------------+-------------------+-------------------+--------------+---------------+\n",
       "only showing top 20 rows"
      ]
     },
     "execution_count": 54,
     "metadata": {},
     "output_type": "execute_result"
    }
   ],
   "source": [
    "trip11 = trip3_csv.select('hack_license', 'pickup_datetime', 'dropoff_datetime', 'pickup_borough', 'dropoff_borough') \\\n",
    "    .orderBy('pickup_datetime')\n",
    "trip11"
   ]
  },
  {
   "cell_type": "code",
   "execution_count": 192,
   "id": "e2b142ae",
   "metadata": {},
   "outputs": [
    {
     "name": "stderr",
     "output_type": "stream",
     "text": [
      "23/06/01 16:30:28 WARN SimpleFunctionRegistry: The function consecutive_trips_udf replaced a previously registered function.\n"
     ]
    },
    {
     "data": {
      "text/html": [
       "<table border='1'>\n",
       "<tr><th>hack_license</th><th>pickup_time</th><th>dropoff_time</th><th>current_borough</th><th>next_borough</th><th>same_borough</th><th>consecutive_trips</th></tr>\n",
       "<tr><td>005DC767BC7CA7827...</td><td>11:45:50</td><td>11:49:53</td><td>Manhattan</td><td>Manhattan</td><td>1</td><td>1</td></tr>\n",
       "<tr><td>005DC767BC7CA7827...</td><td>11:51:07</td><td>11:55:28</td><td>Manhattan</td><td>Manhattan</td><td>1</td><td>2</td></tr>\n",
       "<tr><td>005DC767BC7CA7827...</td><td>11:59:12</td><td>12:13:29</td><td>Manhattan</td><td>Manhattan</td><td>1</td><td>3</td></tr>\n",
       "<tr><td>005DC767BC7CA7827...</td><td>12:14:47</td><td>12:19:17</td><td>Manhattan</td><td>Manhattan</td><td>1</td><td>4</td></tr>\n",
       "<tr><td>005DC767BC7CA7827...</td><td>12:21:12</td><td>12:34:58</td><td>Manhattan</td><td>Manhattan</td><td>1</td><td>5</td></tr>\n",
       "<tr><td>005DC767BC7CA7827...</td><td>12:38:55</td><td>12:45:19</td><td>Manhattan</td><td>Manhattan</td><td>1</td><td>6</td></tr>\n",
       "<tr><td>005DC767BC7CA7827...</td><td>12:49:41</td><td>12:53:11</td><td>Manhattan</td><td>Manhattan</td><td>1</td><td>7</td></tr>\n",
       "<tr><td>005DC767BC7CA7827...</td><td>12:55:27</td><td>13:02:41</td><td>Manhattan</td><td>Manhattan</td><td>1</td><td>8</td></tr>\n",
       "<tr><td>005DC767BC7CA7827...</td><td>13:04:44</td><td>13:10:29</td><td>Manhattan</td><td>Manhattan</td><td>1</td><td>9</td></tr>\n",
       "<tr><td>005DC767BC7CA7827...</td><td>13:16:26</td><td>13:17:06</td><td>Manhattan</td><td>Manhattan</td><td>1</td><td>10</td></tr>\n",
       "<tr><td>005DC767BC7CA7827...</td><td>13:18:03</td><td>13:25:38</td><td>Manhattan</td><td>Manhattan</td><td>1</td><td>11</td></tr>\n",
       "<tr><td>005DC767BC7CA7827...</td><td>13:27:21</td><td>13:37:37</td><td>Manhattan</td><td>Manhattan</td><td>1</td><td>12</td></tr>\n",
       "<tr><td>005DC767BC7CA7827...</td><td>13:41:38</td><td>14:02:14</td><td>Manhattan</td><td>Manhattan</td><td>1</td><td>13</td></tr>\n",
       "<tr><td>005DC767BC7CA7827...</td><td>14:03:43</td><td>14:07:56</td><td>Manhattan</td><td>Manhattan</td><td>1</td><td>14</td></tr>\n",
       "<tr><td>005DC767BC7CA7827...</td><td>14:10:40</td><td>14:19:18</td><td>Manhattan</td><td>Manhattan</td><td>1</td><td>15</td></tr>\n",
       "<tr><td>005DC767BC7CA7827...</td><td>14:28:54</td><td>14:32:29</td><td>Manhattan</td><td>null</td><td>0</td><td>0</td></tr>\n",
       "<tr><td>005DC767BC7CA7827...</td><td>14:34:43</td><td>14:57:14</td><td>null</td><td>null</td><td>0</td><td>0</td></tr>\n",
       "<tr><td>005DC767BC7CA7827...</td><td>15:17:30</td><td>15:32:56</td><td>null</td><td>Manhattan</td><td>0</td><td>0</td></tr>\n",
       "<tr><td>005DC767BC7CA7827...</td><td>15:38:50</td><td>15:42:40</td><td>Manhattan</td><td>Manhattan</td><td>1</td><td>1</td></tr>\n",
       "<tr><td>005DC767BC7CA7827...</td><td>15:48:26</td><td>15:53:11</td><td>Manhattan</td><td>Manhattan</td><td>1</td><td>2</td></tr>\n",
       "</table>\n",
       "only showing top 20 rows\n"
      ],
      "text/plain": [
       "+--------------------+-----------+------------+---------------+------------+------------+-----------------+\n",
       "|        hack_license|pickup_time|dropoff_time|current_borough|next_borough|same_borough|consecutive_trips|\n",
       "+--------------------+-----------+------------+---------------+------------+------------+-----------------+\n",
       "|005DC767BC7CA7827...|   11:45:50|    11:49:53|      Manhattan|   Manhattan|           1|                1|\n",
       "|005DC767BC7CA7827...|   11:51:07|    11:55:28|      Manhattan|   Manhattan|           1|                2|\n",
       "|005DC767BC7CA7827...|   11:59:12|    12:13:29|      Manhattan|   Manhattan|           1|                3|\n",
       "|005DC767BC7CA7827...|   12:14:47|    12:19:17|      Manhattan|   Manhattan|           1|                4|\n",
       "|005DC767BC7CA7827...|   12:21:12|    12:34:58|      Manhattan|   Manhattan|           1|                5|\n",
       "|005DC767BC7CA7827...|   12:38:55|    12:45:19|      Manhattan|   Manhattan|           1|                6|\n",
       "|005DC767BC7CA7827...|   12:49:41|    12:53:11|      Manhattan|   Manhattan|           1|                7|\n",
       "|005DC767BC7CA7827...|   12:55:27|    13:02:41|      Manhattan|   Manhattan|           1|                8|\n",
       "|005DC767BC7CA7827...|   13:04:44|    13:10:29|      Manhattan|   Manhattan|           1|                9|\n",
       "|005DC767BC7CA7827...|   13:16:26|    13:17:06|      Manhattan|   Manhattan|           1|               10|\n",
       "|005DC767BC7CA7827...|   13:18:03|    13:25:38|      Manhattan|   Manhattan|           1|               11|\n",
       "|005DC767BC7CA7827...|   13:27:21|    13:37:37|      Manhattan|   Manhattan|           1|               12|\n",
       "|005DC767BC7CA7827...|   13:41:38|    14:02:14|      Manhattan|   Manhattan|           1|               13|\n",
       "|005DC767BC7CA7827...|   14:03:43|    14:07:56|      Manhattan|   Manhattan|           1|               14|\n",
       "|005DC767BC7CA7827...|   14:10:40|    14:19:18|      Manhattan|   Manhattan|           1|               15|\n",
       "|005DC767BC7CA7827...|   14:28:54|    14:32:29|      Manhattan|        null|           0|                0|\n",
       "|005DC767BC7CA7827...|   14:34:43|    14:57:14|           null|        null|           0|                0|\n",
       "|005DC767BC7CA7827...|   15:17:30|    15:32:56|           null|   Manhattan|           0|                0|\n",
       "|005DC767BC7CA7827...|   15:38:50|    15:42:40|      Manhattan|   Manhattan|           1|                1|\n",
       "|005DC767BC7CA7827...|   15:48:26|    15:53:11|      Manhattan|   Manhattan|           1|                2|\n",
       "+--------------------+-----------+------------+---------------+------------+------------+-----------------+\n",
       "only showing top 20 rows"
      ]
     },
     "execution_count": 192,
     "metadata": {},
     "output_type": "execute_result"
    }
   ],
   "source": [
    "window = Window.orderBy('pickup_time').partitionBy('hack_license')\n",
    "\n",
    "sum = 0\n",
    "def consecutive_trips(same_borough_col):\n",
    "    global sum\n",
    "    if same_borough_col == 1:\n",
    "        sum += 1\n",
    "        return sum\n",
    "    else:\n",
    "        sum = 0\n",
    "        return sum\n",
    "\n",
    "\n",
    "consecutive_trips_udf = F.udf(consecutive_trips, returnType=IntegerType())\n",
    "session.udf.register('consecutive_trips_udf', consecutive_trips_udf)\n",
    "\n",
    "trip11a = trip11.withColumn('pickup_time', F.date_format('pickup_datetime', 'HH:mm:ss')) \\\n",
    "    .withColumn('dropoff_time', F.date_format('dropoff_datetime', 'HH:mm:ss')) \\\n",
    "    .withColumn('next_pickup_borough', F.lead('pickup_borough').over(window)) \\\n",
    "    .withColumn('next_dropoff_borough', F.lead('dropoff_borough').over(window)) \\\n",
    "    .withColumn('current_borough', F.when(F.col('pickup_borough') == F.col('dropoff_borough'), F.col('pickup_borough'))) \\\n",
    "    .withColumn('next_borough', F.when(F.col('next_pickup_borough') == F.col('next_dropoff_borough'), F.col('next_pickup_borough'))) \\\n",
    "    .withColumn('same_borough', when(col('current_borough') == col('next_borough'), 1).otherwise(0)) \\\n",
    "    .withColumn('consecutive_trips', consecutive_trips_udf(col('same_borough'))) \\\n",
    "    .drop('next_pickup_borough', 'next_dropoff_borough', 'pickup_borough', 'dropoff_borough', 'pickup_datetime', 'dropoff_datetime')\n",
    "trip11a"
   ]
  },
  {
   "cell_type": "code",
   "execution_count": 189,
   "id": "54304723",
   "metadata": {},
   "outputs": [
    {
     "name": "stderr",
     "output_type": "stream",
     "text": [
      "                                                                                \r"
     ]
    },
    {
     "data": {
      "text/html": [
       "<table border='1'>\n",
       "<tr><th>hack_license</th><th>Bronx</th><th>Brooklyn</th><th>Manhattan</th><th>Other</th><th>Queens</th><th>Staten Island</th></tr>\n",
       "<tr><td>01606C9E10D8D0B19...</td><td>0</td><td>0</td><td>19</td><td>0</td><td>0</td><td>0</td></tr>\n",
       "<tr><td>02548BECEDACA82F0...</td><td>0</td><td>1</td><td>5</td><td>0</td><td>0</td><td>0</td></tr>\n",
       "<tr><td>02856AFC22881ABCA...</td><td>0</td><td>0</td><td>15</td><td>0</td><td>0</td><td>0</td></tr>\n",
       "<tr><td>03A2D28F831C5C3E5...</td><td>0</td><td>0</td><td>16</td><td>0</td><td>0</td><td>0</td></tr>\n",
       "<tr><td>069B5562096AF7684...</td><td>0</td><td>0</td><td>4</td><td>0</td><td>0</td><td>0</td></tr>\n",
       "<tr><td>0ABC9AB316BE37A29...</td><td>0</td><td>0</td><td>5</td><td>0</td><td>0</td><td>0</td></tr>\n",
       "<tr><td>0FBF11956EE14B253...</td><td>0</td><td>0</td><td>22</td><td>0</td><td>0</td><td>0</td></tr>\n",
       "<tr><td>130328475AD7427AF...</td><td>0</td><td>0</td><td>5</td><td>0</td><td>0</td><td>0</td></tr>\n",
       "<tr><td>138B0A7B7D3B898E4...</td><td>0</td><td>0</td><td>10</td><td>0</td><td>0</td><td>0</td></tr>\n",
       "<tr><td>1480A09D886B1A2CD...</td><td>0</td><td>0</td><td>1</td><td>0</td><td>0</td><td>0</td></tr>\n",
       "<tr><td>1B1E5E9C261486674...</td><td>0</td><td>0</td><td>14</td><td>0</td><td>0</td><td>0</td></tr>\n",
       "<tr><td>213681DDDA5D57D1B...</td><td>0</td><td>0</td><td>2</td><td>0</td><td>0</td><td>0</td></tr>\n",
       "<tr><td>28A7C858D9231A3EC...</td><td>0</td><td>0</td><td>9</td><td>0</td><td>0</td><td>0</td></tr>\n",
       "<tr><td>2DAA4D12B5DC5F14A...</td><td>0</td><td>0</td><td>1</td><td>0</td><td>0</td><td>0</td></tr>\n",
       "<tr><td>31195E1D3AA1EC26D...</td><td>0</td><td>0</td><td>14</td><td>0</td><td>0</td><td>0</td></tr>\n",
       "<tr><td>3183016714F5E253E...</td><td>0</td><td>0</td><td>6</td><td>0</td><td>0</td><td>0</td></tr>\n",
       "<tr><td>34C4E7DC068CF972E...</td><td>0</td><td>0</td><td>4</td><td>0</td><td>0</td><td>0</td></tr>\n",
       "<tr><td>37C7248EB80ECCEF6...</td><td>0</td><td>0</td><td>4</td><td>0</td><td>2</td><td>0</td></tr>\n",
       "<tr><td>388F1DDDD0CBC5772...</td><td>0</td><td>0</td><td>11</td><td>0</td><td>0</td><td>0</td></tr>\n",
       "<tr><td>3AC029E3FC89D90C0...</td><td>0</td><td>0</td><td>24</td><td>0</td><td>0</td><td>0</td></tr>\n",
       "</table>\n",
       "only showing top 20 rows\n"
      ],
      "text/plain": [
       "+--------------------+-----+--------+---------+-----+------+-------------+\n",
       "|        hack_license|Bronx|Brooklyn|Manhattan|Other|Queens|Staten Island|\n",
       "+--------------------+-----+--------+---------+-----+------+-------------+\n",
       "|01606C9E10D8D0B19...|    0|       0|       19|    0|     0|            0|\n",
       "|02548BECEDACA82F0...|    0|       1|        5|    0|     0|            0|\n",
       "|02856AFC22881ABCA...|    0|       0|       15|    0|     0|            0|\n",
       "|03A2D28F831C5C3E5...|    0|       0|       16|    0|     0|            0|\n",
       "|069B5562096AF7684...|    0|       0|        4|    0|     0|            0|\n",
       "|0ABC9AB316BE37A29...|    0|       0|        5|    0|     0|            0|\n",
       "|0FBF11956EE14B253...|    0|       0|       22|    0|     0|            0|\n",
       "|130328475AD7427AF...|    0|       0|        5|    0|     0|            0|\n",
       "|138B0A7B7D3B898E4...|    0|       0|       10|    0|     0|            0|\n",
       "|1480A09D886B1A2CD...|    0|       0|        1|    0|     0|            0|\n",
       "|1B1E5E9C261486674...|    0|       0|       14|    0|     0|            0|\n",
       "|213681DDDA5D57D1B...|    0|       0|        2|    0|     0|            0|\n",
       "|28A7C858D9231A3EC...|    0|       0|        9|    0|     0|            0|\n",
       "|2DAA4D12B5DC5F14A...|    0|       0|        1|    0|     0|            0|\n",
       "|31195E1D3AA1EC26D...|    0|       0|       14|    0|     0|            0|\n",
       "|3183016714F5E253E...|    0|       0|        6|    0|     0|            0|\n",
       "|34C4E7DC068CF972E...|    0|       0|        4|    0|     0|            0|\n",
       "|37C7248EB80ECCEF6...|    0|       0|        4|    0|     2|            0|\n",
       "|388F1DDDD0CBC5772...|    0|       0|       11|    0|     0|            0|\n",
       "|3AC029E3FC89D90C0...|    0|       0|       24|    0|     0|            0|\n",
       "+--------------------+-----+--------+---------+-----+------+-------------+\n",
       "only showing top 20 rows"
      ]
     },
     "execution_count": 189,
     "metadata": {},
     "output_type": "execute_result"
    }
   ],
   "source": [
    "trip11_pivot = trip11a.groupby('hack_license').pivot('current_borough').agg(F.max('consecutive_trips')) \\\n",
    "    .fillna(0).drop('null')\n",
    "trip11_pivot"
   ]
  }
 ],
 "metadata": {
  "kernelspec": {
   "display_name": "VAA",
   "language": "python",
   "name": "vaa"
  },
  "language_info": {
   "codemirror_mode": {
    "name": "ipython",
    "version": 3
   },
   "file_extension": ".py",
   "mimetype": "text/x-python",
   "name": "python",
   "nbconvert_exporter": "python",
   "pygments_lexer": "ipython3",
   "version": "3.9.13"
  }
 },
 "nbformat": 4,
 "nbformat_minor": 5
}
